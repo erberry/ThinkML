{
  "nbformat": 4,
  "nbformat_minor": 0,
  "metadata": {
    "colab": {
      "provenance": [],
      "collapsed_sections": [
        "2IcIMo1N4SdV",
        "uR9XO0Fh4dZU",
        "z86RGJON5KuE",
        "sr1gdSVJ5_8I",
        "uBhs3fnH8y5x",
        "Z9OdcRvrDGix",
        "PtDRJkDySlq9"
      ],
      "authorship_tag": "ABX9TyNASKWNr+pHFWnUdzNNOI/2",
      "include_colab_link": true
    },
    "kernelspec": {
      "name": "python3",
      "display_name": "Python 3"
    },
    "language_info": {
      "name": "python"
    },
    "widgets": {
      "application/vnd.jupyter.widget-state+json": {
        "bce70eadc1bd4c6da40445790bde6b94": {
          "model_module": "@jupyter-widgets/controls",
          "model_name": "HBoxModel",
          "model_module_version": "1.5.0",
          "state": {
            "_dom_classes": [],
            "_model_module": "@jupyter-widgets/controls",
            "_model_module_version": "1.5.0",
            "_model_name": "HBoxModel",
            "_view_count": null,
            "_view_module": "@jupyter-widgets/controls",
            "_view_module_version": "1.5.0",
            "_view_name": "HBoxView",
            "box_style": "",
            "children": [
              "IPY_MODEL_ac24cd5d7e6848faa733cd7c048bb691",
              "IPY_MODEL_ce14795dc2b142aca2c73ebbdb13c919",
              "IPY_MODEL_d1ed84446d2a48db8aea91b71c864879"
            ],
            "layout": "IPY_MODEL_53f27224bede456093b3db422165aec6"
          }
        },
        "ac24cd5d7e6848faa733cd7c048bb691": {
          "model_module": "@jupyter-widgets/controls",
          "model_name": "HTMLModel",
          "model_module_version": "1.5.0",
          "state": {
            "_dom_classes": [],
            "_model_module": "@jupyter-widgets/controls",
            "_model_module_version": "1.5.0",
            "_model_name": "HTMLModel",
            "_view_count": null,
            "_view_module": "@jupyter-widgets/controls",
            "_view_module_version": "1.5.0",
            "_view_name": "HTMLView",
            "description": "",
            "description_tooltip": null,
            "layout": "IPY_MODEL_04872859c7f845d1bbcb2ccd4f432bbc",
            "placeholder": "​",
            "style": "IPY_MODEL_59e3626d1f7e44eabe31c5cebb9a6a80",
            "value": "Downloading (…)olve/main/vocab.json: 100%"
          }
        },
        "ce14795dc2b142aca2c73ebbdb13c919": {
          "model_module": "@jupyter-widgets/controls",
          "model_name": "FloatProgressModel",
          "model_module_version": "1.5.0",
          "state": {
            "_dom_classes": [],
            "_model_module": "@jupyter-widgets/controls",
            "_model_module_version": "1.5.0",
            "_model_name": "FloatProgressModel",
            "_view_count": null,
            "_view_module": "@jupyter-widgets/controls",
            "_view_module_version": "1.5.0",
            "_view_name": "ProgressView",
            "bar_style": "success",
            "description": "",
            "description_tooltip": null,
            "layout": "IPY_MODEL_0a6bf8a554474cb0b9f13ea8be043593",
            "max": 1042301,
            "min": 0,
            "orientation": "horizontal",
            "style": "IPY_MODEL_8da472ef419845f89106eb3c6c203c55",
            "value": 1042301
          }
        },
        "d1ed84446d2a48db8aea91b71c864879": {
          "model_module": "@jupyter-widgets/controls",
          "model_name": "HTMLModel",
          "model_module_version": "1.5.0",
          "state": {
            "_dom_classes": [],
            "_model_module": "@jupyter-widgets/controls",
            "_model_module_version": "1.5.0",
            "_model_name": "HTMLModel",
            "_view_count": null,
            "_view_module": "@jupyter-widgets/controls",
            "_view_module_version": "1.5.0",
            "_view_name": "HTMLView",
            "description": "",
            "description_tooltip": null,
            "layout": "IPY_MODEL_636fe792dfce4b1897dae29961d903b4",
            "placeholder": "​",
            "style": "IPY_MODEL_cfa0227c440d4b3aa34fe967bb25cb0c",
            "value": " 1.04M/1.04M [00:00&lt;00:00, 7.50MB/s]"
          }
        },
        "53f27224bede456093b3db422165aec6": {
          "model_module": "@jupyter-widgets/base",
          "model_name": "LayoutModel",
          "model_module_version": "1.2.0",
          "state": {
            "_model_module": "@jupyter-widgets/base",
            "_model_module_version": "1.2.0",
            "_model_name": "LayoutModel",
            "_view_count": null,
            "_view_module": "@jupyter-widgets/base",
            "_view_module_version": "1.2.0",
            "_view_name": "LayoutView",
            "align_content": null,
            "align_items": null,
            "align_self": null,
            "border": null,
            "bottom": null,
            "display": null,
            "flex": null,
            "flex_flow": null,
            "grid_area": null,
            "grid_auto_columns": null,
            "grid_auto_flow": null,
            "grid_auto_rows": null,
            "grid_column": null,
            "grid_gap": null,
            "grid_row": null,
            "grid_template_areas": null,
            "grid_template_columns": null,
            "grid_template_rows": null,
            "height": null,
            "justify_content": null,
            "justify_items": null,
            "left": null,
            "margin": null,
            "max_height": null,
            "max_width": null,
            "min_height": null,
            "min_width": null,
            "object_fit": null,
            "object_position": null,
            "order": null,
            "overflow": null,
            "overflow_x": null,
            "overflow_y": null,
            "padding": null,
            "right": null,
            "top": null,
            "visibility": null,
            "width": null
          }
        },
        "04872859c7f845d1bbcb2ccd4f432bbc": {
          "model_module": "@jupyter-widgets/base",
          "model_name": "LayoutModel",
          "model_module_version": "1.2.0",
          "state": {
            "_model_module": "@jupyter-widgets/base",
            "_model_module_version": "1.2.0",
            "_model_name": "LayoutModel",
            "_view_count": null,
            "_view_module": "@jupyter-widgets/base",
            "_view_module_version": "1.2.0",
            "_view_name": "LayoutView",
            "align_content": null,
            "align_items": null,
            "align_self": null,
            "border": null,
            "bottom": null,
            "display": null,
            "flex": null,
            "flex_flow": null,
            "grid_area": null,
            "grid_auto_columns": null,
            "grid_auto_flow": null,
            "grid_auto_rows": null,
            "grid_column": null,
            "grid_gap": null,
            "grid_row": null,
            "grid_template_areas": null,
            "grid_template_columns": null,
            "grid_template_rows": null,
            "height": null,
            "justify_content": null,
            "justify_items": null,
            "left": null,
            "margin": null,
            "max_height": null,
            "max_width": null,
            "min_height": null,
            "min_width": null,
            "object_fit": null,
            "object_position": null,
            "order": null,
            "overflow": null,
            "overflow_x": null,
            "overflow_y": null,
            "padding": null,
            "right": null,
            "top": null,
            "visibility": null,
            "width": null
          }
        },
        "59e3626d1f7e44eabe31c5cebb9a6a80": {
          "model_module": "@jupyter-widgets/controls",
          "model_name": "DescriptionStyleModel",
          "model_module_version": "1.5.0",
          "state": {
            "_model_module": "@jupyter-widgets/controls",
            "_model_module_version": "1.5.0",
            "_model_name": "DescriptionStyleModel",
            "_view_count": null,
            "_view_module": "@jupyter-widgets/base",
            "_view_module_version": "1.2.0",
            "_view_name": "StyleView",
            "description_width": ""
          }
        },
        "0a6bf8a554474cb0b9f13ea8be043593": {
          "model_module": "@jupyter-widgets/base",
          "model_name": "LayoutModel",
          "model_module_version": "1.2.0",
          "state": {
            "_model_module": "@jupyter-widgets/base",
            "_model_module_version": "1.2.0",
            "_model_name": "LayoutModel",
            "_view_count": null,
            "_view_module": "@jupyter-widgets/base",
            "_view_module_version": "1.2.0",
            "_view_name": "LayoutView",
            "align_content": null,
            "align_items": null,
            "align_self": null,
            "border": null,
            "bottom": null,
            "display": null,
            "flex": null,
            "flex_flow": null,
            "grid_area": null,
            "grid_auto_columns": null,
            "grid_auto_flow": null,
            "grid_auto_rows": null,
            "grid_column": null,
            "grid_gap": null,
            "grid_row": null,
            "grid_template_areas": null,
            "grid_template_columns": null,
            "grid_template_rows": null,
            "height": null,
            "justify_content": null,
            "justify_items": null,
            "left": null,
            "margin": null,
            "max_height": null,
            "max_width": null,
            "min_height": null,
            "min_width": null,
            "object_fit": null,
            "object_position": null,
            "order": null,
            "overflow": null,
            "overflow_x": null,
            "overflow_y": null,
            "padding": null,
            "right": null,
            "top": null,
            "visibility": null,
            "width": null
          }
        },
        "8da472ef419845f89106eb3c6c203c55": {
          "model_module": "@jupyter-widgets/controls",
          "model_name": "ProgressStyleModel",
          "model_module_version": "1.5.0",
          "state": {
            "_model_module": "@jupyter-widgets/controls",
            "_model_module_version": "1.5.0",
            "_model_name": "ProgressStyleModel",
            "_view_count": null,
            "_view_module": "@jupyter-widgets/base",
            "_view_module_version": "1.2.0",
            "_view_name": "StyleView",
            "bar_color": null,
            "description_width": ""
          }
        },
        "636fe792dfce4b1897dae29961d903b4": {
          "model_module": "@jupyter-widgets/base",
          "model_name": "LayoutModel",
          "model_module_version": "1.2.0",
          "state": {
            "_model_module": "@jupyter-widgets/base",
            "_model_module_version": "1.2.0",
            "_model_name": "LayoutModel",
            "_view_count": null,
            "_view_module": "@jupyter-widgets/base",
            "_view_module_version": "1.2.0",
            "_view_name": "LayoutView",
            "align_content": null,
            "align_items": null,
            "align_self": null,
            "border": null,
            "bottom": null,
            "display": null,
            "flex": null,
            "flex_flow": null,
            "grid_area": null,
            "grid_auto_columns": null,
            "grid_auto_flow": null,
            "grid_auto_rows": null,
            "grid_column": null,
            "grid_gap": null,
            "grid_row": null,
            "grid_template_areas": null,
            "grid_template_columns": null,
            "grid_template_rows": null,
            "height": null,
            "justify_content": null,
            "justify_items": null,
            "left": null,
            "margin": null,
            "max_height": null,
            "max_width": null,
            "min_height": null,
            "min_width": null,
            "object_fit": null,
            "object_position": null,
            "order": null,
            "overflow": null,
            "overflow_x": null,
            "overflow_y": null,
            "padding": null,
            "right": null,
            "top": null,
            "visibility": null,
            "width": null
          }
        },
        "cfa0227c440d4b3aa34fe967bb25cb0c": {
          "model_module": "@jupyter-widgets/controls",
          "model_name": "DescriptionStyleModel",
          "model_module_version": "1.5.0",
          "state": {
            "_model_module": "@jupyter-widgets/controls",
            "_model_module_version": "1.5.0",
            "_model_name": "DescriptionStyleModel",
            "_view_count": null,
            "_view_module": "@jupyter-widgets/base",
            "_view_module_version": "1.2.0",
            "_view_name": "StyleView",
            "description_width": ""
          }
        },
        "bff1eeb30dfb4042adba3628c5a8a321": {
          "model_module": "@jupyter-widgets/controls",
          "model_name": "HBoxModel",
          "model_module_version": "1.5.0",
          "state": {
            "_dom_classes": [],
            "_model_module": "@jupyter-widgets/controls",
            "_model_module_version": "1.5.0",
            "_model_name": "HBoxModel",
            "_view_count": null,
            "_view_module": "@jupyter-widgets/controls",
            "_view_module_version": "1.5.0",
            "_view_name": "HBoxView",
            "box_style": "",
            "children": [
              "IPY_MODEL_08f95dcdb9ba4925ace4542f9689a723",
              "IPY_MODEL_4a634162a47341309a12e1ac85723101",
              "IPY_MODEL_717746470c9a47bca060eff2f12610d1"
            ],
            "layout": "IPY_MODEL_521cc1b3928949fc97e4eeb058f8b8c7"
          }
        },
        "08f95dcdb9ba4925ace4542f9689a723": {
          "model_module": "@jupyter-widgets/controls",
          "model_name": "HTMLModel",
          "model_module_version": "1.5.0",
          "state": {
            "_dom_classes": [],
            "_model_module": "@jupyter-widgets/controls",
            "_model_module_version": "1.5.0",
            "_model_name": "HTMLModel",
            "_view_count": null,
            "_view_module": "@jupyter-widgets/controls",
            "_view_module_version": "1.5.0",
            "_view_name": "HTMLView",
            "description": "",
            "description_tooltip": null,
            "layout": "IPY_MODEL_f72001be9b9b4269a562a018945f8162",
            "placeholder": "​",
            "style": "IPY_MODEL_6caa12e700fd41b79d7ee3c75573a74b",
            "value": "Downloading (…)olve/main/merges.txt: 100%"
          }
        },
        "4a634162a47341309a12e1ac85723101": {
          "model_module": "@jupyter-widgets/controls",
          "model_name": "FloatProgressModel",
          "model_module_version": "1.5.0",
          "state": {
            "_dom_classes": [],
            "_model_module": "@jupyter-widgets/controls",
            "_model_module_version": "1.5.0",
            "_model_name": "FloatProgressModel",
            "_view_count": null,
            "_view_module": "@jupyter-widgets/controls",
            "_view_module_version": "1.5.0",
            "_view_name": "ProgressView",
            "bar_style": "success",
            "description": "",
            "description_tooltip": null,
            "layout": "IPY_MODEL_ff158aaa1fed4dc7aaa6452ca8147d4a",
            "max": 456318,
            "min": 0,
            "orientation": "horizontal",
            "style": "IPY_MODEL_c4abcd5719844362a032bcec2b88e0e6",
            "value": 456318
          }
        },
        "717746470c9a47bca060eff2f12610d1": {
          "model_module": "@jupyter-widgets/controls",
          "model_name": "HTMLModel",
          "model_module_version": "1.5.0",
          "state": {
            "_dom_classes": [],
            "_model_module": "@jupyter-widgets/controls",
            "_model_module_version": "1.5.0",
            "_model_name": "HTMLModel",
            "_view_count": null,
            "_view_module": "@jupyter-widgets/controls",
            "_view_module_version": "1.5.0",
            "_view_name": "HTMLView",
            "description": "",
            "description_tooltip": null,
            "layout": "IPY_MODEL_236de2803268440e8be9c1ffdc6fdc5b",
            "placeholder": "​",
            "style": "IPY_MODEL_f5e3bc6f28f04403942f9175d5bcc8d8",
            "value": " 456k/456k [00:00&lt;00:00, 18.1MB/s]"
          }
        },
        "521cc1b3928949fc97e4eeb058f8b8c7": {
          "model_module": "@jupyter-widgets/base",
          "model_name": "LayoutModel",
          "model_module_version": "1.2.0",
          "state": {
            "_model_module": "@jupyter-widgets/base",
            "_model_module_version": "1.2.0",
            "_model_name": "LayoutModel",
            "_view_count": null,
            "_view_module": "@jupyter-widgets/base",
            "_view_module_version": "1.2.0",
            "_view_name": "LayoutView",
            "align_content": null,
            "align_items": null,
            "align_self": null,
            "border": null,
            "bottom": null,
            "display": null,
            "flex": null,
            "flex_flow": null,
            "grid_area": null,
            "grid_auto_columns": null,
            "grid_auto_flow": null,
            "grid_auto_rows": null,
            "grid_column": null,
            "grid_gap": null,
            "grid_row": null,
            "grid_template_areas": null,
            "grid_template_columns": null,
            "grid_template_rows": null,
            "height": null,
            "justify_content": null,
            "justify_items": null,
            "left": null,
            "margin": null,
            "max_height": null,
            "max_width": null,
            "min_height": null,
            "min_width": null,
            "object_fit": null,
            "object_position": null,
            "order": null,
            "overflow": null,
            "overflow_x": null,
            "overflow_y": null,
            "padding": null,
            "right": null,
            "top": null,
            "visibility": null,
            "width": null
          }
        },
        "f72001be9b9b4269a562a018945f8162": {
          "model_module": "@jupyter-widgets/base",
          "model_name": "LayoutModel",
          "model_module_version": "1.2.0",
          "state": {
            "_model_module": "@jupyter-widgets/base",
            "_model_module_version": "1.2.0",
            "_model_name": "LayoutModel",
            "_view_count": null,
            "_view_module": "@jupyter-widgets/base",
            "_view_module_version": "1.2.0",
            "_view_name": "LayoutView",
            "align_content": null,
            "align_items": null,
            "align_self": null,
            "border": null,
            "bottom": null,
            "display": null,
            "flex": null,
            "flex_flow": null,
            "grid_area": null,
            "grid_auto_columns": null,
            "grid_auto_flow": null,
            "grid_auto_rows": null,
            "grid_column": null,
            "grid_gap": null,
            "grid_row": null,
            "grid_template_areas": null,
            "grid_template_columns": null,
            "grid_template_rows": null,
            "height": null,
            "justify_content": null,
            "justify_items": null,
            "left": null,
            "margin": null,
            "max_height": null,
            "max_width": null,
            "min_height": null,
            "min_width": null,
            "object_fit": null,
            "object_position": null,
            "order": null,
            "overflow": null,
            "overflow_x": null,
            "overflow_y": null,
            "padding": null,
            "right": null,
            "top": null,
            "visibility": null,
            "width": null
          }
        },
        "6caa12e700fd41b79d7ee3c75573a74b": {
          "model_module": "@jupyter-widgets/controls",
          "model_name": "DescriptionStyleModel",
          "model_module_version": "1.5.0",
          "state": {
            "_model_module": "@jupyter-widgets/controls",
            "_model_module_version": "1.5.0",
            "_model_name": "DescriptionStyleModel",
            "_view_count": null,
            "_view_module": "@jupyter-widgets/base",
            "_view_module_version": "1.2.0",
            "_view_name": "StyleView",
            "description_width": ""
          }
        },
        "ff158aaa1fed4dc7aaa6452ca8147d4a": {
          "model_module": "@jupyter-widgets/base",
          "model_name": "LayoutModel",
          "model_module_version": "1.2.0",
          "state": {
            "_model_module": "@jupyter-widgets/base",
            "_model_module_version": "1.2.0",
            "_model_name": "LayoutModel",
            "_view_count": null,
            "_view_module": "@jupyter-widgets/base",
            "_view_module_version": "1.2.0",
            "_view_name": "LayoutView",
            "align_content": null,
            "align_items": null,
            "align_self": null,
            "border": null,
            "bottom": null,
            "display": null,
            "flex": null,
            "flex_flow": null,
            "grid_area": null,
            "grid_auto_columns": null,
            "grid_auto_flow": null,
            "grid_auto_rows": null,
            "grid_column": null,
            "grid_gap": null,
            "grid_row": null,
            "grid_template_areas": null,
            "grid_template_columns": null,
            "grid_template_rows": null,
            "height": null,
            "justify_content": null,
            "justify_items": null,
            "left": null,
            "margin": null,
            "max_height": null,
            "max_width": null,
            "min_height": null,
            "min_width": null,
            "object_fit": null,
            "object_position": null,
            "order": null,
            "overflow": null,
            "overflow_x": null,
            "overflow_y": null,
            "padding": null,
            "right": null,
            "top": null,
            "visibility": null,
            "width": null
          }
        },
        "c4abcd5719844362a032bcec2b88e0e6": {
          "model_module": "@jupyter-widgets/controls",
          "model_name": "ProgressStyleModel",
          "model_module_version": "1.5.0",
          "state": {
            "_model_module": "@jupyter-widgets/controls",
            "_model_module_version": "1.5.0",
            "_model_name": "ProgressStyleModel",
            "_view_count": null,
            "_view_module": "@jupyter-widgets/base",
            "_view_module_version": "1.2.0",
            "_view_name": "StyleView",
            "bar_color": null,
            "description_width": ""
          }
        },
        "236de2803268440e8be9c1ffdc6fdc5b": {
          "model_module": "@jupyter-widgets/base",
          "model_name": "LayoutModel",
          "model_module_version": "1.2.0",
          "state": {
            "_model_module": "@jupyter-widgets/base",
            "_model_module_version": "1.2.0",
            "_model_name": "LayoutModel",
            "_view_count": null,
            "_view_module": "@jupyter-widgets/base",
            "_view_module_version": "1.2.0",
            "_view_name": "LayoutView",
            "align_content": null,
            "align_items": null,
            "align_self": null,
            "border": null,
            "bottom": null,
            "display": null,
            "flex": null,
            "flex_flow": null,
            "grid_area": null,
            "grid_auto_columns": null,
            "grid_auto_flow": null,
            "grid_auto_rows": null,
            "grid_column": null,
            "grid_gap": null,
            "grid_row": null,
            "grid_template_areas": null,
            "grid_template_columns": null,
            "grid_template_rows": null,
            "height": null,
            "justify_content": null,
            "justify_items": null,
            "left": null,
            "margin": null,
            "max_height": null,
            "max_width": null,
            "min_height": null,
            "min_width": null,
            "object_fit": null,
            "object_position": null,
            "order": null,
            "overflow": null,
            "overflow_x": null,
            "overflow_y": null,
            "padding": null,
            "right": null,
            "top": null,
            "visibility": null,
            "width": null
          }
        },
        "f5e3bc6f28f04403942f9175d5bcc8d8": {
          "model_module": "@jupyter-widgets/controls",
          "model_name": "DescriptionStyleModel",
          "model_module_version": "1.5.0",
          "state": {
            "_model_module": "@jupyter-widgets/controls",
            "_model_module_version": "1.5.0",
            "_model_name": "DescriptionStyleModel",
            "_view_count": null,
            "_view_module": "@jupyter-widgets/base",
            "_view_module_version": "1.2.0",
            "_view_name": "StyleView",
            "description_width": ""
          }
        },
        "867f4d500d5543c8ac218e9d5d3394a3": {
          "model_module": "@jupyter-widgets/controls",
          "model_name": "HBoxModel",
          "model_module_version": "1.5.0",
          "state": {
            "_dom_classes": [],
            "_model_module": "@jupyter-widgets/controls",
            "_model_module_version": "1.5.0",
            "_model_name": "HBoxModel",
            "_view_count": null,
            "_view_module": "@jupyter-widgets/controls",
            "_view_module_version": "1.5.0",
            "_view_name": "HBoxView",
            "box_style": "",
            "children": [
              "IPY_MODEL_9647c781eb7e4c21b3324e2e458ca9cb",
              "IPY_MODEL_799feafbf37e432dab71e4ad5296d35c",
              "IPY_MODEL_81cf9ceff2e3472bb53c349cdc97a100"
            ],
            "layout": "IPY_MODEL_14518efc40a74b6facb42f6b687758a8"
          }
        },
        "9647c781eb7e4c21b3324e2e458ca9cb": {
          "model_module": "@jupyter-widgets/controls",
          "model_name": "HTMLModel",
          "model_module_version": "1.5.0",
          "state": {
            "_dom_classes": [],
            "_model_module": "@jupyter-widgets/controls",
            "_model_module_version": "1.5.0",
            "_model_name": "HTMLModel",
            "_view_count": null,
            "_view_module": "@jupyter-widgets/controls",
            "_view_module_version": "1.5.0",
            "_view_name": "HTMLView",
            "description": "",
            "description_tooltip": null,
            "layout": "IPY_MODEL_4d53e000fc3d4c51b96134934e62f140",
            "placeholder": "​",
            "style": "IPY_MODEL_bbf508a599cf4ec8858f7d8eff6ff463",
            "value": "Downloading (…)lve/main/config.json: 100%"
          }
        },
        "799feafbf37e432dab71e4ad5296d35c": {
          "model_module": "@jupyter-widgets/controls",
          "model_name": "FloatProgressModel",
          "model_module_version": "1.5.0",
          "state": {
            "_dom_classes": [],
            "_model_module": "@jupyter-widgets/controls",
            "_model_module_version": "1.5.0",
            "_model_name": "FloatProgressModel",
            "_view_count": null,
            "_view_module": "@jupyter-widgets/controls",
            "_view_module_version": "1.5.0",
            "_view_name": "ProgressView",
            "bar_style": "success",
            "description": "",
            "description_tooltip": null,
            "layout": "IPY_MODEL_feff0d83d1094452b9f3a0a0a79bcaa4",
            "max": 665,
            "min": 0,
            "orientation": "horizontal",
            "style": "IPY_MODEL_a6a865ec550f4749b796a680ba6459b1",
            "value": 665
          }
        },
        "81cf9ceff2e3472bb53c349cdc97a100": {
          "model_module": "@jupyter-widgets/controls",
          "model_name": "HTMLModel",
          "model_module_version": "1.5.0",
          "state": {
            "_dom_classes": [],
            "_model_module": "@jupyter-widgets/controls",
            "_model_module_version": "1.5.0",
            "_model_name": "HTMLModel",
            "_view_count": null,
            "_view_module": "@jupyter-widgets/controls",
            "_view_module_version": "1.5.0",
            "_view_name": "HTMLView",
            "description": "",
            "description_tooltip": null,
            "layout": "IPY_MODEL_76714b843011459d9ac910e7c838d69d",
            "placeholder": "​",
            "style": "IPY_MODEL_c07cb7c1f03c42888a1b6c89daf6816b",
            "value": " 665/665 [00:00&lt;00:00, 42.0kB/s]"
          }
        },
        "14518efc40a74b6facb42f6b687758a8": {
          "model_module": "@jupyter-widgets/base",
          "model_name": "LayoutModel",
          "model_module_version": "1.2.0",
          "state": {
            "_model_module": "@jupyter-widgets/base",
            "_model_module_version": "1.2.0",
            "_model_name": "LayoutModel",
            "_view_count": null,
            "_view_module": "@jupyter-widgets/base",
            "_view_module_version": "1.2.0",
            "_view_name": "LayoutView",
            "align_content": null,
            "align_items": null,
            "align_self": null,
            "border": null,
            "bottom": null,
            "display": null,
            "flex": null,
            "flex_flow": null,
            "grid_area": null,
            "grid_auto_columns": null,
            "grid_auto_flow": null,
            "grid_auto_rows": null,
            "grid_column": null,
            "grid_gap": null,
            "grid_row": null,
            "grid_template_areas": null,
            "grid_template_columns": null,
            "grid_template_rows": null,
            "height": null,
            "justify_content": null,
            "justify_items": null,
            "left": null,
            "margin": null,
            "max_height": null,
            "max_width": null,
            "min_height": null,
            "min_width": null,
            "object_fit": null,
            "object_position": null,
            "order": null,
            "overflow": null,
            "overflow_x": null,
            "overflow_y": null,
            "padding": null,
            "right": null,
            "top": null,
            "visibility": null,
            "width": null
          }
        },
        "4d53e000fc3d4c51b96134934e62f140": {
          "model_module": "@jupyter-widgets/base",
          "model_name": "LayoutModel",
          "model_module_version": "1.2.0",
          "state": {
            "_model_module": "@jupyter-widgets/base",
            "_model_module_version": "1.2.0",
            "_model_name": "LayoutModel",
            "_view_count": null,
            "_view_module": "@jupyter-widgets/base",
            "_view_module_version": "1.2.0",
            "_view_name": "LayoutView",
            "align_content": null,
            "align_items": null,
            "align_self": null,
            "border": null,
            "bottom": null,
            "display": null,
            "flex": null,
            "flex_flow": null,
            "grid_area": null,
            "grid_auto_columns": null,
            "grid_auto_flow": null,
            "grid_auto_rows": null,
            "grid_column": null,
            "grid_gap": null,
            "grid_row": null,
            "grid_template_areas": null,
            "grid_template_columns": null,
            "grid_template_rows": null,
            "height": null,
            "justify_content": null,
            "justify_items": null,
            "left": null,
            "margin": null,
            "max_height": null,
            "max_width": null,
            "min_height": null,
            "min_width": null,
            "object_fit": null,
            "object_position": null,
            "order": null,
            "overflow": null,
            "overflow_x": null,
            "overflow_y": null,
            "padding": null,
            "right": null,
            "top": null,
            "visibility": null,
            "width": null
          }
        },
        "bbf508a599cf4ec8858f7d8eff6ff463": {
          "model_module": "@jupyter-widgets/controls",
          "model_name": "DescriptionStyleModel",
          "model_module_version": "1.5.0",
          "state": {
            "_model_module": "@jupyter-widgets/controls",
            "_model_module_version": "1.5.0",
            "_model_name": "DescriptionStyleModel",
            "_view_count": null,
            "_view_module": "@jupyter-widgets/base",
            "_view_module_version": "1.2.0",
            "_view_name": "StyleView",
            "description_width": ""
          }
        },
        "feff0d83d1094452b9f3a0a0a79bcaa4": {
          "model_module": "@jupyter-widgets/base",
          "model_name": "LayoutModel",
          "model_module_version": "1.2.0",
          "state": {
            "_model_module": "@jupyter-widgets/base",
            "_model_module_version": "1.2.0",
            "_model_name": "LayoutModel",
            "_view_count": null,
            "_view_module": "@jupyter-widgets/base",
            "_view_module_version": "1.2.0",
            "_view_name": "LayoutView",
            "align_content": null,
            "align_items": null,
            "align_self": null,
            "border": null,
            "bottom": null,
            "display": null,
            "flex": null,
            "flex_flow": null,
            "grid_area": null,
            "grid_auto_columns": null,
            "grid_auto_flow": null,
            "grid_auto_rows": null,
            "grid_column": null,
            "grid_gap": null,
            "grid_row": null,
            "grid_template_areas": null,
            "grid_template_columns": null,
            "grid_template_rows": null,
            "height": null,
            "justify_content": null,
            "justify_items": null,
            "left": null,
            "margin": null,
            "max_height": null,
            "max_width": null,
            "min_height": null,
            "min_width": null,
            "object_fit": null,
            "object_position": null,
            "order": null,
            "overflow": null,
            "overflow_x": null,
            "overflow_y": null,
            "padding": null,
            "right": null,
            "top": null,
            "visibility": null,
            "width": null
          }
        },
        "a6a865ec550f4749b796a680ba6459b1": {
          "model_module": "@jupyter-widgets/controls",
          "model_name": "ProgressStyleModel",
          "model_module_version": "1.5.0",
          "state": {
            "_model_module": "@jupyter-widgets/controls",
            "_model_module_version": "1.5.0",
            "_model_name": "ProgressStyleModel",
            "_view_count": null,
            "_view_module": "@jupyter-widgets/base",
            "_view_module_version": "1.2.0",
            "_view_name": "StyleView",
            "bar_color": null,
            "description_width": ""
          }
        },
        "76714b843011459d9ac910e7c838d69d": {
          "model_module": "@jupyter-widgets/base",
          "model_name": "LayoutModel",
          "model_module_version": "1.2.0",
          "state": {
            "_model_module": "@jupyter-widgets/base",
            "_model_module_version": "1.2.0",
            "_model_name": "LayoutModel",
            "_view_count": null,
            "_view_module": "@jupyter-widgets/base",
            "_view_module_version": "1.2.0",
            "_view_name": "LayoutView",
            "align_content": null,
            "align_items": null,
            "align_self": null,
            "border": null,
            "bottom": null,
            "display": null,
            "flex": null,
            "flex_flow": null,
            "grid_area": null,
            "grid_auto_columns": null,
            "grid_auto_flow": null,
            "grid_auto_rows": null,
            "grid_column": null,
            "grid_gap": null,
            "grid_row": null,
            "grid_template_areas": null,
            "grid_template_columns": null,
            "grid_template_rows": null,
            "height": null,
            "justify_content": null,
            "justify_items": null,
            "left": null,
            "margin": null,
            "max_height": null,
            "max_width": null,
            "min_height": null,
            "min_width": null,
            "object_fit": null,
            "object_position": null,
            "order": null,
            "overflow": null,
            "overflow_x": null,
            "overflow_y": null,
            "padding": null,
            "right": null,
            "top": null,
            "visibility": null,
            "width": null
          }
        },
        "c07cb7c1f03c42888a1b6c89daf6816b": {
          "model_module": "@jupyter-widgets/controls",
          "model_name": "DescriptionStyleModel",
          "model_module_version": "1.5.0",
          "state": {
            "_model_module": "@jupyter-widgets/controls",
            "_model_module_version": "1.5.0",
            "_model_name": "DescriptionStyleModel",
            "_view_count": null,
            "_view_module": "@jupyter-widgets/base",
            "_view_module_version": "1.2.0",
            "_view_name": "StyleView",
            "description_width": ""
          }
        },
        "7c7ffb1a00454874ba543f9c1590935e": {
          "model_module": "@jupyter-widgets/controls",
          "model_name": "HBoxModel",
          "model_module_version": "1.5.0",
          "state": {
            "_dom_classes": [],
            "_model_module": "@jupyter-widgets/controls",
            "_model_module_version": "1.5.0",
            "_model_name": "HBoxModel",
            "_view_count": null,
            "_view_module": "@jupyter-widgets/controls",
            "_view_module_version": "1.5.0",
            "_view_name": "HBoxView",
            "box_style": "",
            "children": [
              "IPY_MODEL_c64cf20550bc4cfdb86cbbb4ece28b7e",
              "IPY_MODEL_d5591a28cd364141bafc6193b4df4211",
              "IPY_MODEL_62ce5c0687964e919b3a08867ffbe09b"
            ],
            "layout": "IPY_MODEL_9099aa7451174c0cb882f5b415444447"
          }
        },
        "c64cf20550bc4cfdb86cbbb4ece28b7e": {
          "model_module": "@jupyter-widgets/controls",
          "model_name": "HTMLModel",
          "model_module_version": "1.5.0",
          "state": {
            "_dom_classes": [],
            "_model_module": "@jupyter-widgets/controls",
            "_model_module_version": "1.5.0",
            "_model_name": "HTMLModel",
            "_view_count": null,
            "_view_module": "@jupyter-widgets/controls",
            "_view_module_version": "1.5.0",
            "_view_name": "HTMLView",
            "description": "",
            "description_tooltip": null,
            "layout": "IPY_MODEL_2a13f2ea5e5f4d6fb09a70a9d0ed1567",
            "placeholder": "​",
            "style": "IPY_MODEL_079211b230334a20af4f67443df989d7",
            "value": "Downloading pytorch_model.bin: 100%"
          }
        },
        "d5591a28cd364141bafc6193b4df4211": {
          "model_module": "@jupyter-widgets/controls",
          "model_name": "FloatProgressModel",
          "model_module_version": "1.5.0",
          "state": {
            "_dom_classes": [],
            "_model_module": "@jupyter-widgets/controls",
            "_model_module_version": "1.5.0",
            "_model_name": "FloatProgressModel",
            "_view_count": null,
            "_view_module": "@jupyter-widgets/controls",
            "_view_module_version": "1.5.0",
            "_view_name": "ProgressView",
            "bar_style": "success",
            "description": "",
            "description_tooltip": null,
            "layout": "IPY_MODEL_88ddbcab0773435297575ffdaa200f17",
            "max": 548118077,
            "min": 0,
            "orientation": "horizontal",
            "style": "IPY_MODEL_e06188425e1e47009872bc8b0b382409",
            "value": 548118077
          }
        },
        "62ce5c0687964e919b3a08867ffbe09b": {
          "model_module": "@jupyter-widgets/controls",
          "model_name": "HTMLModel",
          "model_module_version": "1.5.0",
          "state": {
            "_dom_classes": [],
            "_model_module": "@jupyter-widgets/controls",
            "_model_module_version": "1.5.0",
            "_model_name": "HTMLModel",
            "_view_count": null,
            "_view_module": "@jupyter-widgets/controls",
            "_view_module_version": "1.5.0",
            "_view_name": "HTMLView",
            "description": "",
            "description_tooltip": null,
            "layout": "IPY_MODEL_de82b5844d1948e2997a39f6d85f6509",
            "placeholder": "​",
            "style": "IPY_MODEL_af7684eedcbf4be5a3bb242d86f42148",
            "value": " 548M/548M [00:06&lt;00:00, 114MB/s]"
          }
        },
        "9099aa7451174c0cb882f5b415444447": {
          "model_module": "@jupyter-widgets/base",
          "model_name": "LayoutModel",
          "model_module_version": "1.2.0",
          "state": {
            "_model_module": "@jupyter-widgets/base",
            "_model_module_version": "1.2.0",
            "_model_name": "LayoutModel",
            "_view_count": null,
            "_view_module": "@jupyter-widgets/base",
            "_view_module_version": "1.2.0",
            "_view_name": "LayoutView",
            "align_content": null,
            "align_items": null,
            "align_self": null,
            "border": null,
            "bottom": null,
            "display": null,
            "flex": null,
            "flex_flow": null,
            "grid_area": null,
            "grid_auto_columns": null,
            "grid_auto_flow": null,
            "grid_auto_rows": null,
            "grid_column": null,
            "grid_gap": null,
            "grid_row": null,
            "grid_template_areas": null,
            "grid_template_columns": null,
            "grid_template_rows": null,
            "height": null,
            "justify_content": null,
            "justify_items": null,
            "left": null,
            "margin": null,
            "max_height": null,
            "max_width": null,
            "min_height": null,
            "min_width": null,
            "object_fit": null,
            "object_position": null,
            "order": null,
            "overflow": null,
            "overflow_x": null,
            "overflow_y": null,
            "padding": null,
            "right": null,
            "top": null,
            "visibility": null,
            "width": null
          }
        },
        "2a13f2ea5e5f4d6fb09a70a9d0ed1567": {
          "model_module": "@jupyter-widgets/base",
          "model_name": "LayoutModel",
          "model_module_version": "1.2.0",
          "state": {
            "_model_module": "@jupyter-widgets/base",
            "_model_module_version": "1.2.0",
            "_model_name": "LayoutModel",
            "_view_count": null,
            "_view_module": "@jupyter-widgets/base",
            "_view_module_version": "1.2.0",
            "_view_name": "LayoutView",
            "align_content": null,
            "align_items": null,
            "align_self": null,
            "border": null,
            "bottom": null,
            "display": null,
            "flex": null,
            "flex_flow": null,
            "grid_area": null,
            "grid_auto_columns": null,
            "grid_auto_flow": null,
            "grid_auto_rows": null,
            "grid_column": null,
            "grid_gap": null,
            "grid_row": null,
            "grid_template_areas": null,
            "grid_template_columns": null,
            "grid_template_rows": null,
            "height": null,
            "justify_content": null,
            "justify_items": null,
            "left": null,
            "margin": null,
            "max_height": null,
            "max_width": null,
            "min_height": null,
            "min_width": null,
            "object_fit": null,
            "object_position": null,
            "order": null,
            "overflow": null,
            "overflow_x": null,
            "overflow_y": null,
            "padding": null,
            "right": null,
            "top": null,
            "visibility": null,
            "width": null
          }
        },
        "079211b230334a20af4f67443df989d7": {
          "model_module": "@jupyter-widgets/controls",
          "model_name": "DescriptionStyleModel",
          "model_module_version": "1.5.0",
          "state": {
            "_model_module": "@jupyter-widgets/controls",
            "_model_module_version": "1.5.0",
            "_model_name": "DescriptionStyleModel",
            "_view_count": null,
            "_view_module": "@jupyter-widgets/base",
            "_view_module_version": "1.2.0",
            "_view_name": "StyleView",
            "description_width": ""
          }
        },
        "88ddbcab0773435297575ffdaa200f17": {
          "model_module": "@jupyter-widgets/base",
          "model_name": "LayoutModel",
          "model_module_version": "1.2.0",
          "state": {
            "_model_module": "@jupyter-widgets/base",
            "_model_module_version": "1.2.0",
            "_model_name": "LayoutModel",
            "_view_count": null,
            "_view_module": "@jupyter-widgets/base",
            "_view_module_version": "1.2.0",
            "_view_name": "LayoutView",
            "align_content": null,
            "align_items": null,
            "align_self": null,
            "border": null,
            "bottom": null,
            "display": null,
            "flex": null,
            "flex_flow": null,
            "grid_area": null,
            "grid_auto_columns": null,
            "grid_auto_flow": null,
            "grid_auto_rows": null,
            "grid_column": null,
            "grid_gap": null,
            "grid_row": null,
            "grid_template_areas": null,
            "grid_template_columns": null,
            "grid_template_rows": null,
            "height": null,
            "justify_content": null,
            "justify_items": null,
            "left": null,
            "margin": null,
            "max_height": null,
            "max_width": null,
            "min_height": null,
            "min_width": null,
            "object_fit": null,
            "object_position": null,
            "order": null,
            "overflow": null,
            "overflow_x": null,
            "overflow_y": null,
            "padding": null,
            "right": null,
            "top": null,
            "visibility": null,
            "width": null
          }
        },
        "e06188425e1e47009872bc8b0b382409": {
          "model_module": "@jupyter-widgets/controls",
          "model_name": "ProgressStyleModel",
          "model_module_version": "1.5.0",
          "state": {
            "_model_module": "@jupyter-widgets/controls",
            "_model_module_version": "1.5.0",
            "_model_name": "ProgressStyleModel",
            "_view_count": null,
            "_view_module": "@jupyter-widgets/base",
            "_view_module_version": "1.2.0",
            "_view_name": "StyleView",
            "bar_color": null,
            "description_width": ""
          }
        },
        "de82b5844d1948e2997a39f6d85f6509": {
          "model_module": "@jupyter-widgets/base",
          "model_name": "LayoutModel",
          "model_module_version": "1.2.0",
          "state": {
            "_model_module": "@jupyter-widgets/base",
            "_model_module_version": "1.2.0",
            "_model_name": "LayoutModel",
            "_view_count": null,
            "_view_module": "@jupyter-widgets/base",
            "_view_module_version": "1.2.0",
            "_view_name": "LayoutView",
            "align_content": null,
            "align_items": null,
            "align_self": null,
            "border": null,
            "bottom": null,
            "display": null,
            "flex": null,
            "flex_flow": null,
            "grid_area": null,
            "grid_auto_columns": null,
            "grid_auto_flow": null,
            "grid_auto_rows": null,
            "grid_column": null,
            "grid_gap": null,
            "grid_row": null,
            "grid_template_areas": null,
            "grid_template_columns": null,
            "grid_template_rows": null,
            "height": null,
            "justify_content": null,
            "justify_items": null,
            "left": null,
            "margin": null,
            "max_height": null,
            "max_width": null,
            "min_height": null,
            "min_width": null,
            "object_fit": null,
            "object_position": null,
            "order": null,
            "overflow": null,
            "overflow_x": null,
            "overflow_y": null,
            "padding": null,
            "right": null,
            "top": null,
            "visibility": null,
            "width": null
          }
        },
        "af7684eedcbf4be5a3bb242d86f42148": {
          "model_module": "@jupyter-widgets/controls",
          "model_name": "DescriptionStyleModel",
          "model_module_version": "1.5.0",
          "state": {
            "_model_module": "@jupyter-widgets/controls",
            "_model_module_version": "1.5.0",
            "_model_name": "DescriptionStyleModel",
            "_view_count": null,
            "_view_module": "@jupyter-widgets/base",
            "_view_module_version": "1.2.0",
            "_view_name": "StyleView",
            "description_width": ""
          }
        },
        "99c7a068ba27473d89d573e2b5357258": {
          "model_module": "@jupyter-widgets/controls",
          "model_name": "HBoxModel",
          "model_module_version": "1.5.0",
          "state": {
            "_dom_classes": [],
            "_model_module": "@jupyter-widgets/controls",
            "_model_module_version": "1.5.0",
            "_model_name": "HBoxModel",
            "_view_count": null,
            "_view_module": "@jupyter-widgets/controls",
            "_view_module_version": "1.5.0",
            "_view_name": "HBoxView",
            "box_style": "",
            "children": [
              "IPY_MODEL_42ef6fcde9a14a90b874aa3c780b167a",
              "IPY_MODEL_2acfaf2f135e4bf2abc4b8045986ae0f",
              "IPY_MODEL_5ce65ff0d23042558c2a8a6cd8e8c561"
            ],
            "layout": "IPY_MODEL_153caab763b74fda9588a0bcea96a0aa"
          }
        },
        "42ef6fcde9a14a90b874aa3c780b167a": {
          "model_module": "@jupyter-widgets/controls",
          "model_name": "HTMLModel",
          "model_module_version": "1.5.0",
          "state": {
            "_dom_classes": [],
            "_model_module": "@jupyter-widgets/controls",
            "_model_module_version": "1.5.0",
            "_model_name": "HTMLModel",
            "_view_count": null,
            "_view_module": "@jupyter-widgets/controls",
            "_view_module_version": "1.5.0",
            "_view_name": "HTMLView",
            "description": "",
            "description_tooltip": null,
            "layout": "IPY_MODEL_a9484cb1547846cab1096d23b4e5a5fc",
            "placeholder": "​",
            "style": "IPY_MODEL_c7bc9002c6b84739b71bb2c1a4a3c694",
            "value": "Downloading (…)okenizer_config.json: 100%"
          }
        },
        "2acfaf2f135e4bf2abc4b8045986ae0f": {
          "model_module": "@jupyter-widgets/controls",
          "model_name": "FloatProgressModel",
          "model_module_version": "1.5.0",
          "state": {
            "_dom_classes": [],
            "_model_module": "@jupyter-widgets/controls",
            "_model_module_version": "1.5.0",
            "_model_name": "FloatProgressModel",
            "_view_count": null,
            "_view_module": "@jupyter-widgets/controls",
            "_view_module_version": "1.5.0",
            "_view_name": "ProgressView",
            "bar_style": "success",
            "description": "",
            "description_tooltip": null,
            "layout": "IPY_MODEL_d75c0b0f0f4242ca879512435f453bfb",
            "max": 29,
            "min": 0,
            "orientation": "horizontal",
            "style": "IPY_MODEL_29e9932ad6ab4a3fa65904428d4ebea7",
            "value": 29
          }
        },
        "5ce65ff0d23042558c2a8a6cd8e8c561": {
          "model_module": "@jupyter-widgets/controls",
          "model_name": "HTMLModel",
          "model_module_version": "1.5.0",
          "state": {
            "_dom_classes": [],
            "_model_module": "@jupyter-widgets/controls",
            "_model_module_version": "1.5.0",
            "_model_name": "HTMLModel",
            "_view_count": null,
            "_view_module": "@jupyter-widgets/controls",
            "_view_module_version": "1.5.0",
            "_view_name": "HTMLView",
            "description": "",
            "description_tooltip": null,
            "layout": "IPY_MODEL_18b9da702a94407f8bd3065ec3642cdb",
            "placeholder": "​",
            "style": "IPY_MODEL_19bf4de8b36640ee88ec084fab329032",
            "value": " 29.0/29.0 [00:00&lt;00:00, 1.64kB/s]"
          }
        },
        "153caab763b74fda9588a0bcea96a0aa": {
          "model_module": "@jupyter-widgets/base",
          "model_name": "LayoutModel",
          "model_module_version": "1.2.0",
          "state": {
            "_model_module": "@jupyter-widgets/base",
            "_model_module_version": "1.2.0",
            "_model_name": "LayoutModel",
            "_view_count": null,
            "_view_module": "@jupyter-widgets/base",
            "_view_module_version": "1.2.0",
            "_view_name": "LayoutView",
            "align_content": null,
            "align_items": null,
            "align_self": null,
            "border": null,
            "bottom": null,
            "display": null,
            "flex": null,
            "flex_flow": null,
            "grid_area": null,
            "grid_auto_columns": null,
            "grid_auto_flow": null,
            "grid_auto_rows": null,
            "grid_column": null,
            "grid_gap": null,
            "grid_row": null,
            "grid_template_areas": null,
            "grid_template_columns": null,
            "grid_template_rows": null,
            "height": null,
            "justify_content": null,
            "justify_items": null,
            "left": null,
            "margin": null,
            "max_height": null,
            "max_width": null,
            "min_height": null,
            "min_width": null,
            "object_fit": null,
            "object_position": null,
            "order": null,
            "overflow": null,
            "overflow_x": null,
            "overflow_y": null,
            "padding": null,
            "right": null,
            "top": null,
            "visibility": null,
            "width": null
          }
        },
        "a9484cb1547846cab1096d23b4e5a5fc": {
          "model_module": "@jupyter-widgets/base",
          "model_name": "LayoutModel",
          "model_module_version": "1.2.0",
          "state": {
            "_model_module": "@jupyter-widgets/base",
            "_model_module_version": "1.2.0",
            "_model_name": "LayoutModel",
            "_view_count": null,
            "_view_module": "@jupyter-widgets/base",
            "_view_module_version": "1.2.0",
            "_view_name": "LayoutView",
            "align_content": null,
            "align_items": null,
            "align_self": null,
            "border": null,
            "bottom": null,
            "display": null,
            "flex": null,
            "flex_flow": null,
            "grid_area": null,
            "grid_auto_columns": null,
            "grid_auto_flow": null,
            "grid_auto_rows": null,
            "grid_column": null,
            "grid_gap": null,
            "grid_row": null,
            "grid_template_areas": null,
            "grid_template_columns": null,
            "grid_template_rows": null,
            "height": null,
            "justify_content": null,
            "justify_items": null,
            "left": null,
            "margin": null,
            "max_height": null,
            "max_width": null,
            "min_height": null,
            "min_width": null,
            "object_fit": null,
            "object_position": null,
            "order": null,
            "overflow": null,
            "overflow_x": null,
            "overflow_y": null,
            "padding": null,
            "right": null,
            "top": null,
            "visibility": null,
            "width": null
          }
        },
        "c7bc9002c6b84739b71bb2c1a4a3c694": {
          "model_module": "@jupyter-widgets/controls",
          "model_name": "DescriptionStyleModel",
          "model_module_version": "1.5.0",
          "state": {
            "_model_module": "@jupyter-widgets/controls",
            "_model_module_version": "1.5.0",
            "_model_name": "DescriptionStyleModel",
            "_view_count": null,
            "_view_module": "@jupyter-widgets/base",
            "_view_module_version": "1.2.0",
            "_view_name": "StyleView",
            "description_width": ""
          }
        },
        "d75c0b0f0f4242ca879512435f453bfb": {
          "model_module": "@jupyter-widgets/base",
          "model_name": "LayoutModel",
          "model_module_version": "1.2.0",
          "state": {
            "_model_module": "@jupyter-widgets/base",
            "_model_module_version": "1.2.0",
            "_model_name": "LayoutModel",
            "_view_count": null,
            "_view_module": "@jupyter-widgets/base",
            "_view_module_version": "1.2.0",
            "_view_name": "LayoutView",
            "align_content": null,
            "align_items": null,
            "align_self": null,
            "border": null,
            "bottom": null,
            "display": null,
            "flex": null,
            "flex_flow": null,
            "grid_area": null,
            "grid_auto_columns": null,
            "grid_auto_flow": null,
            "grid_auto_rows": null,
            "grid_column": null,
            "grid_gap": null,
            "grid_row": null,
            "grid_template_areas": null,
            "grid_template_columns": null,
            "grid_template_rows": null,
            "height": null,
            "justify_content": null,
            "justify_items": null,
            "left": null,
            "margin": null,
            "max_height": null,
            "max_width": null,
            "min_height": null,
            "min_width": null,
            "object_fit": null,
            "object_position": null,
            "order": null,
            "overflow": null,
            "overflow_x": null,
            "overflow_y": null,
            "padding": null,
            "right": null,
            "top": null,
            "visibility": null,
            "width": null
          }
        },
        "29e9932ad6ab4a3fa65904428d4ebea7": {
          "model_module": "@jupyter-widgets/controls",
          "model_name": "ProgressStyleModel",
          "model_module_version": "1.5.0",
          "state": {
            "_model_module": "@jupyter-widgets/controls",
            "_model_module_version": "1.5.0",
            "_model_name": "ProgressStyleModel",
            "_view_count": null,
            "_view_module": "@jupyter-widgets/base",
            "_view_module_version": "1.2.0",
            "_view_name": "StyleView",
            "bar_color": null,
            "description_width": ""
          }
        },
        "18b9da702a94407f8bd3065ec3642cdb": {
          "model_module": "@jupyter-widgets/base",
          "model_name": "LayoutModel",
          "model_module_version": "1.2.0",
          "state": {
            "_model_module": "@jupyter-widgets/base",
            "_model_module_version": "1.2.0",
            "_model_name": "LayoutModel",
            "_view_count": null,
            "_view_module": "@jupyter-widgets/base",
            "_view_module_version": "1.2.0",
            "_view_name": "LayoutView",
            "align_content": null,
            "align_items": null,
            "align_self": null,
            "border": null,
            "bottom": null,
            "display": null,
            "flex": null,
            "flex_flow": null,
            "grid_area": null,
            "grid_auto_columns": null,
            "grid_auto_flow": null,
            "grid_auto_rows": null,
            "grid_column": null,
            "grid_gap": null,
            "grid_row": null,
            "grid_template_areas": null,
            "grid_template_columns": null,
            "grid_template_rows": null,
            "height": null,
            "justify_content": null,
            "justify_items": null,
            "left": null,
            "margin": null,
            "max_height": null,
            "max_width": null,
            "min_height": null,
            "min_width": null,
            "object_fit": null,
            "object_position": null,
            "order": null,
            "overflow": null,
            "overflow_x": null,
            "overflow_y": null,
            "padding": null,
            "right": null,
            "top": null,
            "visibility": null,
            "width": null
          }
        },
        "19bf4de8b36640ee88ec084fab329032": {
          "model_module": "@jupyter-widgets/controls",
          "model_name": "DescriptionStyleModel",
          "model_module_version": "1.5.0",
          "state": {
            "_model_module": "@jupyter-widgets/controls",
            "_model_module_version": "1.5.0",
            "_model_name": "DescriptionStyleModel",
            "_view_count": null,
            "_view_module": "@jupyter-widgets/base",
            "_view_module_version": "1.2.0",
            "_view_name": "StyleView",
            "description_width": ""
          }
        },
        "04d3d830713547e18ad9c34a73cc764f": {
          "model_module": "@jupyter-widgets/controls",
          "model_name": "HBoxModel",
          "model_module_version": "1.5.0",
          "state": {
            "_dom_classes": [],
            "_model_module": "@jupyter-widgets/controls",
            "_model_module_version": "1.5.0",
            "_model_name": "HBoxModel",
            "_view_count": null,
            "_view_module": "@jupyter-widgets/controls",
            "_view_module_version": "1.5.0",
            "_view_name": "HBoxView",
            "box_style": "",
            "children": [
              "IPY_MODEL_bd7ea72a860346cfb8ab720cef47330e",
              "IPY_MODEL_9a444d1991eb4e44b2ef3d54fb1a3e7a",
              "IPY_MODEL_1607ad1f0a58444ab5d6e5d70d972345"
            ],
            "layout": "IPY_MODEL_28be6c93a12a481cba5931a39b9310fa"
          }
        },
        "bd7ea72a860346cfb8ab720cef47330e": {
          "model_module": "@jupyter-widgets/controls",
          "model_name": "HTMLModel",
          "model_module_version": "1.5.0",
          "state": {
            "_dom_classes": [],
            "_model_module": "@jupyter-widgets/controls",
            "_model_module_version": "1.5.0",
            "_model_name": "HTMLModel",
            "_view_count": null,
            "_view_module": "@jupyter-widgets/controls",
            "_view_module_version": "1.5.0",
            "_view_name": "HTMLView",
            "description": "",
            "description_tooltip": null,
            "layout": "IPY_MODEL_822add9b3eac495d86d52a0eebc4a10a",
            "placeholder": "​",
            "style": "IPY_MODEL_f9a290f9495041e38383e8e9489245fd",
            "value": "Downloading (…)lve/main/config.json: 100%"
          }
        },
        "9a444d1991eb4e44b2ef3d54fb1a3e7a": {
          "model_module": "@jupyter-widgets/controls",
          "model_name": "FloatProgressModel",
          "model_module_version": "1.5.0",
          "state": {
            "_dom_classes": [],
            "_model_module": "@jupyter-widgets/controls",
            "_model_module_version": "1.5.0",
            "_model_name": "FloatProgressModel",
            "_view_count": null,
            "_view_module": "@jupyter-widgets/controls",
            "_view_module_version": "1.5.0",
            "_view_name": "ProgressView",
            "bar_style": "success",
            "description": "",
            "description_tooltip": null,
            "layout": "IPY_MODEL_ffacde2c83ef4a7cac89665bc56b3f69",
            "max": 624,
            "min": 0,
            "orientation": "horizontal",
            "style": "IPY_MODEL_fc0f33181b5f431698c29c7e0e7dc308",
            "value": 624
          }
        },
        "1607ad1f0a58444ab5d6e5d70d972345": {
          "model_module": "@jupyter-widgets/controls",
          "model_name": "HTMLModel",
          "model_module_version": "1.5.0",
          "state": {
            "_dom_classes": [],
            "_model_module": "@jupyter-widgets/controls",
            "_model_module_version": "1.5.0",
            "_model_name": "HTMLModel",
            "_view_count": null,
            "_view_module": "@jupyter-widgets/controls",
            "_view_module_version": "1.5.0",
            "_view_name": "HTMLView",
            "description": "",
            "description_tooltip": null,
            "layout": "IPY_MODEL_fe4b58d1410245bb9c9c728199982695",
            "placeholder": "​",
            "style": "IPY_MODEL_c1da5b40c6104174b7c381832a9a4d44",
            "value": " 624/624 [00:00&lt;00:00, 33.1kB/s]"
          }
        },
        "28be6c93a12a481cba5931a39b9310fa": {
          "model_module": "@jupyter-widgets/base",
          "model_name": "LayoutModel",
          "model_module_version": "1.2.0",
          "state": {
            "_model_module": "@jupyter-widgets/base",
            "_model_module_version": "1.2.0",
            "_model_name": "LayoutModel",
            "_view_count": null,
            "_view_module": "@jupyter-widgets/base",
            "_view_module_version": "1.2.0",
            "_view_name": "LayoutView",
            "align_content": null,
            "align_items": null,
            "align_self": null,
            "border": null,
            "bottom": null,
            "display": null,
            "flex": null,
            "flex_flow": null,
            "grid_area": null,
            "grid_auto_columns": null,
            "grid_auto_flow": null,
            "grid_auto_rows": null,
            "grid_column": null,
            "grid_gap": null,
            "grid_row": null,
            "grid_template_areas": null,
            "grid_template_columns": null,
            "grid_template_rows": null,
            "height": null,
            "justify_content": null,
            "justify_items": null,
            "left": null,
            "margin": null,
            "max_height": null,
            "max_width": null,
            "min_height": null,
            "min_width": null,
            "object_fit": null,
            "object_position": null,
            "order": null,
            "overflow": null,
            "overflow_x": null,
            "overflow_y": null,
            "padding": null,
            "right": null,
            "top": null,
            "visibility": null,
            "width": null
          }
        },
        "822add9b3eac495d86d52a0eebc4a10a": {
          "model_module": "@jupyter-widgets/base",
          "model_name": "LayoutModel",
          "model_module_version": "1.2.0",
          "state": {
            "_model_module": "@jupyter-widgets/base",
            "_model_module_version": "1.2.0",
            "_model_name": "LayoutModel",
            "_view_count": null,
            "_view_module": "@jupyter-widgets/base",
            "_view_module_version": "1.2.0",
            "_view_name": "LayoutView",
            "align_content": null,
            "align_items": null,
            "align_self": null,
            "border": null,
            "bottom": null,
            "display": null,
            "flex": null,
            "flex_flow": null,
            "grid_area": null,
            "grid_auto_columns": null,
            "grid_auto_flow": null,
            "grid_auto_rows": null,
            "grid_column": null,
            "grid_gap": null,
            "grid_row": null,
            "grid_template_areas": null,
            "grid_template_columns": null,
            "grid_template_rows": null,
            "height": null,
            "justify_content": null,
            "justify_items": null,
            "left": null,
            "margin": null,
            "max_height": null,
            "max_width": null,
            "min_height": null,
            "min_width": null,
            "object_fit": null,
            "object_position": null,
            "order": null,
            "overflow": null,
            "overflow_x": null,
            "overflow_y": null,
            "padding": null,
            "right": null,
            "top": null,
            "visibility": null,
            "width": null
          }
        },
        "f9a290f9495041e38383e8e9489245fd": {
          "model_module": "@jupyter-widgets/controls",
          "model_name": "DescriptionStyleModel",
          "model_module_version": "1.5.0",
          "state": {
            "_model_module": "@jupyter-widgets/controls",
            "_model_module_version": "1.5.0",
            "_model_name": "DescriptionStyleModel",
            "_view_count": null,
            "_view_module": "@jupyter-widgets/base",
            "_view_module_version": "1.2.0",
            "_view_name": "StyleView",
            "description_width": ""
          }
        },
        "ffacde2c83ef4a7cac89665bc56b3f69": {
          "model_module": "@jupyter-widgets/base",
          "model_name": "LayoutModel",
          "model_module_version": "1.2.0",
          "state": {
            "_model_module": "@jupyter-widgets/base",
            "_model_module_version": "1.2.0",
            "_model_name": "LayoutModel",
            "_view_count": null,
            "_view_module": "@jupyter-widgets/base",
            "_view_module_version": "1.2.0",
            "_view_name": "LayoutView",
            "align_content": null,
            "align_items": null,
            "align_self": null,
            "border": null,
            "bottom": null,
            "display": null,
            "flex": null,
            "flex_flow": null,
            "grid_area": null,
            "grid_auto_columns": null,
            "grid_auto_flow": null,
            "grid_auto_rows": null,
            "grid_column": null,
            "grid_gap": null,
            "grid_row": null,
            "grid_template_areas": null,
            "grid_template_columns": null,
            "grid_template_rows": null,
            "height": null,
            "justify_content": null,
            "justify_items": null,
            "left": null,
            "margin": null,
            "max_height": null,
            "max_width": null,
            "min_height": null,
            "min_width": null,
            "object_fit": null,
            "object_position": null,
            "order": null,
            "overflow": null,
            "overflow_x": null,
            "overflow_y": null,
            "padding": null,
            "right": null,
            "top": null,
            "visibility": null,
            "width": null
          }
        },
        "fc0f33181b5f431698c29c7e0e7dc308": {
          "model_module": "@jupyter-widgets/controls",
          "model_name": "ProgressStyleModel",
          "model_module_version": "1.5.0",
          "state": {
            "_model_module": "@jupyter-widgets/controls",
            "_model_module_version": "1.5.0",
            "_model_name": "ProgressStyleModel",
            "_view_count": null,
            "_view_module": "@jupyter-widgets/base",
            "_view_module_version": "1.2.0",
            "_view_name": "StyleView",
            "bar_color": null,
            "description_width": ""
          }
        },
        "fe4b58d1410245bb9c9c728199982695": {
          "model_module": "@jupyter-widgets/base",
          "model_name": "LayoutModel",
          "model_module_version": "1.2.0",
          "state": {
            "_model_module": "@jupyter-widgets/base",
            "_model_module_version": "1.2.0",
            "_model_name": "LayoutModel",
            "_view_count": null,
            "_view_module": "@jupyter-widgets/base",
            "_view_module_version": "1.2.0",
            "_view_name": "LayoutView",
            "align_content": null,
            "align_items": null,
            "align_self": null,
            "border": null,
            "bottom": null,
            "display": null,
            "flex": null,
            "flex_flow": null,
            "grid_area": null,
            "grid_auto_columns": null,
            "grid_auto_flow": null,
            "grid_auto_rows": null,
            "grid_column": null,
            "grid_gap": null,
            "grid_row": null,
            "grid_template_areas": null,
            "grid_template_columns": null,
            "grid_template_rows": null,
            "height": null,
            "justify_content": null,
            "justify_items": null,
            "left": null,
            "margin": null,
            "max_height": null,
            "max_width": null,
            "min_height": null,
            "min_width": null,
            "object_fit": null,
            "object_position": null,
            "order": null,
            "overflow": null,
            "overflow_x": null,
            "overflow_y": null,
            "padding": null,
            "right": null,
            "top": null,
            "visibility": null,
            "width": null
          }
        },
        "c1da5b40c6104174b7c381832a9a4d44": {
          "model_module": "@jupyter-widgets/controls",
          "model_name": "DescriptionStyleModel",
          "model_module_version": "1.5.0",
          "state": {
            "_model_module": "@jupyter-widgets/controls",
            "_model_module_version": "1.5.0",
            "_model_name": "DescriptionStyleModel",
            "_view_count": null,
            "_view_module": "@jupyter-widgets/base",
            "_view_module_version": "1.2.0",
            "_view_name": "StyleView",
            "description_width": ""
          }
        },
        "edd4cc941fe44c88bde12fd423501ad7": {
          "model_module": "@jupyter-widgets/controls",
          "model_name": "HBoxModel",
          "model_module_version": "1.5.0",
          "state": {
            "_dom_classes": [],
            "_model_module": "@jupyter-widgets/controls",
            "_model_module_version": "1.5.0",
            "_model_name": "HBoxModel",
            "_view_count": null,
            "_view_module": "@jupyter-widgets/controls",
            "_view_module_version": "1.5.0",
            "_view_name": "HBoxView",
            "box_style": "",
            "children": [
              "IPY_MODEL_7c6735bc18e140e9ab49494688aedddd",
              "IPY_MODEL_647e4799068547f5b0ee772a413aec79",
              "IPY_MODEL_f68783834a044354b4ec9d4c025490b8"
            ],
            "layout": "IPY_MODEL_a9dcc3498edd40999a3b76b78d5c999f"
          }
        },
        "7c6735bc18e140e9ab49494688aedddd": {
          "model_module": "@jupyter-widgets/controls",
          "model_name": "HTMLModel",
          "model_module_version": "1.5.0",
          "state": {
            "_dom_classes": [],
            "_model_module": "@jupyter-widgets/controls",
            "_model_module_version": "1.5.0",
            "_model_name": "HTMLModel",
            "_view_count": null,
            "_view_module": "@jupyter-widgets/controls",
            "_view_module_version": "1.5.0",
            "_view_name": "HTMLView",
            "description": "",
            "description_tooltip": null,
            "layout": "IPY_MODEL_9bc766fd77a04715a1fea5293b026b81",
            "placeholder": "​",
            "style": "IPY_MODEL_59caa2b8089245fda3210f3454a720dd",
            "value": "Downloading (…)solve/main/vocab.txt: 100%"
          }
        },
        "647e4799068547f5b0ee772a413aec79": {
          "model_module": "@jupyter-widgets/controls",
          "model_name": "FloatProgressModel",
          "model_module_version": "1.5.0",
          "state": {
            "_dom_classes": [],
            "_model_module": "@jupyter-widgets/controls",
            "_model_module_version": "1.5.0",
            "_model_name": "FloatProgressModel",
            "_view_count": null,
            "_view_module": "@jupyter-widgets/controls",
            "_view_module_version": "1.5.0",
            "_view_name": "ProgressView",
            "bar_style": "success",
            "description": "",
            "description_tooltip": null,
            "layout": "IPY_MODEL_2a3813d74c0449aba122604845118c38",
            "max": 109540,
            "min": 0,
            "orientation": "horizontal",
            "style": "IPY_MODEL_d84bc949fff84a0289ab688c151cd604",
            "value": 109540
          }
        },
        "f68783834a044354b4ec9d4c025490b8": {
          "model_module": "@jupyter-widgets/controls",
          "model_name": "HTMLModel",
          "model_module_version": "1.5.0",
          "state": {
            "_dom_classes": [],
            "_model_module": "@jupyter-widgets/controls",
            "_model_module_version": "1.5.0",
            "_model_name": "HTMLModel",
            "_view_count": null,
            "_view_module": "@jupyter-widgets/controls",
            "_view_module_version": "1.5.0",
            "_view_name": "HTMLView",
            "description": "",
            "description_tooltip": null,
            "layout": "IPY_MODEL_92d86f6dd9dd4b76887cee91f92fa375",
            "placeholder": "​",
            "style": "IPY_MODEL_6e5f528456f042f0961726998f878f0f",
            "value": " 110k/110k [00:00&lt;00:00, 1.02MB/s]"
          }
        },
        "a9dcc3498edd40999a3b76b78d5c999f": {
          "model_module": "@jupyter-widgets/base",
          "model_name": "LayoutModel",
          "model_module_version": "1.2.0",
          "state": {
            "_model_module": "@jupyter-widgets/base",
            "_model_module_version": "1.2.0",
            "_model_name": "LayoutModel",
            "_view_count": null,
            "_view_module": "@jupyter-widgets/base",
            "_view_module_version": "1.2.0",
            "_view_name": "LayoutView",
            "align_content": null,
            "align_items": null,
            "align_self": null,
            "border": null,
            "bottom": null,
            "display": null,
            "flex": null,
            "flex_flow": null,
            "grid_area": null,
            "grid_auto_columns": null,
            "grid_auto_flow": null,
            "grid_auto_rows": null,
            "grid_column": null,
            "grid_gap": null,
            "grid_row": null,
            "grid_template_areas": null,
            "grid_template_columns": null,
            "grid_template_rows": null,
            "height": null,
            "justify_content": null,
            "justify_items": null,
            "left": null,
            "margin": null,
            "max_height": null,
            "max_width": null,
            "min_height": null,
            "min_width": null,
            "object_fit": null,
            "object_position": null,
            "order": null,
            "overflow": null,
            "overflow_x": null,
            "overflow_y": null,
            "padding": null,
            "right": null,
            "top": null,
            "visibility": null,
            "width": null
          }
        },
        "9bc766fd77a04715a1fea5293b026b81": {
          "model_module": "@jupyter-widgets/base",
          "model_name": "LayoutModel",
          "model_module_version": "1.2.0",
          "state": {
            "_model_module": "@jupyter-widgets/base",
            "_model_module_version": "1.2.0",
            "_model_name": "LayoutModel",
            "_view_count": null,
            "_view_module": "@jupyter-widgets/base",
            "_view_module_version": "1.2.0",
            "_view_name": "LayoutView",
            "align_content": null,
            "align_items": null,
            "align_self": null,
            "border": null,
            "bottom": null,
            "display": null,
            "flex": null,
            "flex_flow": null,
            "grid_area": null,
            "grid_auto_columns": null,
            "grid_auto_flow": null,
            "grid_auto_rows": null,
            "grid_column": null,
            "grid_gap": null,
            "grid_row": null,
            "grid_template_areas": null,
            "grid_template_columns": null,
            "grid_template_rows": null,
            "height": null,
            "justify_content": null,
            "justify_items": null,
            "left": null,
            "margin": null,
            "max_height": null,
            "max_width": null,
            "min_height": null,
            "min_width": null,
            "object_fit": null,
            "object_position": null,
            "order": null,
            "overflow": null,
            "overflow_x": null,
            "overflow_y": null,
            "padding": null,
            "right": null,
            "top": null,
            "visibility": null,
            "width": null
          }
        },
        "59caa2b8089245fda3210f3454a720dd": {
          "model_module": "@jupyter-widgets/controls",
          "model_name": "DescriptionStyleModel",
          "model_module_version": "1.5.0",
          "state": {
            "_model_module": "@jupyter-widgets/controls",
            "_model_module_version": "1.5.0",
            "_model_name": "DescriptionStyleModel",
            "_view_count": null,
            "_view_module": "@jupyter-widgets/base",
            "_view_module_version": "1.2.0",
            "_view_name": "StyleView",
            "description_width": ""
          }
        },
        "2a3813d74c0449aba122604845118c38": {
          "model_module": "@jupyter-widgets/base",
          "model_name": "LayoutModel",
          "model_module_version": "1.2.0",
          "state": {
            "_model_module": "@jupyter-widgets/base",
            "_model_module_version": "1.2.0",
            "_model_name": "LayoutModel",
            "_view_count": null,
            "_view_module": "@jupyter-widgets/base",
            "_view_module_version": "1.2.0",
            "_view_name": "LayoutView",
            "align_content": null,
            "align_items": null,
            "align_self": null,
            "border": null,
            "bottom": null,
            "display": null,
            "flex": null,
            "flex_flow": null,
            "grid_area": null,
            "grid_auto_columns": null,
            "grid_auto_flow": null,
            "grid_auto_rows": null,
            "grid_column": null,
            "grid_gap": null,
            "grid_row": null,
            "grid_template_areas": null,
            "grid_template_columns": null,
            "grid_template_rows": null,
            "height": null,
            "justify_content": null,
            "justify_items": null,
            "left": null,
            "margin": null,
            "max_height": null,
            "max_width": null,
            "min_height": null,
            "min_width": null,
            "object_fit": null,
            "object_position": null,
            "order": null,
            "overflow": null,
            "overflow_x": null,
            "overflow_y": null,
            "padding": null,
            "right": null,
            "top": null,
            "visibility": null,
            "width": null
          }
        },
        "d84bc949fff84a0289ab688c151cd604": {
          "model_module": "@jupyter-widgets/controls",
          "model_name": "ProgressStyleModel",
          "model_module_version": "1.5.0",
          "state": {
            "_model_module": "@jupyter-widgets/controls",
            "_model_module_version": "1.5.0",
            "_model_name": "ProgressStyleModel",
            "_view_count": null,
            "_view_module": "@jupyter-widgets/base",
            "_view_module_version": "1.2.0",
            "_view_name": "StyleView",
            "bar_color": null,
            "description_width": ""
          }
        },
        "92d86f6dd9dd4b76887cee91f92fa375": {
          "model_module": "@jupyter-widgets/base",
          "model_name": "LayoutModel",
          "model_module_version": "1.2.0",
          "state": {
            "_model_module": "@jupyter-widgets/base",
            "_model_module_version": "1.2.0",
            "_model_name": "LayoutModel",
            "_view_count": null,
            "_view_module": "@jupyter-widgets/base",
            "_view_module_version": "1.2.0",
            "_view_name": "LayoutView",
            "align_content": null,
            "align_items": null,
            "align_self": null,
            "border": null,
            "bottom": null,
            "display": null,
            "flex": null,
            "flex_flow": null,
            "grid_area": null,
            "grid_auto_columns": null,
            "grid_auto_flow": null,
            "grid_auto_rows": null,
            "grid_column": null,
            "grid_gap": null,
            "grid_row": null,
            "grid_template_areas": null,
            "grid_template_columns": null,
            "grid_template_rows": null,
            "height": null,
            "justify_content": null,
            "justify_items": null,
            "left": null,
            "margin": null,
            "max_height": null,
            "max_width": null,
            "min_height": null,
            "min_width": null,
            "object_fit": null,
            "object_position": null,
            "order": null,
            "overflow": null,
            "overflow_x": null,
            "overflow_y": null,
            "padding": null,
            "right": null,
            "top": null,
            "visibility": null,
            "width": null
          }
        },
        "6e5f528456f042f0961726998f878f0f": {
          "model_module": "@jupyter-widgets/controls",
          "model_name": "DescriptionStyleModel",
          "model_module_version": "1.5.0",
          "state": {
            "_model_module": "@jupyter-widgets/controls",
            "_model_module_version": "1.5.0",
            "_model_name": "DescriptionStyleModel",
            "_view_count": null,
            "_view_module": "@jupyter-widgets/base",
            "_view_module_version": "1.2.0",
            "_view_name": "StyleView",
            "description_width": ""
          }
        },
        "38dddf7467e3499d87a4ca375544c773": {
          "model_module": "@jupyter-widgets/controls",
          "model_name": "HBoxModel",
          "model_module_version": "1.5.0",
          "state": {
            "_dom_classes": [],
            "_model_module": "@jupyter-widgets/controls",
            "_model_module_version": "1.5.0",
            "_model_name": "HBoxModel",
            "_view_count": null,
            "_view_module": "@jupyter-widgets/controls",
            "_view_module_version": "1.5.0",
            "_view_name": "HBoxView",
            "box_style": "",
            "children": [
              "IPY_MODEL_2f10a0ca18c240388e5b0dc550073e7b",
              "IPY_MODEL_87ae34ca11c240b994dd5213722c6f0d",
              "IPY_MODEL_a0fecfae3ff04d74b2d6f96c6828e389"
            ],
            "layout": "IPY_MODEL_a8e6b639fcf24ab78665d06ef39d2ef9"
          }
        },
        "2f10a0ca18c240388e5b0dc550073e7b": {
          "model_module": "@jupyter-widgets/controls",
          "model_name": "HTMLModel",
          "model_module_version": "1.5.0",
          "state": {
            "_dom_classes": [],
            "_model_module": "@jupyter-widgets/controls",
            "_model_module_version": "1.5.0",
            "_model_name": "HTMLModel",
            "_view_count": null,
            "_view_module": "@jupyter-widgets/controls",
            "_view_module_version": "1.5.0",
            "_view_name": "HTMLView",
            "description": "",
            "description_tooltip": null,
            "layout": "IPY_MODEL_ca937b4c94ac44da819109a80db76c63",
            "placeholder": "​",
            "style": "IPY_MODEL_539bd55ac785420981d0627df53dc7f6",
            "value": "Downloading (…)/main/tokenizer.json: 100%"
          }
        },
        "87ae34ca11c240b994dd5213722c6f0d": {
          "model_module": "@jupyter-widgets/controls",
          "model_name": "FloatProgressModel",
          "model_module_version": "1.5.0",
          "state": {
            "_dom_classes": [],
            "_model_module": "@jupyter-widgets/controls",
            "_model_module_version": "1.5.0",
            "_model_name": "FloatProgressModel",
            "_view_count": null,
            "_view_module": "@jupyter-widgets/controls",
            "_view_module_version": "1.5.0",
            "_view_name": "ProgressView",
            "bar_style": "success",
            "description": "",
            "description_tooltip": null,
            "layout": "IPY_MODEL_bdcf2716dd3f49fa81527002b89df6b8",
            "max": 268943,
            "min": 0,
            "orientation": "horizontal",
            "style": "IPY_MODEL_7918875545e54cfdb1a5868e30691c1f",
            "value": 268943
          }
        },
        "a0fecfae3ff04d74b2d6f96c6828e389": {
          "model_module": "@jupyter-widgets/controls",
          "model_name": "HTMLModel",
          "model_module_version": "1.5.0",
          "state": {
            "_dom_classes": [],
            "_model_module": "@jupyter-widgets/controls",
            "_model_module_version": "1.5.0",
            "_model_name": "HTMLModel",
            "_view_count": null,
            "_view_module": "@jupyter-widgets/controls",
            "_view_module_version": "1.5.0",
            "_view_name": "HTMLView",
            "description": "",
            "description_tooltip": null,
            "layout": "IPY_MODEL_1760fe03eade4ec090eae246af29bce8",
            "placeholder": "​",
            "style": "IPY_MODEL_addc4800ef8e426591a4e58093f8eedd",
            "value": " 269k/269k [00:00&lt;00:00, 10.2MB/s]"
          }
        },
        "a8e6b639fcf24ab78665d06ef39d2ef9": {
          "model_module": "@jupyter-widgets/base",
          "model_name": "LayoutModel",
          "model_module_version": "1.2.0",
          "state": {
            "_model_module": "@jupyter-widgets/base",
            "_model_module_version": "1.2.0",
            "_model_name": "LayoutModel",
            "_view_count": null,
            "_view_module": "@jupyter-widgets/base",
            "_view_module_version": "1.2.0",
            "_view_name": "LayoutView",
            "align_content": null,
            "align_items": null,
            "align_self": null,
            "border": null,
            "bottom": null,
            "display": null,
            "flex": null,
            "flex_flow": null,
            "grid_area": null,
            "grid_auto_columns": null,
            "grid_auto_flow": null,
            "grid_auto_rows": null,
            "grid_column": null,
            "grid_gap": null,
            "grid_row": null,
            "grid_template_areas": null,
            "grid_template_columns": null,
            "grid_template_rows": null,
            "height": null,
            "justify_content": null,
            "justify_items": null,
            "left": null,
            "margin": null,
            "max_height": null,
            "max_width": null,
            "min_height": null,
            "min_width": null,
            "object_fit": null,
            "object_position": null,
            "order": null,
            "overflow": null,
            "overflow_x": null,
            "overflow_y": null,
            "padding": null,
            "right": null,
            "top": null,
            "visibility": null,
            "width": null
          }
        },
        "ca937b4c94ac44da819109a80db76c63": {
          "model_module": "@jupyter-widgets/base",
          "model_name": "LayoutModel",
          "model_module_version": "1.2.0",
          "state": {
            "_model_module": "@jupyter-widgets/base",
            "_model_module_version": "1.2.0",
            "_model_name": "LayoutModel",
            "_view_count": null,
            "_view_module": "@jupyter-widgets/base",
            "_view_module_version": "1.2.0",
            "_view_name": "LayoutView",
            "align_content": null,
            "align_items": null,
            "align_self": null,
            "border": null,
            "bottom": null,
            "display": null,
            "flex": null,
            "flex_flow": null,
            "grid_area": null,
            "grid_auto_columns": null,
            "grid_auto_flow": null,
            "grid_auto_rows": null,
            "grid_column": null,
            "grid_gap": null,
            "grid_row": null,
            "grid_template_areas": null,
            "grid_template_columns": null,
            "grid_template_rows": null,
            "height": null,
            "justify_content": null,
            "justify_items": null,
            "left": null,
            "margin": null,
            "max_height": null,
            "max_width": null,
            "min_height": null,
            "min_width": null,
            "object_fit": null,
            "object_position": null,
            "order": null,
            "overflow": null,
            "overflow_x": null,
            "overflow_y": null,
            "padding": null,
            "right": null,
            "top": null,
            "visibility": null,
            "width": null
          }
        },
        "539bd55ac785420981d0627df53dc7f6": {
          "model_module": "@jupyter-widgets/controls",
          "model_name": "DescriptionStyleModel",
          "model_module_version": "1.5.0",
          "state": {
            "_model_module": "@jupyter-widgets/controls",
            "_model_module_version": "1.5.0",
            "_model_name": "DescriptionStyleModel",
            "_view_count": null,
            "_view_module": "@jupyter-widgets/base",
            "_view_module_version": "1.2.0",
            "_view_name": "StyleView",
            "description_width": ""
          }
        },
        "bdcf2716dd3f49fa81527002b89df6b8": {
          "model_module": "@jupyter-widgets/base",
          "model_name": "LayoutModel",
          "model_module_version": "1.2.0",
          "state": {
            "_model_module": "@jupyter-widgets/base",
            "_model_module_version": "1.2.0",
            "_model_name": "LayoutModel",
            "_view_count": null,
            "_view_module": "@jupyter-widgets/base",
            "_view_module_version": "1.2.0",
            "_view_name": "LayoutView",
            "align_content": null,
            "align_items": null,
            "align_self": null,
            "border": null,
            "bottom": null,
            "display": null,
            "flex": null,
            "flex_flow": null,
            "grid_area": null,
            "grid_auto_columns": null,
            "grid_auto_flow": null,
            "grid_auto_rows": null,
            "grid_column": null,
            "grid_gap": null,
            "grid_row": null,
            "grid_template_areas": null,
            "grid_template_columns": null,
            "grid_template_rows": null,
            "height": null,
            "justify_content": null,
            "justify_items": null,
            "left": null,
            "margin": null,
            "max_height": null,
            "max_width": null,
            "min_height": null,
            "min_width": null,
            "object_fit": null,
            "object_position": null,
            "order": null,
            "overflow": null,
            "overflow_x": null,
            "overflow_y": null,
            "padding": null,
            "right": null,
            "top": null,
            "visibility": null,
            "width": null
          }
        },
        "7918875545e54cfdb1a5868e30691c1f": {
          "model_module": "@jupyter-widgets/controls",
          "model_name": "ProgressStyleModel",
          "model_module_version": "1.5.0",
          "state": {
            "_model_module": "@jupyter-widgets/controls",
            "_model_module_version": "1.5.0",
            "_model_name": "ProgressStyleModel",
            "_view_count": null,
            "_view_module": "@jupyter-widgets/base",
            "_view_module_version": "1.2.0",
            "_view_name": "StyleView",
            "bar_color": null,
            "description_width": ""
          }
        },
        "1760fe03eade4ec090eae246af29bce8": {
          "model_module": "@jupyter-widgets/base",
          "model_name": "LayoutModel",
          "model_module_version": "1.2.0",
          "state": {
            "_model_module": "@jupyter-widgets/base",
            "_model_module_version": "1.2.0",
            "_model_name": "LayoutModel",
            "_view_count": null,
            "_view_module": "@jupyter-widgets/base",
            "_view_module_version": "1.2.0",
            "_view_name": "LayoutView",
            "align_content": null,
            "align_items": null,
            "align_self": null,
            "border": null,
            "bottom": null,
            "display": null,
            "flex": null,
            "flex_flow": null,
            "grid_area": null,
            "grid_auto_columns": null,
            "grid_auto_flow": null,
            "grid_auto_rows": null,
            "grid_column": null,
            "grid_gap": null,
            "grid_row": null,
            "grid_template_areas": null,
            "grid_template_columns": null,
            "grid_template_rows": null,
            "height": null,
            "justify_content": null,
            "justify_items": null,
            "left": null,
            "margin": null,
            "max_height": null,
            "max_width": null,
            "min_height": null,
            "min_width": null,
            "object_fit": null,
            "object_position": null,
            "order": null,
            "overflow": null,
            "overflow_x": null,
            "overflow_y": null,
            "padding": null,
            "right": null,
            "top": null,
            "visibility": null,
            "width": null
          }
        },
        "addc4800ef8e426591a4e58093f8eedd": {
          "model_module": "@jupyter-widgets/controls",
          "model_name": "DescriptionStyleModel",
          "model_module_version": "1.5.0",
          "state": {
            "_model_module": "@jupyter-widgets/controls",
            "_model_module_version": "1.5.0",
            "_model_name": "DescriptionStyleModel",
            "_view_count": null,
            "_view_module": "@jupyter-widgets/base",
            "_view_module_version": "1.2.0",
            "_view_name": "StyleView",
            "description_width": ""
          }
        }
      }
    }
  },
  "cells": [
    {
      "cell_type": "markdown",
      "metadata": {
        "id": "view-in-github",
        "colab_type": "text"
      },
      "source": [
        "<a href=\"https://colab.research.google.com/github/erberry/ThinkML/blob/main/tokenizer.ipynb\" target=\"_parent\"><img src=\"https://colab.research.google.com/assets/colab-badge.svg\" alt=\"Open In Colab\"/></a>"
      ]
    },
    {
      "cell_type": "markdown",
      "source": [
        "# 安装依赖"
      ],
      "metadata": {
        "id": "2IcIMo1N4SdV"
      }
    },
    {
      "cell_type": "markdown",
      "source": [
        "本节主要使用 hugging face 的 transformers 库进行 tokenizer 体验。"
      ],
      "metadata": {
        "id": "khGcQkbg4Oe1"
      }
    },
    {
      "cell_type": "code",
      "execution_count": null,
      "metadata": {
        "colab": {
          "base_uri": "https://localhost:8080/"
        },
        "id": "vXwDVEE94G6X",
        "outputId": "d903e986-9c6f-45b4-a70b-f22894411b2a"
      },
      "outputs": [
        {
          "output_type": "stream",
          "name": "stdout",
          "text": [
            "Looking in indexes: https://pypi.org/simple, https://us-python.pkg.dev/colab-wheels/public/simple/\n",
            "Requirement already satisfied: transformers in /usr/local/lib/python3.10/dist-packages (4.29.2)\n",
            "Requirement already satisfied: filelock in /usr/local/lib/python3.10/dist-packages (from transformers) (3.12.0)\n",
            "Requirement already satisfied: huggingface-hub<1.0,>=0.14.1 in /usr/local/lib/python3.10/dist-packages (from transformers) (0.14.1)\n",
            "Requirement already satisfied: numpy>=1.17 in /usr/local/lib/python3.10/dist-packages (from transformers) (1.22.4)\n",
            "Requirement already satisfied: packaging>=20.0 in /usr/local/lib/python3.10/dist-packages (from transformers) (23.1)\n",
            "Requirement already satisfied: pyyaml>=5.1 in /usr/local/lib/python3.10/dist-packages (from transformers) (6.0)\n",
            "Requirement already satisfied: regex!=2019.12.17 in /usr/local/lib/python3.10/dist-packages (from transformers) (2022.10.31)\n",
            "Requirement already satisfied: requests in /usr/local/lib/python3.10/dist-packages (from transformers) (2.27.1)\n",
            "Requirement already satisfied: tokenizers!=0.11.3,<0.14,>=0.11.1 in /usr/local/lib/python3.10/dist-packages (from transformers) (0.13.3)\n",
            "Requirement already satisfied: tqdm>=4.27 in /usr/local/lib/python3.10/dist-packages (from transformers) (4.65.0)\n",
            "Requirement already satisfied: fsspec in /usr/local/lib/python3.10/dist-packages (from huggingface-hub<1.0,>=0.14.1->transformers) (2023.4.0)\n",
            "Requirement already satisfied: typing-extensions>=3.7.4.3 in /usr/local/lib/python3.10/dist-packages (from huggingface-hub<1.0,>=0.14.1->transformers) (4.5.0)\n",
            "Requirement already satisfied: urllib3<1.27,>=1.21.1 in /usr/local/lib/python3.10/dist-packages (from requests->transformers) (1.26.15)\n",
            "Requirement already satisfied: certifi>=2017.4.17 in /usr/local/lib/python3.10/dist-packages (from requests->transformers) (2022.12.7)\n",
            "Requirement already satisfied: charset-normalizer~=2.0.0 in /usr/local/lib/python3.10/dist-packages (from requests->transformers) (2.0.12)\n",
            "Requirement already satisfied: idna<4,>=2.5 in /usr/local/lib/python3.10/dist-packages (from requests->transformers) (3.4)\n"
          ]
        }
      ],
      "source": [
        "!pip install transformers"
      ]
    },
    {
      "cell_type": "markdown",
      "source": [
        "# 使用 pipeline 一键进行“句子的情绪分类”"
      ],
      "metadata": {
        "id": "uR9XO0Fh4dZU"
      }
    },
    {
      "cell_type": "markdown",
      "source": [
        "以下代码使用 hugging face 的 pipeline 包，对两个句子进行了情绪分类，即可以将句子体现了什么样的情绪（消极还是积极）计算出来。"
      ],
      "metadata": {
        "id": "XOHXznEDI7WU"
      }
    },
    {
      "cell_type": "code",
      "source": [
        "from transformers import pipeline\n",
        "\n",
        "classifier = pipeline(\"sentiment-analysis\")\n",
        "classifier(\n",
        "    [\n",
        "        \"I've been waiting for a HuggingFace course my whole life.\",\n",
        "        \"I hate this so much!\",\n",
        "    ]\n",
        ")"
      ],
      "metadata": {
        "colab": {
          "base_uri": "https://localhost:8080/"
        },
        "id": "sQU0O16Q4bq7",
        "outputId": "5a232bc4-9ee0-4400-a6b5-52c9ef4f169d"
      },
      "execution_count": null,
      "outputs": [
        {
          "output_type": "stream",
          "name": "stderr",
          "text": [
            "No model was supplied, defaulted to distilbert-base-uncased-finetuned-sst-2-english and revision af0f99b (https://huggingface.co/distilbert-base-uncased-finetuned-sst-2-english).\n",
            "Using a pipeline without specifying a model name and revision in production is not recommended.\n",
            "Xformers is not installed correctly. If you want to use memorry_efficient_attention to accelerate training use the following command to install Xformers\n",
            "pip install xformers.\n"
          ]
        },
        {
          "output_type": "execute_result",
          "data": {
            "text/plain": [
              "[{'label': 'POSITIVE', 'score': 0.9598048329353333},\n",
              " {'label': 'NEGATIVE', 'score': 0.9994558691978455}]"
            ]
          },
          "metadata": {},
          "execution_count": 5
        }
      ]
    },
    {
      "cell_type": "markdown",
      "source": [
        "输出结果如下：\n",
        "\n",
        "```\n",
        "[{'label': 'POSITIVE', 'score': 0.9598048329353333},\n",
        " {'label': 'NEGATIVE', 'score': 0.9994558691978455}]\n",
        "```\n",
        "结果显示第一句为积极情绪，第二句为消极情绪。\n",
        "\n",
        "自然语言处理中，标记器(Tokenizer)是核心组件之一。它们有一个目的：将文本转换为模型可以处理的数据。模型只能处理数字，因此标记器(Tokenizer)需要将我们的文本输入转换为数字数据。\n",
        "\n",
        "![6677.jpg](data:image/jpeg;base64,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)"
      ],
      "metadata": {
        "id": "stEbY88Q1Vrf"
      }
    },
    {
      "cell_type": "markdown",
      "source": [
        "# tokenizer 详解"
      ],
      "metadata": {
        "id": "z86RGJON5KuE"
      }
    },
    {
      "cell_type": "markdown",
      "source": [
        "## 单独使用 tokenizer"
      ],
      "metadata": {
        "id": "sr1gdSVJ5_8I"
      }
    },
    {
      "cell_type": "markdown",
      "source": [
        "使用 `pipeline(\"sentiment-analysis\")` 进行文本情绪分类时，当前默认使用的模型是“distilbert-base-uncased-finetuned-sst-2-english”。\n",
        "\n",
        "现在直接使用该模型的 tokenizer."
      ],
      "metadata": {
        "id": "T54QbL7Z2FpP"
      }
    },
    {
      "cell_type": "code",
      "source": [
        "from transformers import AutoTokenizer\n",
        "\n",
        "checkpoint = \"distilbert-base-uncased-finetuned-sst-2-english\"\n",
        "tokenizer = AutoTokenizer.from_pretrained(checkpoint)"
      ],
      "metadata": {
        "id": "7Q9_Ei9c5JgI"
      },
      "execution_count": null,
      "outputs": []
    },
    {
      "cell_type": "markdown",
      "source": [
        "使用 tokenizer 进行文本标记化，观察输出"
      ],
      "metadata": {
        "id": "l6Ey_NBY6lAY"
      }
    },
    {
      "cell_type": "code",
      "source": [
        "raw_inputs = [\n",
        "    \"I've been waiting for a HuggingFace course my whole life.\",\n",
        "    \"I hate this so much!\",\n",
        "]\n",
        "inputs = tokenizer(raw_inputs, padding=True, truncation=True, return_tensors=\"pt\")\n",
        "print(inputs)"
      ],
      "metadata": {
        "colab": {
          "base_uri": "https://localhost:8080/"
        },
        "id": "ZUS_xZLv60ZB",
        "outputId": "2d608a4d-b05d-4afa-d5af-cff54f8aa198"
      },
      "execution_count": null,
      "outputs": [
        {
          "output_type": "stream",
          "name": "stdout",
          "text": [
            "{'input_ids': tensor([[  101,  1045,  1005,  2310,  2042,  3403,  2005,  1037, 17662, 12172,\n",
            "          2607,  2026,  2878,  2166,  1012,   102],\n",
            "        [  101,  1045,  5223,  2023,  2061,  2172,   999,   102,     0,     0,\n",
            "             0,     0,     0,     0,     0,     0]]), 'attention_mask': tensor([[1, 1, 1, 1, 1, 1, 1, 1, 1, 1, 1, 1, 1, 1, 1, 1],\n",
            "        [1, 1, 1, 1, 1, 1, 1, 1, 0, 0, 0, 0, 0, 0, 0, 0]])}\n"
          ]
        }
      ]
    },
    {
      "cell_type": "markdown",
      "source": [
        "可以看到输出包含两部分数据：input_ids 和 attention_mask 。\n",
        "\n",
        "input_ids 和 attention_mask 的类型为 tensor（张量） 。\n",
        "\n",
        "张量是一种多维数组，是机器学习中最基本的数据结构。在 TensorFlow 和 PyTorch 这样的深度学习框架中，所有的输入和输出数据都被表示成张量的形式，模型的计算也是基于张量的运算来实现的。\n",
        "\n",
        "input_ids 中的张量为两个数组：\n",
        "\n",
        "`[  101,  1045,  1005,  2310,  2042,  3403,  2005,  1037, 17662, 12172,\n",
        "          2607,  2026,  2878,  2166,  1012,   102]`\n",
        "\n",
        "`[  101,  1045,  5223,  2023,  2061,  2172,   999,   102,     0,     0,\n",
        "             0,     0,     0,     0,     0,     0]`\n",
        "\n",
        "分别代表两个句子的数值表示。\n",
        "\n",
        "由于计算机芯片只能处理数值类型的数据，所以很重要的一步就是需要将图文或者任何其他东西转换为数值。\n",
        "\n",
        "在文本处理类模型中，tokenizer 的作用就是将文本中的字符转换为数值作为模型的输入，以及将模型输出的数值转为文本。"
      ],
      "metadata": {
        "id": "SIkHHyB12s_d"
      }
    },
    {
      "cell_type": "markdown",
      "source": [
        "## tokenizer 步骤分解"
      ],
      "metadata": {
        "id": "uBhs3fnH8y5x"
      }
    },
    {
      "cell_type": "markdown",
      "source": [
        "以下将 tokenizer 分为两步运行：\n",
        "\n",
        "1. 第一步：将文本拆分为字符\n",
        "2. 第二步：将字符转换为数值"
      ],
      "metadata": {
        "id": "aDCq82a1D5Xk"
      }
    },
    {
      "cell_type": "code",
      "source": [
        "import torch\n",
        "from transformers import AutoTokenizer, AutoModelForSequenceClassification\n",
        "\n",
        "checkpoint = \"distilbert-base-uncased-finetuned-sst-2-english\"\n",
        "tokenizer = AutoTokenizer.from_pretrained(checkpoint)\n",
        "model = AutoModelForSequenceClassification.from_pretrained(checkpoint)\n",
        "\n",
        "sequence1 = \"I've been waiting for a HuggingFace course my whole life.\"\n",
        "sequence2 = \"I hate this so much!\"\n",
        "\n",
        "tokens1 = tokenizer.tokenize(sequence1) # 文本拆分\n",
        "print(tokens1)\n",
        "ids1 = tokenizer.convert_tokens_to_ids(tokens1) # 转为模型可识别的数值类型\n",
        "print(ids1)\n",
        "\n",
        "tokens2 = tokenizer.tokenize(sequence2)\n",
        "print(tokens2)\n",
        "ids2 = tokenizer.convert_tokens_to_ids(tokens2)\n",
        "print(ids2)\n",
        "\n",
        "input_ids = torch.tensor([ids1, ids2]) # 转为张量\n",
        "# This line will fail.\n",
        "model(input_ids)"
      ],
      "metadata": {
        "colab": {
          "base_uri": "https://localhost:8080/",
          "height": 316
        },
        "id": "CRyOA9u39JnB",
        "outputId": "095a95f2-eed9-47c3-e88e-2272750d8c1c"
      },
      "execution_count": null,
      "outputs": [
        {
          "output_type": "stream",
          "name": "stdout",
          "text": [
            "['i', \"'\", 've', 'been', 'waiting', 'for', 'a', 'hugging', '##face', 'course', 'my', 'whole', 'life', '.']\n",
            "[1045, 1005, 2310, 2042, 3403, 2005, 1037, 17662, 12172, 2607, 2026, 2878, 2166, 1012]\n",
            "['i', 'hate', 'this', 'so', 'much', '!']\n",
            "[1045, 5223, 2023, 2061, 2172, 999]\n"
          ]
        },
        {
          "output_type": "error",
          "ename": "ValueError",
          "evalue": "ignored",
          "traceback": [
            "\u001b[0;31m---------------------------------------------------------------------------\u001b[0m",
            "\u001b[0;31mValueError\u001b[0m                                Traceback (most recent call last)",
            "\u001b[0;32m<ipython-input-8-10cf39c6dcde>\u001b[0m in \u001b[0;36m<cell line: 21>\u001b[0;34m()\u001b[0m\n\u001b[1;32m     19\u001b[0m \u001b[0mprint\u001b[0m\u001b[0;34m(\u001b[0m\u001b[0mids2\u001b[0m\u001b[0;34m)\u001b[0m\u001b[0;34m\u001b[0m\u001b[0;34m\u001b[0m\u001b[0m\n\u001b[1;32m     20\u001b[0m \u001b[0;34m\u001b[0m\u001b[0m\n\u001b[0;32m---> 21\u001b[0;31m \u001b[0minput_ids\u001b[0m \u001b[0;34m=\u001b[0m \u001b[0mtorch\u001b[0m\u001b[0;34m.\u001b[0m\u001b[0mtensor\u001b[0m\u001b[0;34m(\u001b[0m\u001b[0;34m[\u001b[0m\u001b[0mids1\u001b[0m\u001b[0;34m,\u001b[0m \u001b[0mids2\u001b[0m\u001b[0;34m]\u001b[0m\u001b[0;34m)\u001b[0m \u001b[0;31m# 转为张量\u001b[0m\u001b[0;34m\u001b[0m\u001b[0;34m\u001b[0m\u001b[0m\n\u001b[0m\u001b[1;32m     22\u001b[0m \u001b[0;31m# This line will fail.\u001b[0m\u001b[0;34m\u001b[0m\u001b[0;34m\u001b[0m\u001b[0m\n\u001b[1;32m     23\u001b[0m \u001b[0mmodel\u001b[0m\u001b[0;34m(\u001b[0m\u001b[0minput_ids\u001b[0m\u001b[0;34m)\u001b[0m\u001b[0;34m\u001b[0m\u001b[0;34m\u001b[0m\u001b[0m\n",
            "\u001b[0;31mValueError\u001b[0m: expected sequence of length 14 at dim 1 (got 6)"
          ]
        }
      ]
    },
    {
      "cell_type": "markdown",
      "source": [
        "上面是一个错误示例：由于两个句子进行文本拆分后，所得到的字符数组长度不一致，导致转换为ID后的 列表长度不一致。而机器学习模型对张量中的序列长度要求是需要一致。\n",
        "\n",
        "直接使用 `tokenizer(raw_inputs, padding=True, truncation=True, return_tensors=\"pt\")` 方法没有问题，是因为我们参数中设置了`padding=True`，即对长度不一致的序列进行填充。\n",
        "\n",
        "通过 Padding 和 Attention masks 解决以上错误："
      ],
      "metadata": {
        "id": "QqqYyxve-4Vf"
      }
    },
    {
      "cell_type": "code",
      "source": [
        "import torch\n",
        "from transformers import AutoTokenizer, AutoModelForSequenceClassification\n",
        "\n",
        "checkpoint = \"distilbert-base-uncased-finetuned-sst-2-english\"\n",
        "tokenizer = AutoTokenizer.from_pretrained(checkpoint)\n",
        "model = AutoModelForSequenceClassification.from_pretrained(checkpoint)\n",
        "\n",
        "ids1 = [1045, 1005, 2310, 2042, 3403, 2005, 1037, 17662, 12172, 2607, 2026, 2878, 2166, 1012]\n",
        "ids2 = [1045, 5223, 2023, 2061, 2172, 999] + [tokenizer.pad_token_id] * 8 # 使用pad填充，与第一个句子的长度对齐\n",
        "\n",
        "input_ids = torch.tensor([ids1, ids2])\n",
        "\n",
        "attention_mask = torch.tensor([\n",
        "    [1] * 14,\n",
        "    [1] * 6 + [0] * 8, # 告知模型后8个id是无效数据\n",
        "])\n",
        "\n",
        "model(input_ids,attention_mask=attention_mask)"
      ],
      "metadata": {
        "colab": {
          "base_uri": "https://localhost:8080/"
        },
        "id": "18LYFjxX_D1C",
        "outputId": "c9514729-abbd-446d-e1bf-5b773097a243"
      },
      "execution_count": null,
      "outputs": [
        {
          "output_type": "execute_result",
          "data": {
            "text/plain": [
              "SequenceClassifierOutput(loss=None, logits=tensor([[-2.7276,  2.8789],\n",
              "        [ 3.1931, -2.6685]], grad_fn=<AddmmBackward0>), hidden_states=None, attentions=None)"
            ]
          },
          "metadata": {},
          "execution_count": 10
        }
      ]
    },
    {
      "cell_type": "markdown",
      "source": [
        "以上代码，我们手动使用tokenizer提供的pad_token_id对第二句话的id序列进行了填充。\n",
        "\n",
        "并且设置了Attention masks，来告知模型哪些数据是有效的哪些是无效的。如果不设置Attention masks，模型将产生出不同的输出。"
      ],
      "metadata": {
        "id": "egwhFZLBGK5j"
      }
    },
    {
      "cell_type": "markdown",
      "source": [
        "# 不同的分词器"
      ],
      "metadata": {
        "id": "Z9OdcRvrDGix"
      }
    },
    {
      "cell_type": "markdown",
      "source": [
        "几乎每一类别模型都配备有一个 tokenizer 。在使用模型时必须使用相应的 tokenizer 。\n",
        "例如以下的 gpt2 模型必须使用 gpt2 的 tokenizer："
      ],
      "metadata": {
        "id": "3YxWlo5JOA8P"
      }
    },
    {
      "cell_type": "code",
      "source": [
        "from transformers import GPT2Tokenizer, GPT2Model\n",
        "tokenizer = GPT2Tokenizer.from_pretrained('gpt2')\n",
        "model = GPT2Model.from_pretrained('gpt2')\n",
        "text = \"Let’s do tokenization!\"\n",
        "print(tokenizer.tokenize(text))\n",
        "encoded_input = tokenizer(text, return_tensors='pt')\n",
        "output = model(**encoded_input)"
      ],
      "metadata": {
        "colab": {
          "base_uri": "https://localhost:8080/",
          "height": 163,
          "referenced_widgets": [
            "bce70eadc1bd4c6da40445790bde6b94",
            "ac24cd5d7e6848faa733cd7c048bb691",
            "ce14795dc2b142aca2c73ebbdb13c919",
            "d1ed84446d2a48db8aea91b71c864879",
            "53f27224bede456093b3db422165aec6",
            "04872859c7f845d1bbcb2ccd4f432bbc",
            "59e3626d1f7e44eabe31c5cebb9a6a80",
            "0a6bf8a554474cb0b9f13ea8be043593",
            "8da472ef419845f89106eb3c6c203c55",
            "636fe792dfce4b1897dae29961d903b4",
            "cfa0227c440d4b3aa34fe967bb25cb0c",
            "bff1eeb30dfb4042adba3628c5a8a321",
            "08f95dcdb9ba4925ace4542f9689a723",
            "4a634162a47341309a12e1ac85723101",
            "717746470c9a47bca060eff2f12610d1",
            "521cc1b3928949fc97e4eeb058f8b8c7",
            "f72001be9b9b4269a562a018945f8162",
            "6caa12e700fd41b79d7ee3c75573a74b",
            "ff158aaa1fed4dc7aaa6452ca8147d4a",
            "c4abcd5719844362a032bcec2b88e0e6",
            "236de2803268440e8be9c1ffdc6fdc5b",
            "f5e3bc6f28f04403942f9175d5bcc8d8",
            "867f4d500d5543c8ac218e9d5d3394a3",
            "9647c781eb7e4c21b3324e2e458ca9cb",
            "799feafbf37e432dab71e4ad5296d35c",
            "81cf9ceff2e3472bb53c349cdc97a100",
            "14518efc40a74b6facb42f6b687758a8",
            "4d53e000fc3d4c51b96134934e62f140",
            "bbf508a599cf4ec8858f7d8eff6ff463",
            "feff0d83d1094452b9f3a0a0a79bcaa4",
            "a6a865ec550f4749b796a680ba6459b1",
            "76714b843011459d9ac910e7c838d69d",
            "c07cb7c1f03c42888a1b6c89daf6816b",
            "7c7ffb1a00454874ba543f9c1590935e",
            "c64cf20550bc4cfdb86cbbb4ece28b7e",
            "d5591a28cd364141bafc6193b4df4211",
            "62ce5c0687964e919b3a08867ffbe09b",
            "9099aa7451174c0cb882f5b415444447",
            "2a13f2ea5e5f4d6fb09a70a9d0ed1567",
            "079211b230334a20af4f67443df989d7",
            "88ddbcab0773435297575ffdaa200f17",
            "e06188425e1e47009872bc8b0b382409",
            "de82b5844d1948e2997a39f6d85f6509",
            "af7684eedcbf4be5a3bb242d86f42148"
          ]
        },
        "id": "TGi7YOmrDSRD",
        "outputId": "04887ad6-3ecb-4292-adf5-8fc814e19add"
      },
      "execution_count": null,
      "outputs": [
        {
          "output_type": "display_data",
          "data": {
            "text/plain": [
              "Downloading (…)olve/main/vocab.json:   0%|          | 0.00/1.04M [00:00<?, ?B/s]"
            ],
            "application/vnd.jupyter.widget-view+json": {
              "version_major": 2,
              "version_minor": 0,
              "model_id": "bce70eadc1bd4c6da40445790bde6b94"
            }
          },
          "metadata": {}
        },
        {
          "output_type": "display_data",
          "data": {
            "text/plain": [
              "Downloading (…)olve/main/merges.txt:   0%|          | 0.00/456k [00:00<?, ?B/s]"
            ],
            "application/vnd.jupyter.widget-view+json": {
              "version_major": 2,
              "version_minor": 0,
              "model_id": "bff1eeb30dfb4042adba3628c5a8a321"
            }
          },
          "metadata": {}
        },
        {
          "output_type": "display_data",
          "data": {
            "text/plain": [
              "Downloading (…)lve/main/config.json:   0%|          | 0.00/665 [00:00<?, ?B/s]"
            ],
            "application/vnd.jupyter.widget-view+json": {
              "version_major": 2,
              "version_minor": 0,
              "model_id": "867f4d500d5543c8ac218e9d5d3394a3"
            }
          },
          "metadata": {}
        },
        {
          "output_type": "display_data",
          "data": {
            "text/plain": [
              "Downloading pytorch_model.bin:   0%|          | 0.00/548M [00:00<?, ?B/s]"
            ],
            "application/vnd.jupyter.widget-view+json": {
              "version_major": 2,
              "version_minor": 0,
              "model_id": "7c7ffb1a00454874ba543f9c1590935e"
            }
          },
          "metadata": {}
        },
        {
          "output_type": "stream",
          "name": "stdout",
          "text": [
            "['Let', 'âĢ', 'Ļ', 's', 'Ġdo', 'Ġtoken', 'ization', '!']\n"
          ]
        }
      ]
    },
    {
      "cell_type": "markdown",
      "source": [
        "tokenizer 算法可以分为以下几种：\n",
        "- 基于词的，按单词进行拆分，每个单词分配一个ID，会导致词表特别大；诸如dogs和dog还会被标记为不相关。\n",
        "- 基于字符的，词表缩小，未知的词也可以支持（都能够使用字符构建），但拆分后的token太多。\n",
        "- 子词标记化，常用单词不进行拆分，罕见词进行拆分。例如：“tokenization”被拆分为“token”和“ization”，这两部分都具有单独的语义。"
      ],
      "metadata": {
        "id": "ArzxSrKgO7QF"
      }
    },
    {
      "cell_type": "markdown",
      "source": [
        "## 中文分词器"
      ],
      "metadata": {
        "id": "PtDRJkDySlq9"
      }
    },
    {
      "cell_type": "markdown",
      "source": [
        "与大部分印欧语系的语言不同，中文（同样的还有日韩文）在词与词之间没有任何空格之类的显示标志指示词的边界。因此，中文分词是很多自然语言处理系统中的基础模块和首要环节。\n",
        "\n",
        "如：“我来到北京清华大学”，正常分词后是：“我/ 来到/ 北京/ 清华大学”，如果拆分成：”我来/ 到北/ 京/ 清华大学“，显然是不对的。\n",
        "\n",
        "中文分词也有“基于字符的”和“子词标记化”的算法。\n",
        "\n",
        "例如：bert-base-chinese 就使用了基于字符的算法，将每个中文字符分割为一个token\n",
        "\n",
        "但是这种分词方式过于简单，对于一些复合词、新词或专有名词等情况会存在一定的切分歧义。"
      ],
      "metadata": {
        "id": "9p3yTCOISomB"
      }
    },
    {
      "cell_type": "code",
      "source": [
        "from transformers import AutoTokenizer\n",
        "tokenizer = AutoTokenizer.from_pretrained(\"bert-base-chinese\")\n",
        "tokens = tokenizer.tokenize(\"我来到北京清华大学\") # 文本拆分\n",
        "print(tokens)"
      ],
      "metadata": {
        "colab": {
          "base_uri": "https://localhost:8080/",
          "height": 163,
          "referenced_widgets": [
            "99c7a068ba27473d89d573e2b5357258",
            "42ef6fcde9a14a90b874aa3c780b167a",
            "2acfaf2f135e4bf2abc4b8045986ae0f",
            "5ce65ff0d23042558c2a8a6cd8e8c561",
            "153caab763b74fda9588a0bcea96a0aa",
            "a9484cb1547846cab1096d23b4e5a5fc",
            "c7bc9002c6b84739b71bb2c1a4a3c694",
            "d75c0b0f0f4242ca879512435f453bfb",
            "29e9932ad6ab4a3fa65904428d4ebea7",
            "18b9da702a94407f8bd3065ec3642cdb",
            "19bf4de8b36640ee88ec084fab329032",
            "04d3d830713547e18ad9c34a73cc764f",
            "bd7ea72a860346cfb8ab720cef47330e",
            "9a444d1991eb4e44b2ef3d54fb1a3e7a",
            "1607ad1f0a58444ab5d6e5d70d972345",
            "28be6c93a12a481cba5931a39b9310fa",
            "822add9b3eac495d86d52a0eebc4a10a",
            "f9a290f9495041e38383e8e9489245fd",
            "ffacde2c83ef4a7cac89665bc56b3f69",
            "fc0f33181b5f431698c29c7e0e7dc308",
            "fe4b58d1410245bb9c9c728199982695",
            "c1da5b40c6104174b7c381832a9a4d44",
            "edd4cc941fe44c88bde12fd423501ad7",
            "7c6735bc18e140e9ab49494688aedddd",
            "647e4799068547f5b0ee772a413aec79",
            "f68783834a044354b4ec9d4c025490b8",
            "a9dcc3498edd40999a3b76b78d5c999f",
            "9bc766fd77a04715a1fea5293b026b81",
            "59caa2b8089245fda3210f3454a720dd",
            "2a3813d74c0449aba122604845118c38",
            "d84bc949fff84a0289ab688c151cd604",
            "92d86f6dd9dd4b76887cee91f92fa375",
            "6e5f528456f042f0961726998f878f0f",
            "38dddf7467e3499d87a4ca375544c773",
            "2f10a0ca18c240388e5b0dc550073e7b",
            "87ae34ca11c240b994dd5213722c6f0d",
            "a0fecfae3ff04d74b2d6f96c6828e389",
            "a8e6b639fcf24ab78665d06ef39d2ef9",
            "ca937b4c94ac44da819109a80db76c63",
            "539bd55ac785420981d0627df53dc7f6",
            "bdcf2716dd3f49fa81527002b89df6b8",
            "7918875545e54cfdb1a5868e30691c1f",
            "1760fe03eade4ec090eae246af29bce8",
            "addc4800ef8e426591a4e58093f8eedd"
          ]
        },
        "id": "EQmjnhcs7gS7",
        "outputId": "76d7f424-54ad-4cc1-9668-77fba0c46c39"
      },
      "execution_count": null,
      "outputs": [
        {
          "output_type": "display_data",
          "data": {
            "text/plain": [
              "Downloading (…)okenizer_config.json:   0%|          | 0.00/29.0 [00:00<?, ?B/s]"
            ],
            "application/vnd.jupyter.widget-view+json": {
              "version_major": 2,
              "version_minor": 0,
              "model_id": "99c7a068ba27473d89d573e2b5357258"
            }
          },
          "metadata": {}
        },
        {
          "output_type": "display_data",
          "data": {
            "text/plain": [
              "Downloading (…)lve/main/config.json:   0%|          | 0.00/624 [00:00<?, ?B/s]"
            ],
            "application/vnd.jupyter.widget-view+json": {
              "version_major": 2,
              "version_minor": 0,
              "model_id": "04d3d830713547e18ad9c34a73cc764f"
            }
          },
          "metadata": {}
        },
        {
          "output_type": "display_data",
          "data": {
            "text/plain": [
              "Downloading (…)solve/main/vocab.txt:   0%|          | 0.00/110k [00:00<?, ?B/s]"
            ],
            "application/vnd.jupyter.widget-view+json": {
              "version_major": 2,
              "version_minor": 0,
              "model_id": "edd4cc941fe44c88bde12fd423501ad7"
            }
          },
          "metadata": {}
        },
        {
          "output_type": "display_data",
          "data": {
            "text/plain": [
              "Downloading (…)/main/tokenizer.json:   0%|          | 0.00/269k [00:00<?, ?B/s]"
            ],
            "application/vnd.jupyter.widget-view+json": {
              "version_major": 2,
              "version_minor": 0,
              "model_id": "38dddf7467e3499d87a4ca375544c773"
            }
          },
          "metadata": {}
        },
        {
          "output_type": "stream",
          "name": "stdout",
          "text": [
            "['我', '来', '到', '北', '京', '清', '华', '大', '学']\n"
          ]
        }
      ]
    },
    {
      "cell_type": "markdown",
      "source": [
        "GPT系列模型则使用了子词标记法。\n",
        "由于这种方法会将一个中文字符拆分开，所以打印出的字符都是乱码。"
      ],
      "metadata": {
        "id": "cHdVBlam8kV4"
      }
    },
    {
      "cell_type": "code",
      "source": [
        "from transformers import GPT2Tokenizer\n",
        "tokenizer = GPT2Tokenizer.from_pretrained('gpt2')\n",
        "tokens = tokenizer.tokenize(\"我来到北京清华大学\") # 文本拆分\n",
        "print(tokens)"
      ],
      "metadata": {
        "colab": {
          "base_uri": "https://localhost:8080/"
        },
        "id": "t2lA8fgK8kr1",
        "outputId": "4af8f2d5-6eea-4dd9-f53e-73b11b7aebdc"
      },
      "execution_count": null,
      "outputs": [
        {
          "output_type": "stream",
          "name": "stdout",
          "text": [
            "['æĪ', 'ĳ', 'æĿ', '¥', 'åĪ', '°', 'åĮ', 'Ĺ', 'äº', '¬', 'æ', '¸', 'ħ', 'åį', 'İ', 'å¤§', 'åŃ', '¦']\n"
          ]
        }
      ]
    },
    {
      "cell_type": "markdown",
      "source": [
        "在中文环境中，更常用的分词算法，可以概括为以下三种：\n",
        "\n",
        "- 基于词表的分词算法\n",
        "- 基于统计模型的分词算法\n",
        "- 基于序列标注的分词方法"
      ],
      "metadata": {
        "id": "lNQpRoPZ9Rw-"
      }
    },
    {
      "cell_type": "markdown",
      "source": [
        "如 jieba 分词器使用了“基于词表的分词算法”"
      ],
      "metadata": {
        "id": "gV1qQ_ev-XVh"
      }
    },
    {
      "cell_type": "code",
      "source": [
        "!pip install jieba"
      ],
      "metadata": {
        "colab": {
          "base_uri": "https://localhost:8080/"
        },
        "id": "yb7MB8Nf-vRs",
        "outputId": "9d56f477-ab8d-423c-a695-ac532153a30b"
      },
      "execution_count": null,
      "outputs": [
        {
          "output_type": "stream",
          "name": "stdout",
          "text": [
            "Looking in indexes: https://pypi.org/simple, https://us-python.pkg.dev/colab-wheels/public/simple/\n",
            "Requirement already satisfied: jieba in /usr/local/lib/python3.10/dist-packages (0.42.1)\n"
          ]
        }
      ]
    },
    {
      "cell_type": "code",
      "source": [
        "import jieba\n",
        "\n",
        "seg_list = jieba.cut(\"我来到北京清华大学\")\n",
        "print(\"Default Mode: \" + \"/ \".join(seg_list))"
      ],
      "metadata": {
        "colab": {
          "base_uri": "https://localhost:8080/"
        },
        "id": "dcPQ6pPv-6Jt",
        "outputId": "42858f52-73e7-489a-8610-53f73b0593ba"
      },
      "execution_count": null,
      "outputs": [
        {
          "output_type": "stream",
          "name": "stderr",
          "text": [
            "Building prefix dict from the default dictionary ...\n",
            "DEBUG:jieba:Building prefix dict from the default dictionary ...\n",
            "Dumping model to file cache /tmp/jieba.cache\n",
            "DEBUG:jieba:Dumping model to file cache /tmp/jieba.cache\n",
            "Loading model cost 1.559 seconds.\n",
            "DEBUG:jieba:Loading model cost 1.559 seconds.\n",
            "Prefix dict has been built successfully.\n",
            "DEBUG:jieba:Prefix dict has been built successfully.\n"
          ]
        },
        {
          "output_type": "stream",
          "name": "stdout",
          "text": [
            "Default Mode: 我/ 来到/ 北京/ 清华大学\n"
          ]
        }
      ]
    },
    {
      "cell_type": "markdown",
      "source": [
        "THULAC 分词器使用了“基于序列标注的分词方法”"
      ],
      "metadata": {
        "id": "TPiNHusoA0PU"
      }
    },
    {
      "cell_type": "code",
      "source": [
        "!pip install thulac"
      ],
      "metadata": {
        "colab": {
          "base_uri": "https://localhost:8080/"
        },
        "id": "k89-O9YpBBPi",
        "outputId": "a121e76c-af2f-4d69-cb43-1952a877433b"
      },
      "execution_count": null,
      "outputs": [
        {
          "output_type": "stream",
          "name": "stdout",
          "text": [
            "Looking in indexes: https://pypi.org/simple, https://us-python.pkg.dev/colab-wheels/public/simple/\n",
            "Collecting thulac\n",
            "  Downloading thulac-0.2.2-py3-none-any.whl (53.1 MB)\n",
            "\u001b[2K     \u001b[90m━━━━━━━━━━━━━━━━━━━━━━━━━━━━━━━━━━━━━━━━\u001b[0m \u001b[32m53.1/53.1 MB\u001b[0m \u001b[31m10.3 MB/s\u001b[0m eta \u001b[36m0:00:00\u001b[0m\n",
            "\u001b[?25hInstalling collected packages: thulac\n",
            "Successfully installed thulac-0.2.2\n"
          ]
        }
      ]
    },
    {
      "cell_type": "code",
      "source": [
        "import thulac\n",
        "\n",
        "thu1 = thulac.thulac(seg_only=True)\n",
        "text = thu1.cut(\"我来到北京清华大学\", text=True)\n",
        "print(text)"
      ],
      "metadata": {
        "colab": {
          "base_uri": "https://localhost:8080/"
        },
        "id": "MWz2F7o0BP4B",
        "outputId": "b0fd5cd8-c970-40b6-8250-d2080a026e34"
      },
      "execution_count": null,
      "outputs": [
        {
          "output_type": "stream",
          "name": "stdout",
          "text": [
            "Model loaded succeed\n",
            "我 来 到 北京 清华大学\n"
          ]
        }
      ]
    },
    {
      "cell_type": "markdown",
      "source": [
        "hanlp 分词器使用了“基于序列标注的分词方法”"
      ],
      "metadata": {
        "id": "JlHjPlGWCGHr"
      }
    },
    {
      "cell_type": "code",
      "source": [
        "!pip install hanlp -U"
      ],
      "metadata": {
        "id": "BVO9nZtQFNr4",
        "colab": {
          "base_uri": "https://localhost:8080/",
          "height": 1000
        },
        "outputId": "3105c3b4-5894-4523-c3a3-2d775f27b61b"
      },
      "execution_count": null,
      "outputs": [
        {
          "output_type": "stream",
          "name": "stdout",
          "text": [
            "Looking in indexes: https://pypi.org/simple, https://us-python.pkg.dev/colab-wheels/public/simple/\n",
            "Collecting hanlp\n",
            "  Downloading hanlp-2.1.0b50-py3-none-any.whl (651 kB)\n",
            "\u001b[2K     \u001b[90m━━━━━━━━━━━━━━━━━━━━━━━━━━━━━━━━━━━━━━\u001b[0m \u001b[32m651.1/651.1 kB\u001b[0m \u001b[31m10.4 MB/s\u001b[0m eta \u001b[36m0:00:00\u001b[0m\n",
            "\u001b[?25hCollecting hanlp-common>=0.0.19 (from hanlp)\n",
            "  Downloading hanlp_common-0.0.19.tar.gz (28 kB)\n",
            "  Preparing metadata (setup.py) ... \u001b[?25l\u001b[?25hdone\n",
            "Collecting hanlp-downloader (from hanlp)\n",
            "  Downloading hanlp_downloader-0.0.25.tar.gz (13 kB)\n",
            "  Preparing metadata (setup.py) ... \u001b[?25l\u001b[?25hdone\n",
            "Collecting hanlp-trie>=0.0.4 (from hanlp)\n",
            "  Downloading hanlp_trie-0.0.5.tar.gz (6.7 kB)\n",
            "  Preparing metadata (setup.py) ... \u001b[?25l\u001b[?25hdone\n",
            "Collecting pynvml (from hanlp)\n",
            "  Downloading pynvml-11.5.0-py3-none-any.whl (53 kB)\n",
            "\u001b[2K     \u001b[90m━━━━━━━━━━━━━━━━━━━━━━━━━━━━━━━━━━━━━━━━\u001b[0m \u001b[32m53.1/53.1 kB\u001b[0m \u001b[31m5.9 MB/s\u001b[0m eta \u001b[36m0:00:00\u001b[0m\n",
            "\u001b[?25hCollecting sentencepiece>=0.1.91 (from hanlp)\n",
            "  Downloading sentencepiece-0.1.99-cp310-cp310-manylinux_2_17_x86_64.manylinux2014_x86_64.whl (1.3 MB)\n",
            "\u001b[2K     \u001b[90m━━━━━━━━━━━━━━━━━━━━━━━━━━━━━━━━━━━━━━━━\u001b[0m \u001b[32m1.3/1.3 MB\u001b[0m \u001b[31m45.8 MB/s\u001b[0m eta \u001b[36m0:00:00\u001b[0m\n",
            "\u001b[?25hRequirement already satisfied: termcolor in /usr/local/lib/python3.10/dist-packages (from hanlp) (2.3.0)\n",
            "Collecting tokenizers==0.11.6 (from hanlp)\n",
            "  Downloading tokenizers-0.11.6-cp310-cp310-manylinux_2_12_x86_64.manylinux2010_x86_64.whl (6.5 MB)\n",
            "\u001b[2K     \u001b[90m━━━━━━━━━━━━━━━━━━━━━━━━━━━━━━━━━━━━━━━━\u001b[0m \u001b[32m6.5/6.5 MB\u001b[0m \u001b[31m76.1 MB/s\u001b[0m eta \u001b[36m0:00:00\u001b[0m\n",
            "\u001b[?25hCollecting toposort==1.5 (from hanlp)\n",
            "  Downloading toposort-1.5-py2.py3-none-any.whl (7.6 kB)\n",
            "Requirement already satisfied: torch>=1.6.0 in /usr/local/lib/python3.10/dist-packages (from hanlp) (2.0.1+cu118)\n",
            "Requirement already satisfied: transformers>=4.1.1 in /usr/local/lib/python3.10/dist-packages (from hanlp) (4.29.2)\n",
            "Collecting phrasetree (from hanlp-common>=0.0.19->hanlp)\n",
            "  Downloading phrasetree-0.0.8.tar.gz (42 kB)\n",
            "\u001b[2K     \u001b[90m━━━━━━━━━━━━━━━━━━━━━━━━━━━━━━━━━━━━━━━━\u001b[0m \u001b[32m42.2/42.2 kB\u001b[0m \u001b[31m4.4 MB/s\u001b[0m eta \u001b[36m0:00:00\u001b[0m\n",
            "\u001b[?25h  Preparing metadata (setup.py) ... \u001b[?25l\u001b[?25hdone\n",
            "Requirement already satisfied: filelock in /usr/local/lib/python3.10/dist-packages (from torch>=1.6.0->hanlp) (3.12.0)\n",
            "Requirement already satisfied: typing-extensions in /usr/local/lib/python3.10/dist-packages (from torch>=1.6.0->hanlp) (4.5.0)\n",
            "Requirement already satisfied: sympy in /usr/local/lib/python3.10/dist-packages (from torch>=1.6.0->hanlp) (1.11.1)\n",
            "Requirement already satisfied: networkx in /usr/local/lib/python3.10/dist-packages (from torch>=1.6.0->hanlp) (3.1)\n",
            "Requirement already satisfied: jinja2 in /usr/local/lib/python3.10/dist-packages (from torch>=1.6.0->hanlp) (3.1.2)\n",
            "Requirement already satisfied: triton==2.0.0 in /usr/local/lib/python3.10/dist-packages (from torch>=1.6.0->hanlp) (2.0.0)\n",
            "Requirement already satisfied: cmake in /usr/local/lib/python3.10/dist-packages (from triton==2.0.0->torch>=1.6.0->hanlp) (3.25.2)\n",
            "Requirement already satisfied: lit in /usr/local/lib/python3.10/dist-packages (from triton==2.0.0->torch>=1.6.0->hanlp) (16.0.5)\n",
            "Requirement already satisfied: huggingface-hub<1.0,>=0.14.1 in /usr/local/lib/python3.10/dist-packages (from transformers>=4.1.1->hanlp) (0.14.1)\n",
            "Requirement already satisfied: numpy>=1.17 in /usr/local/lib/python3.10/dist-packages (from transformers>=4.1.1->hanlp) (1.22.4)\n",
            "Requirement already satisfied: packaging>=20.0 in /usr/local/lib/python3.10/dist-packages (from transformers>=4.1.1->hanlp) (23.1)\n",
            "Requirement already satisfied: pyyaml>=5.1 in /usr/local/lib/python3.10/dist-packages (from transformers>=4.1.1->hanlp) (6.0)\n",
            "Requirement already satisfied: regex!=2019.12.17 in /usr/local/lib/python3.10/dist-packages (from transformers>=4.1.1->hanlp) (2022.10.31)\n",
            "Requirement already satisfied: requests in /usr/local/lib/python3.10/dist-packages (from transformers>=4.1.1->hanlp) (2.27.1)\n",
            "Requirement already satisfied: tqdm>=4.27 in /usr/local/lib/python3.10/dist-packages (from transformers>=4.1.1->hanlp) (4.65.0)\n",
            "Requirement already satisfied: fsspec in /usr/local/lib/python3.10/dist-packages (from huggingface-hub<1.0,>=0.14.1->transformers>=4.1.1->hanlp) (2023.4.0)\n",
            "Requirement already satisfied: MarkupSafe>=2.0 in /usr/local/lib/python3.10/dist-packages (from jinja2->torch>=1.6.0->hanlp) (2.1.2)\n",
            "Requirement already satisfied: urllib3<1.27,>=1.21.1 in /usr/local/lib/python3.10/dist-packages (from requests->transformers>=4.1.1->hanlp) (1.26.15)\n",
            "Requirement already satisfied: certifi>=2017.4.17 in /usr/local/lib/python3.10/dist-packages (from requests->transformers>=4.1.1->hanlp) (2022.12.7)\n",
            "Requirement already satisfied: charset-normalizer~=2.0.0 in /usr/local/lib/python3.10/dist-packages (from requests->transformers>=4.1.1->hanlp) (2.0.12)\n",
            "Requirement already satisfied: idna<4,>=2.5 in /usr/local/lib/python3.10/dist-packages (from requests->transformers>=4.1.1->hanlp) (3.4)\n",
            "Requirement already satisfied: mpmath>=0.19 in /usr/local/lib/python3.10/dist-packages (from sympy->torch>=1.6.0->hanlp) (1.3.0)\n",
            "Building wheels for collected packages: hanlp-common, hanlp-trie, hanlp-downloader, phrasetree\n",
            "  Building wheel for hanlp-common (setup.py) ... \u001b[?25l\u001b[?25hdone\n",
            "  Created wheel for hanlp-common: filename=hanlp_common-0.0.19-py3-none-any.whl size=30634 sha256=de4ef1f9f724a3caa69db8abf6bb0e37cf90a03852c41dff9b616f4b383763f8\n",
            "  Stored in directory: /root/.cache/pip/wheels/77/5f/9e/2e877efbb98d58173396c53aacfd89369b6cc173ed9f2c0390\n",
            "  Building wheel for hanlp-trie (setup.py) ... \u001b[?25l\u001b[?25hdone\n",
            "  Created wheel for hanlp-trie: filename=hanlp_trie-0.0.5-py3-none-any.whl size=6816 sha256=40d06b17959817ea876b7296c2e91428d55414dbe91942ae942a83a2170cae4b\n",
            "  Stored in directory: /root/.cache/pip/wheels/4b/ff/a9/6883d860cbed0247ce316c39757ff61c1f5bfd3556abfbefa0\n",
            "  Building wheel for hanlp-downloader (setup.py) ... \u001b[?25l\u001b[?25hdone\n",
            "  Created wheel for hanlp-downloader: filename=hanlp_downloader-0.0.25-py3-none-any.whl size=13746 sha256=9c95a184f3718cfe961d483e4ced73d355e1ad066e4cd199ee819cd43d39d2d5\n",
            "  Stored in directory: /root/.cache/pip/wheels/71/2b/67/65892ee65ea68b4c0936b9a8f2ea73665c3389fec08746b949\n",
            "  Building wheel for phrasetree (setup.py) ... \u001b[?25l\u001b[?25hdone\n",
            "  Created wheel for phrasetree: filename=phrasetree-0.0.8-py3-none-any.whl size=44219 sha256=32d51377419a57a01e3342ba2bece0a84c67185e0e73640304717aa9ce756ed5\n",
            "  Stored in directory: /root/.cache/pip/wheels/dc/3f/2f/d995b1953a6598baf9d9119304f864c602018a15a7d59ad0ab\n",
            "Successfully built hanlp-common hanlp-trie hanlp-downloader phrasetree\n",
            "Installing collected packages: toposort, tokenizers, sentencepiece, phrasetree, pynvml, hanlp-common, hanlp-trie, hanlp-downloader, hanlp\n",
            "  Attempting uninstall: tokenizers\n",
            "    Found existing installation: tokenizers 0.13.3\n",
            "    Uninstalling tokenizers-0.13.3:\n",
            "      Successfully uninstalled tokenizers-0.13.3\n",
            "Successfully installed hanlp-2.1.0b50 hanlp-common-0.0.19 hanlp-downloader-0.0.25 hanlp-trie-0.0.5 phrasetree-0.0.8 pynvml-11.5.0 sentencepiece-0.1.99 tokenizers-0.11.6 toposort-1.5\n"
          ]
        },
        {
          "output_type": "display_data",
          "data": {
            "application/vnd.colab-display-data+json": {
              "pip_warning": {
                "packages": [
                  "tokenizers"
                ]
              }
            }
          },
          "metadata": {}
        }
      ]
    },
    {
      "cell_type": "code",
      "source": [
        "import hanlp\n",
        "tok = hanlp.load(hanlp.pretrained.tok.FINE_ELECTRA_SMALL_ZH)\n",
        "tok(['我来到北京清华大学'])"
      ],
      "metadata": {
        "colab": {
          "base_uri": "https://localhost:8080/"
        },
        "id": "k2UlksQHFU2U",
        "outputId": "dc029ac5-f2ed-45fb-9c6c-4c4df36ba700"
      },
      "execution_count": null,
      "outputs": [
        {
          "output_type": "stream",
          "name": "stderr",
          "text": [
            "Downloading https://file.hankcs.com/hanlp/tok/fine_electra_small_20220615_231803.zip to /root/.hanlp/tok/fine_electra_small_20220615_231803.zip\n",
            "100%  43.5 MiB  36.8 MiB/s ETA:  0 s [=========================================]\n",
            "Decompressing /root/.hanlp/tok/fine_electra_small_20220615_231803.zip to /root/.hanlp/tok\n",
            "Downloading https://file.hankcs.com/hanlp/utils/char_table_20210602_202632.json.zip to /root/.hanlp/utils/char_table_20210602_202632.json.zip\n",
            "100%  26.7 KiB  26.7 KiB/s ETA:  0 s [=========================================]\n",
            "Decompressing /root/.hanlp/utils/char_table_20210602_202632.json.zip to /root/.hanlp/utils\n",
            "Downloading https://file.hankcs.com/hanlp/transformers/electra_zh_small_20210706_125427.zip to /root/.hanlp/transformers/electra_zh_small_20210706_125427.zip\n",
            "100%  41.2 KiB  41.2 KiB/s ETA:  0 s [=========================================]\n",
            "Decompressing /root/.hanlp/transformers/electra_zh_small_20210706_125427.zip to /root/.hanlp/transformers\n"
          ]
        },
        {
          "output_type": "execute_result",
          "data": {
            "text/plain": [
              "[['我', '来到', '北京', '清华', '大学']]"
            ]
          },
          "metadata": {},
          "execution_count": 19
        }
      ]
    }
  ]
}