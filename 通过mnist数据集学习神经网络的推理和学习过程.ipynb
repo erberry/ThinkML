{
  "nbformat": 4,
  "nbformat_minor": 0,
  "metadata": {
    "colab": {
      "provenance": [],
      "collapsed_sections": [
        "D1ofkge71rDM",
        "bOlVp6kC1t72",
        "LWmZmZg3kp-E",
        "YysYikcDaVqc",
        "ugL40FqrbBg_",
        "ia1-5BwbGHhR",
        "JcWUwIDuodZN"
      ],
      "authorship_tag": "ABX9TyOXNV/IhF//TElAWgmwL8WG",
      "include_colab_link": true
    },
    "kernelspec": {
      "name": "python3",
      "display_name": "Python 3"
    },
    "language_info": {
      "name": "python"
    },
    "widgets": {
      "application/vnd.jupyter.widget-state+json": {
        "110ba54dae2945acaa30f55570a037c1": {
          "model_module": "@jupyter-widgets/controls",
          "model_name": "HBoxModel",
          "model_module_version": "1.5.0",
          "state": {
            "_dom_classes": [],
            "_model_module": "@jupyter-widgets/controls",
            "_model_module_version": "1.5.0",
            "_model_name": "HBoxModel",
            "_view_count": null,
            "_view_module": "@jupyter-widgets/controls",
            "_view_module_version": "1.5.0",
            "_view_name": "HBoxView",
            "box_style": "",
            "children": [
              "IPY_MODEL_5571a0377e9149d889d2c145ec7ad6aa",
              "IPY_MODEL_d367ecad97e64f00bcf48dbc3890d553",
              "IPY_MODEL_b68f9600d80b40efb4f8e19aa5f4b189"
            ],
            "layout": "IPY_MODEL_e12b8aef302c4eddb5fe584c04f9010a"
          }
        },
        "5571a0377e9149d889d2c145ec7ad6aa": {
          "model_module": "@jupyter-widgets/controls",
          "model_name": "HTMLModel",
          "model_module_version": "1.5.0",
          "state": {
            "_dom_classes": [],
            "_model_module": "@jupyter-widgets/controls",
            "_model_module_version": "1.5.0",
            "_model_name": "HTMLModel",
            "_view_count": null,
            "_view_module": "@jupyter-widgets/controls",
            "_view_module_version": "1.5.0",
            "_view_name": "HTMLView",
            "description": "",
            "description_tooltip": null,
            "layout": "IPY_MODEL_df0f9a7f818d42949034d5909a5d2a0c",
            "placeholder": "​",
            "style": "IPY_MODEL_72306c697ba04e6d92d53a2711ff4d40",
            "value": "100%"
          }
        },
        "d367ecad97e64f00bcf48dbc3890d553": {
          "model_module": "@jupyter-widgets/controls",
          "model_name": "FloatProgressModel",
          "model_module_version": "1.5.0",
          "state": {
            "_dom_classes": [],
            "_model_module": "@jupyter-widgets/controls",
            "_model_module_version": "1.5.0",
            "_model_name": "FloatProgressModel",
            "_view_count": null,
            "_view_module": "@jupyter-widgets/controls",
            "_view_module_version": "1.5.0",
            "_view_name": "ProgressView",
            "bar_style": "success",
            "description": "",
            "description_tooltip": null,
            "layout": "IPY_MODEL_7ee3dedd190c4a0ab4e1a259250caae0",
            "max": 2,
            "min": 0,
            "orientation": "horizontal",
            "style": "IPY_MODEL_d891031879ec4e3bb020a9ea9f770abd",
            "value": 2
          }
        },
        "b68f9600d80b40efb4f8e19aa5f4b189": {
          "model_module": "@jupyter-widgets/controls",
          "model_name": "HTMLModel",
          "model_module_version": "1.5.0",
          "state": {
            "_dom_classes": [],
            "_model_module": "@jupyter-widgets/controls",
            "_model_module_version": "1.5.0",
            "_model_name": "HTMLModel",
            "_view_count": null,
            "_view_module": "@jupyter-widgets/controls",
            "_view_module_version": "1.5.0",
            "_view_name": "HTMLView",
            "description": "",
            "description_tooltip": null,
            "layout": "IPY_MODEL_19a3122c031a4a2ea41c659ee0aec220",
            "placeholder": "​",
            "style": "IPY_MODEL_788f5894c5704008b68388cec783e03f",
            "value": " 2/2 [00:00&lt;00:00, 74.58it/s]"
          }
        },
        "e12b8aef302c4eddb5fe584c04f9010a": {
          "model_module": "@jupyter-widgets/base",
          "model_name": "LayoutModel",
          "model_module_version": "1.2.0",
          "state": {
            "_model_module": "@jupyter-widgets/base",
            "_model_module_version": "1.2.0",
            "_model_name": "LayoutModel",
            "_view_count": null,
            "_view_module": "@jupyter-widgets/base",
            "_view_module_version": "1.2.0",
            "_view_name": "LayoutView",
            "align_content": null,
            "align_items": null,
            "align_self": null,
            "border": null,
            "bottom": null,
            "display": null,
            "flex": null,
            "flex_flow": null,
            "grid_area": null,
            "grid_auto_columns": null,
            "grid_auto_flow": null,
            "grid_auto_rows": null,
            "grid_column": null,
            "grid_gap": null,
            "grid_row": null,
            "grid_template_areas": null,
            "grid_template_columns": null,
            "grid_template_rows": null,
            "height": null,
            "justify_content": null,
            "justify_items": null,
            "left": null,
            "margin": null,
            "max_height": null,
            "max_width": null,
            "min_height": null,
            "min_width": null,
            "object_fit": null,
            "object_position": null,
            "order": null,
            "overflow": null,
            "overflow_x": null,
            "overflow_y": null,
            "padding": null,
            "right": null,
            "top": null,
            "visibility": null,
            "width": null
          }
        },
        "df0f9a7f818d42949034d5909a5d2a0c": {
          "model_module": "@jupyter-widgets/base",
          "model_name": "LayoutModel",
          "model_module_version": "1.2.0",
          "state": {
            "_model_module": "@jupyter-widgets/base",
            "_model_module_version": "1.2.0",
            "_model_name": "LayoutModel",
            "_view_count": null,
            "_view_module": "@jupyter-widgets/base",
            "_view_module_version": "1.2.0",
            "_view_name": "LayoutView",
            "align_content": null,
            "align_items": null,
            "align_self": null,
            "border": null,
            "bottom": null,
            "display": null,
            "flex": null,
            "flex_flow": null,
            "grid_area": null,
            "grid_auto_columns": null,
            "grid_auto_flow": null,
            "grid_auto_rows": null,
            "grid_column": null,
            "grid_gap": null,
            "grid_row": null,
            "grid_template_areas": null,
            "grid_template_columns": null,
            "grid_template_rows": null,
            "height": null,
            "justify_content": null,
            "justify_items": null,
            "left": null,
            "margin": null,
            "max_height": null,
            "max_width": null,
            "min_height": null,
            "min_width": null,
            "object_fit": null,
            "object_position": null,
            "order": null,
            "overflow": null,
            "overflow_x": null,
            "overflow_y": null,
            "padding": null,
            "right": null,
            "top": null,
            "visibility": null,
            "width": null
          }
        },
        "72306c697ba04e6d92d53a2711ff4d40": {
          "model_module": "@jupyter-widgets/controls",
          "model_name": "DescriptionStyleModel",
          "model_module_version": "1.5.0",
          "state": {
            "_model_module": "@jupyter-widgets/controls",
            "_model_module_version": "1.5.0",
            "_model_name": "DescriptionStyleModel",
            "_view_count": null,
            "_view_module": "@jupyter-widgets/base",
            "_view_module_version": "1.2.0",
            "_view_name": "StyleView",
            "description_width": ""
          }
        },
        "7ee3dedd190c4a0ab4e1a259250caae0": {
          "model_module": "@jupyter-widgets/base",
          "model_name": "LayoutModel",
          "model_module_version": "1.2.0",
          "state": {
            "_model_module": "@jupyter-widgets/base",
            "_model_module_version": "1.2.0",
            "_model_name": "LayoutModel",
            "_view_count": null,
            "_view_module": "@jupyter-widgets/base",
            "_view_module_version": "1.2.0",
            "_view_name": "LayoutView",
            "align_content": null,
            "align_items": null,
            "align_self": null,
            "border": null,
            "bottom": null,
            "display": null,
            "flex": null,
            "flex_flow": null,
            "grid_area": null,
            "grid_auto_columns": null,
            "grid_auto_flow": null,
            "grid_auto_rows": null,
            "grid_column": null,
            "grid_gap": null,
            "grid_row": null,
            "grid_template_areas": null,
            "grid_template_columns": null,
            "grid_template_rows": null,
            "height": null,
            "justify_content": null,
            "justify_items": null,
            "left": null,
            "margin": null,
            "max_height": null,
            "max_width": null,
            "min_height": null,
            "min_width": null,
            "object_fit": null,
            "object_position": null,
            "order": null,
            "overflow": null,
            "overflow_x": null,
            "overflow_y": null,
            "padding": null,
            "right": null,
            "top": null,
            "visibility": null,
            "width": null
          }
        },
        "d891031879ec4e3bb020a9ea9f770abd": {
          "model_module": "@jupyter-widgets/controls",
          "model_name": "ProgressStyleModel",
          "model_module_version": "1.5.0",
          "state": {
            "_model_module": "@jupyter-widgets/controls",
            "_model_module_version": "1.5.0",
            "_model_name": "ProgressStyleModel",
            "_view_count": null,
            "_view_module": "@jupyter-widgets/base",
            "_view_module_version": "1.2.0",
            "_view_name": "StyleView",
            "bar_color": null,
            "description_width": ""
          }
        },
        "19a3122c031a4a2ea41c659ee0aec220": {
          "model_module": "@jupyter-widgets/base",
          "model_name": "LayoutModel",
          "model_module_version": "1.2.0",
          "state": {
            "_model_module": "@jupyter-widgets/base",
            "_model_module_version": "1.2.0",
            "_model_name": "LayoutModel",
            "_view_count": null,
            "_view_module": "@jupyter-widgets/base",
            "_view_module_version": "1.2.0",
            "_view_name": "LayoutView",
            "align_content": null,
            "align_items": null,
            "align_self": null,
            "border": null,
            "bottom": null,
            "display": null,
            "flex": null,
            "flex_flow": null,
            "grid_area": null,
            "grid_auto_columns": null,
            "grid_auto_flow": null,
            "grid_auto_rows": null,
            "grid_column": null,
            "grid_gap": null,
            "grid_row": null,
            "grid_template_areas": null,
            "grid_template_columns": null,
            "grid_template_rows": null,
            "height": null,
            "justify_content": null,
            "justify_items": null,
            "left": null,
            "margin": null,
            "max_height": null,
            "max_width": null,
            "min_height": null,
            "min_width": null,
            "object_fit": null,
            "object_position": null,
            "order": null,
            "overflow": null,
            "overflow_x": null,
            "overflow_y": null,
            "padding": null,
            "right": null,
            "top": null,
            "visibility": null,
            "width": null
          }
        },
        "788f5894c5704008b68388cec783e03f": {
          "model_module": "@jupyter-widgets/controls",
          "model_name": "DescriptionStyleModel",
          "model_module_version": "1.5.0",
          "state": {
            "_model_module": "@jupyter-widgets/controls",
            "_model_module_version": "1.5.0",
            "_model_name": "DescriptionStyleModel",
            "_view_count": null,
            "_view_module": "@jupyter-widgets/base",
            "_view_module_version": "1.2.0",
            "_view_name": "StyleView",
            "description_width": ""
          }
        }
      }
    }
  },
  "cells": [
    {
      "cell_type": "markdown",
      "metadata": {
        "id": "view-in-github",
        "colab_type": "text"
      },
      "source": [
        "<a href=\"https://colab.research.google.com/github/erberry/ThinkML/blob/main/%E9%80%9A%E8%BF%87mnist%E6%95%B0%E6%8D%AE%E9%9B%86%E5%AD%A6%E4%B9%A0%E7%A5%9E%E7%BB%8F%E7%BD%91%E7%BB%9C%E7%9A%84%E6%8E%A8%E7%90%86%E5%92%8C%E5%AD%A6%E4%B9%A0%E8%BF%87%E7%A8%8B.ipynb\" target=\"_parent\"><img src=\"https://colab.research.google.com/assets/colab-badge.svg\" alt=\"Open In Colab\"/></a>"
      ]
    },
    {
      "cell_type": "markdown",
      "source": [
        "# 一、MNIST 数据集"
      ],
      "metadata": {
        "id": "XxFLjdwhHSxa"
      }
    },
    {
      "cell_type": "markdown",
      "source": [
        "## 安装依赖"
      ],
      "metadata": {
        "id": "D1ofkge71rDM"
      }
    },
    {
      "cell_type": "code",
      "execution_count": null,
      "metadata": {
        "id": "Me0nduU7tH8O",
        "colab": {
          "base_uri": "https://localhost:8080/"
        },
        "outputId": "d36f356b-9707-4043-ac68-08fe58313a61"
      },
      "outputs": [
        {
          "output_type": "stream",
          "name": "stdout",
          "text": [
            "Looking in indexes: https://pypi.org/simple, https://us-python.pkg.dev/colab-wheels/public/simple/\n",
            "Collecting datasets\n",
            "  Downloading datasets-2.13.1-py3-none-any.whl (486 kB)\n",
            "\u001b[2K     \u001b[90m━━━━━━━━━━━━━━━━━━━━━━━━━━━━━━━━━━━━━━━\u001b[0m \u001b[32m486.2/486.2 kB\u001b[0m \u001b[31m8.3 MB/s\u001b[0m eta \u001b[36m0:00:00\u001b[0m\n",
            "\u001b[?25hRequirement already satisfied: numpy>=1.17 in /usr/local/lib/python3.10/dist-packages (from datasets) (1.22.4)\n",
            "Requirement already satisfied: pyarrow>=8.0.0 in /usr/local/lib/python3.10/dist-packages (from datasets) (9.0.0)\n",
            "Collecting dill<0.3.7,>=0.3.0 (from datasets)\n",
            "  Downloading dill-0.3.6-py3-none-any.whl (110 kB)\n",
            "\u001b[2K     \u001b[90m━━━━━━━━━━━━━━━━━━━━━━━━━━━━━━━━━━━━━━━\u001b[0m \u001b[32m110.5/110.5 kB\u001b[0m \u001b[31m6.0 MB/s\u001b[0m eta \u001b[36m0:00:00\u001b[0m\n",
            "\u001b[?25hRequirement already satisfied: pandas in /usr/local/lib/python3.10/dist-packages (from datasets) (1.5.3)\n",
            "Requirement already satisfied: requests>=2.19.0 in /usr/local/lib/python3.10/dist-packages (from datasets) (2.27.1)\n",
            "Requirement already satisfied: tqdm>=4.62.1 in /usr/local/lib/python3.10/dist-packages (from datasets) (4.65.0)\n",
            "Collecting xxhash (from datasets)\n",
            "  Downloading xxhash-3.2.0-cp310-cp310-manylinux_2_17_x86_64.manylinux2014_x86_64.whl (212 kB)\n",
            "\u001b[2K     \u001b[90m━━━━━━━━━━━━━━━━━━━━━━━━━━━━━━━━━━━━━━\u001b[0m \u001b[32m212.5/212.5 kB\u001b[0m \u001b[31m16.0 MB/s\u001b[0m eta \u001b[36m0:00:00\u001b[0m\n",
            "\u001b[?25hCollecting multiprocess (from datasets)\n",
            "  Downloading multiprocess-0.70.14-py310-none-any.whl (134 kB)\n",
            "\u001b[2K     \u001b[90m━━━━━━━━━━━━━━━━━━━━━━━━━━━━━━━━━━━━━━━\u001b[0m \u001b[32m134.3/134.3 kB\u001b[0m \u001b[31m7.6 MB/s\u001b[0m eta \u001b[36m0:00:00\u001b[0m\n",
            "\u001b[?25hRequirement already satisfied: fsspec[http]>=2021.11.1 in /usr/local/lib/python3.10/dist-packages (from datasets) (2023.6.0)\n",
            "Collecting aiohttp (from datasets)\n",
            "  Downloading aiohttp-3.8.4-cp310-cp310-manylinux_2_17_x86_64.manylinux2014_x86_64.whl (1.0 MB)\n",
            "\u001b[2K     \u001b[90m━━━━━━━━━━━━━━━━━━━━━━━━━━━━━━━━━━━━━━━━\u001b[0m \u001b[32m1.0/1.0 MB\u001b[0m \u001b[31m36.7 MB/s\u001b[0m eta \u001b[36m0:00:00\u001b[0m\n",
            "\u001b[?25hCollecting huggingface-hub<1.0.0,>=0.11.0 (from datasets)\n",
            "  Downloading huggingface_hub-0.15.1-py3-none-any.whl (236 kB)\n",
            "\u001b[2K     \u001b[90m━━━━━━━━━━━━━━━━━━━━━━━━━━━━━━━━━━━━━━\u001b[0m \u001b[32m236.8/236.8 kB\u001b[0m \u001b[31m23.7 MB/s\u001b[0m eta \u001b[36m0:00:00\u001b[0m\n",
            "\u001b[?25hRequirement already satisfied: packaging in /usr/local/lib/python3.10/dist-packages (from datasets) (23.1)\n",
            "Requirement already satisfied: pyyaml>=5.1 in /usr/local/lib/python3.10/dist-packages (from datasets) (6.0)\n",
            "Requirement already satisfied: attrs>=17.3.0 in /usr/local/lib/python3.10/dist-packages (from aiohttp->datasets) (23.1.0)\n",
            "Requirement already satisfied: charset-normalizer<4.0,>=2.0 in /usr/local/lib/python3.10/dist-packages (from aiohttp->datasets) (2.0.12)\n",
            "Collecting multidict<7.0,>=4.5 (from aiohttp->datasets)\n",
            "  Downloading multidict-6.0.4-cp310-cp310-manylinux_2_17_x86_64.manylinux2014_x86_64.whl (114 kB)\n",
            "\u001b[2K     \u001b[90m━━━━━━━━━━━━━━━━━━━━━━━━━━━━━━━━━━━━━━━\u001b[0m \u001b[32m114.5/114.5 kB\u001b[0m \u001b[31m9.3 MB/s\u001b[0m eta \u001b[36m0:00:00\u001b[0m\n",
            "\u001b[?25hCollecting async-timeout<5.0,>=4.0.0a3 (from aiohttp->datasets)\n",
            "  Downloading async_timeout-4.0.2-py3-none-any.whl (5.8 kB)\n",
            "Collecting yarl<2.0,>=1.0 (from aiohttp->datasets)\n",
            "  Downloading yarl-1.9.2-cp310-cp310-manylinux_2_17_x86_64.manylinux2014_x86_64.whl (268 kB)\n",
            "\u001b[2K     \u001b[90m━━━━━━━━━━━━━━━━━━━━━━━━━━━━━━━━━━━━━━\u001b[0m \u001b[32m268.8/268.8 kB\u001b[0m \u001b[31m28.2 MB/s\u001b[0m eta \u001b[36m0:00:00\u001b[0m\n",
            "\u001b[?25hCollecting frozenlist>=1.1.1 (from aiohttp->datasets)\n",
            "  Downloading frozenlist-1.3.3-cp310-cp310-manylinux_2_5_x86_64.manylinux1_x86_64.manylinux_2_17_x86_64.manylinux2014_x86_64.whl (149 kB)\n",
            "\u001b[2K     \u001b[90m━━━━━━━━━━━━━━━━━━━━━━━━━━━━━━━━━━━━━━\u001b[0m \u001b[32m149.6/149.6 kB\u001b[0m \u001b[31m16.1 MB/s\u001b[0m eta \u001b[36m0:00:00\u001b[0m\n",
            "\u001b[?25hCollecting aiosignal>=1.1.2 (from aiohttp->datasets)\n",
            "  Downloading aiosignal-1.3.1-py3-none-any.whl (7.6 kB)\n",
            "Requirement already satisfied: filelock in /usr/local/lib/python3.10/dist-packages (from huggingface-hub<1.0.0,>=0.11.0->datasets) (3.12.2)\n",
            "Requirement already satisfied: typing-extensions>=3.7.4.3 in /usr/local/lib/python3.10/dist-packages (from huggingface-hub<1.0.0,>=0.11.0->datasets) (4.6.3)\n",
            "Requirement already satisfied: urllib3<1.27,>=1.21.1 in /usr/local/lib/python3.10/dist-packages (from requests>=2.19.0->datasets) (1.26.16)\n",
            "Requirement already satisfied: certifi>=2017.4.17 in /usr/local/lib/python3.10/dist-packages (from requests>=2.19.0->datasets) (2023.5.7)\n",
            "Requirement already satisfied: idna<4,>=2.5 in /usr/local/lib/python3.10/dist-packages (from requests>=2.19.0->datasets) (3.4)\n",
            "Requirement already satisfied: python-dateutil>=2.8.1 in /usr/local/lib/python3.10/dist-packages (from pandas->datasets) (2.8.2)\n",
            "Requirement already satisfied: pytz>=2020.1 in /usr/local/lib/python3.10/dist-packages (from pandas->datasets) (2022.7.1)\n",
            "Requirement already satisfied: six>=1.5 in /usr/local/lib/python3.10/dist-packages (from python-dateutil>=2.8.1->pandas->datasets) (1.16.0)\n",
            "Installing collected packages: xxhash, multidict, frozenlist, dill, async-timeout, yarl, multiprocess, huggingface-hub, aiosignal, aiohttp, datasets\n",
            "Successfully installed aiohttp-3.8.4 aiosignal-1.3.1 async-timeout-4.0.2 datasets-2.13.1 dill-0.3.6 frozenlist-1.3.3 huggingface-hub-0.15.1 multidict-6.0.4 multiprocess-0.70.14 xxhash-3.2.0 yarl-1.9.2\n",
            "Looking in indexes: https://pypi.org/simple, https://us-python.pkg.dev/colab-wheels/public/simple/\n",
            "Requirement already satisfied: numpy in /usr/local/lib/python3.10/dist-packages (1.22.4)\n"
          ]
        }
      ],
      "source": [
        "!pip install datasets\n",
        "!pip install numpy"
      ]
    },
    {
      "cell_type": "markdown",
      "source": [
        "## 熟悉数据集\n",
        "\n",
        "MNIST（Modified National Institute of Standards and Technology）是一个手写数字图像集，其中包含了大量的手写数字图像，是机器学习和计算机视觉领域中非常常用的数据集之一。\n",
        "\n",
        "MNIST数据集包含了60,000个训练样本和10,000个测试样本，每张图像都是28x28像素的灰度图像，所代表的数字是0到9之间的整数。\n",
        "\n",
        "以下代码用来熟悉 MNIST 数据集。"
      ],
      "metadata": {
        "id": "bOlVp6kC1t72"
      }
    },
    {
      "cell_type": "code",
      "source": [
        "from datasets import load_dataset\n",
        "import numpy as np\n",
        "\n",
        "dataset = load_dataset(\"mnist\")\n",
        "print(dataset) #包含60000条训练数据，10000条测试数据，每条数据由 image 和 label 两列组成\n",
        "#image 为手写的0到9的数字图片，label 为这张图片代表的数字\n",
        "\n",
        "row = dataset[\"train\"][0] #取第一条数据\n",
        "\n",
        "image = row[\"image\"]\n",
        "print(image) #是一个Png图像文件对象，28x28像素\n",
        "image.show() #显示为数字5的图片\n",
        "\n",
        "image_arr = np.array(image) #转为narray，28x28 的二维数组，数组中的值区间为0～255，代表了颜色值\n",
        "print(image_arr.shape)\n",
        "print(np.min(image_arr), np.max(image_arr))\n",
        "\n",
        "label = row[\"label\"]\n",
        "print(label) #label为图片中的数字5"
      ],
      "metadata": {
        "colab": {
          "base_uri": "https://localhost:8080/",
          "height": 365,
          "referenced_widgets": [
            "110ba54dae2945acaa30f55570a037c1",
            "5571a0377e9149d889d2c145ec7ad6aa",
            "d367ecad97e64f00bcf48dbc3890d553",
            "b68f9600d80b40efb4f8e19aa5f4b189",
            "e12b8aef302c4eddb5fe584c04f9010a",
            "df0f9a7f818d42949034d5909a5d2a0c",
            "72306c697ba04e6d92d53a2711ff4d40",
            "7ee3dedd190c4a0ab4e1a259250caae0",
            "d891031879ec4e3bb020a9ea9f770abd",
            "19a3122c031a4a2ea41c659ee0aec220",
            "788f5894c5704008b68388cec783e03f"
          ]
        },
        "id": "JLDLszlK1n8x",
        "outputId": "4161e436-e939-4f5a-dcfb-8a53e3f9e186"
      },
      "execution_count": null,
      "outputs": [
        {
          "output_type": "stream",
          "name": "stderr",
          "text": [
            "WARNING:datasets.builder:Found cached dataset mnist (/root/.cache/huggingface/datasets/mnist/mnist/1.0.0/9d494b7f466d6931c64fb39d58bb1249a4d85c9eb9865d9bc20960b999e2a332)\n"
          ]
        },
        {
          "output_type": "display_data",
          "data": {
            "text/plain": [
              "  0%|          | 0/2 [00:00<?, ?it/s]"
            ],
            "application/vnd.jupyter.widget-view+json": {
              "version_major": 2,
              "version_minor": 0,
              "model_id": "110ba54dae2945acaa30f55570a037c1"
            }
          },
          "metadata": {}
        },
        {
          "output_type": "stream",
          "name": "stdout",
          "text": [
            "DatasetDict({\n",
            "    train: Dataset({\n",
            "        features: ['image', 'label'],\n",
            "        num_rows: 60000\n",
            "    })\n",
            "    test: Dataset({\n",
            "        features: ['image', 'label'],\n",
            "        num_rows: 10000\n",
            "    })\n",
            "})\n",
            "<PIL.PngImagePlugin.PngImageFile image mode=L size=28x28 at 0x7F199392C610>\n"
          ]
        },
        {
          "output_type": "display_data",
          "data": {
            "text/plain": [
              "<PIL.PngImagePlugin.PngImageFile image mode=L size=28x28 at 0x7F199392C610>"
            ],
            "image/png": "[encoded data removed]"
          },
          "metadata": {}
        },
        {
          "output_type": "stream",
          "name": "stdout",
          "text": [
            "(28, 28)\n",
            "0 255\n",
            "5\n"
          ]
        }
      ]
    },
    {
      "cell_type": "markdown",
      "source": [
        "# 二、下载教学资料\n",
        "\n",
        "[教学资料下载页面](https://www.ituring.com.cn/book/1921)\n",
        "\n",
        "由于教学资料文件夹为中文，下载后乱码，重命名为英文名称"
      ],
      "metadata": {
        "id": "LWmZmZg3kp-E"
      }
    },
    {
      "cell_type": "code",
      "source": [
        "!wget -O /content/deep-code.zip https://download.ituring.com.cn/book/download/b837761a-664e-4ce6-b115-3dca9d216aa0\n"
      ],
      "metadata": {
        "id": "ZW0Znhz2dtnz",
        "colab": {
          "base_uri": "https://localhost:8080/"
        },
        "outputId": "ed614844-cdcd-4481-a348-1b35f79a87a6"
      },
      "execution_count": null,
      "outputs": [
        {
          "output_type": "stream",
          "name": "stdout",
          "text": [
            "--2023-06-26 03:45:34--  https://download.ituring.com.cn/book/download/b837761a-664e-4ce6-b115-3dca9d216aa0\n",
            "Resolving download.ituring.com.cn (download.ituring.com.cn)... 123.56.144.65\n",
            "Connecting to download.ituring.com.cn (download.ituring.com.cn)|123.56.144.65|:443... connected.\n",
            "HTTP request sent, awaiting response... 200 OK\n",
            "Length: 4657877 (4.4M) [application/octet-stream]\n",
            "Saving to: ‘/content/deep-code.zip’\n",
            "\n",
            "/content/deep-code. 100%[===================>]   4.44M  1.03MB/s    in 4.3s    \n",
            "\n",
            "2023-06-26 03:45:40 (1.03 MB/s) - ‘/content/deep-code.zip’ saved [4657877/4657877]\n",
            "\n"
          ]
        }
      ]
    },
    {
      "cell_type": "code",
      "source": [
        "!unzip /content/deep-code.zip -d /content"
      ],
      "metadata": {
        "id": "vUuVvnSUemfR",
        "colab": {
          "base_uri": "https://localhost:8080/"
        },
        "outputId": "26eeeaec-1bef-4187-abb3-61b233a4d93f"
      },
      "execution_count": null,
      "outputs": [
        {
          "output_type": "stream",
          "name": "stdout",
          "text": [
            "Archive:  /content/deep-code.zip\n",
            "   creating: /content/б╛╘┤┤·┬ыб┐╔ю╢╚╤з╧░╚ы├┼г║╗∙╙┌Python╡─└э┬█╙ы╩╡╧╓/\n",
            " extracting: /content/б╛╘┤┤·┬ыб┐╔ю╢╚╤з╧░╚ы├┼г║╗∙╙┌Python╡─└э┬█╙ы╩╡╧╓/.gitignore  \n",
            "  inflating: /content/б╛╘┤┤·┬ыб┐╔ю╢╚╤з╧░╚ы├┼г║╗∙╙┌Python╡─└э┬█╙ы╩╡╧╓/LICENSE.md  \n",
            "  inflating: /content/б╛╘┤┤·┬ыб┐╔ю╢╚╤з╧░╚ы├┼г║╗∙╙┌Python╡─└э┬█╙ы╩╡╧╓/README.md  \n",
            "   creating: /content/б╛╘┤┤·┬ыб┐╔ю╢╚╤з╧░╚ы├┼г║╗∙╙┌Python╡─└э┬█╙ы╩╡╧╓/ch01/\n",
            " extracting: /content/б╛╘┤┤·┬ыб┐╔ю╢╚╤з╧░╚ы├┼г║╗∙╙┌Python╡─└э┬█╙ы╩╡╧╓/ch01/hungry.py  \n",
            "  inflating: /content/б╛╘┤┤·┬ыб┐╔ю╢╚╤з╧░╚ы├┼г║╗∙╙┌Python╡─└э┬█╙ы╩╡╧╓/ch01/img_show.py  \n",
            "  inflating: /content/б╛╘┤┤·┬ыб┐╔ю╢╚╤з╧░╚ы├┼г║╗∙╙┌Python╡─└э┬█╙ы╩╡╧╓/ch01/man.py  \n",
            "  inflating: /content/б╛╘┤┤·┬ыб┐╔ю╢╚╤з╧░╚ы├┼г║╗∙╙┌Python╡─└э┬█╙ы╩╡╧╓/ch01/simple_graph.py  \n",
            "  inflating: /content/б╛╘┤┤·┬ыб┐╔ю╢╚╤з╧░╚ы├┼г║╗∙╙┌Python╡─└э┬█╙ы╩╡╧╓/ch01/sin_cos_graph.py  \n",
            "  inflating: /content/б╛╘┤┤·┬ыб┐╔ю╢╚╤з╧░╚ы├┼г║╗∙╙┌Python╡─└э┬█╙ы╩╡╧╓/ch01/sin_graph.py  \n",
            "   creating: /content/б╛╘┤┤·┬ыб┐╔ю╢╚╤з╧░╚ы├┼г║╗∙╙┌Python╡─└э┬█╙ы╩╡╧╓/ch02/\n",
            "  inflating: /content/б╛╘┤┤·┬ыб┐╔ю╢╚╤з╧░╚ы├┼г║╗∙╙┌Python╡─└э┬█╙ы╩╡╧╓/ch02/and_gate.py  \n",
            "  inflating: /content/б╛╘┤┤·┬ыб┐╔ю╢╚╤з╧░╚ы├┼г║╗∙╙┌Python╡─└э┬█╙ы╩╡╧╓/ch02/nand_gate.py  \n",
            "  inflating: /content/б╛╘┤┤·┬ыб┐╔ю╢╚╤з╧░╚ы├┼г║╗∙╙┌Python╡─└э┬█╙ы╩╡╧╓/ch02/or_gate.py  \n",
            "  inflating: /content/б╛╘┤┤·┬ыб┐╔ю╢╚╤з╧░╚ы├┼г║╗∙╙┌Python╡─└э┬█╙ы╩╡╧╓/ch02/xor_gate.py  \n",
            "   creating: /content/б╛╘┤┤·┬ыб┐╔ю╢╚╤з╧░╚ы├┼г║╗∙╙┌Python╡─└э┬█╙ы╩╡╧╓/ch03/\n",
            "  inflating: /content/б╛╘┤┤·┬ыб┐╔ю╢╚╤з╧░╚ы├┼г║╗∙╙┌Python╡─└э┬█╙ы╩╡╧╓/ch03/mnist_show.py  \n",
            "  inflating: /content/б╛╘┤┤·┬ыб┐╔ю╢╚╤з╧░╚ы├┼г║╗∙╙┌Python╡─└э┬█╙ы╩╡╧╓/ch03/neuralnet_mnist.py  \n",
            "  inflating: /content/б╛╘┤┤·┬ыб┐╔ю╢╚╤з╧░╚ы├┼г║╗∙╙┌Python╡─└э┬█╙ы╩╡╧╓/ch03/neuralnet_mnist_batch.py  \n",
            "  inflating: /content/б╛╘┤┤·┬ыб┐╔ю╢╚╤з╧░╚ы├┼г║╗∙╙┌Python╡─└э┬█╙ы╩╡╧╓/ch03/relu.py  \n",
            "  inflating: /content/б╛╘┤┤·┬ыб┐╔ю╢╚╤з╧░╚ы├┼г║╗∙╙┌Python╡─└э┬█╙ы╩╡╧╓/ch03/sample_weight.pkl  \n",
            "  inflating: /content/б╛╘┤┤·┬ыб┐╔ю╢╚╤з╧░╚ы├┼г║╗∙╙┌Python╡─└э┬█╙ы╩╡╧╓/ch03/sig_step_compare.py  \n",
            "  inflating: /content/б╛╘┤┤·┬ыб┐╔ю╢╚╤з╧░╚ы├┼г║╗∙╙┌Python╡─└э┬█╙ы╩╡╧╓/ch03/sigmoid.py  \n",
            "  inflating: /content/б╛╘┤┤·┬ыб┐╔ю╢╚╤з╧░╚ы├┼г║╗∙╙┌Python╡─└э┬█╙ы╩╡╧╓/ch03/step_function.py  \n",
            "   creating: /content/б╛╘┤┤·┬ыб┐╔ю╢╚╤з╧░╚ы├┼г║╗∙╙┌Python╡─└э┬█╙ы╩╡╧╓/ch04/\n",
            "  inflating: /content/б╛╘┤┤·┬ыб┐╔ю╢╚╤з╧░╚ы├┼г║╗∙╙┌Python╡─└э┬█╙ы╩╡╧╓/ch04/gradient_1d.py  \n",
            "  inflating: /content/б╛╘┤┤·┬ыб┐╔ю╢╚╤з╧░╚ы├┼г║╗∙╙┌Python╡─└э┬█╙ы╩╡╧╓/ch04/gradient_2d.py  \n",
            "  inflating: /content/б╛╘┤┤·┬ыб┐╔ю╢╚╤з╧░╚ы├┼г║╗∙╙┌Python╡─└э┬█╙ы╩╡╧╓/ch04/gradient_method.py  \n",
            "  inflating: /content/б╛╘┤┤·┬ыб┐╔ю╢╚╤з╧░╚ы├┼г║╗∙╙┌Python╡─└э┬█╙ы╩╡╧╓/ch04/gradient_simplenet.py  \n",
            "  inflating: /content/б╛╘┤┤·┬ыб┐╔ю╢╚╤з╧░╚ы├┼г║╗∙╙┌Python╡─└э┬█╙ы╩╡╧╓/ch04/train_neuralnet.py  \n",
            "  inflating: /content/б╛╘┤┤·┬ыб┐╔ю╢╚╤з╧░╚ы├┼г║╗∙╙┌Python╡─└э┬█╙ы╩╡╧╓/ch04/two_layer_net.py  \n",
            "   creating: /content/б╛╘┤┤·┬ыб┐╔ю╢╚╤з╧░╚ы├┼г║╗∙╙┌Python╡─└э┬█╙ы╩╡╧╓/ch05/\n",
            "  inflating: /content/б╛╘┤┤·┬ыб┐╔ю╢╚╤з╧░╚ы├┼г║╗∙╙┌Python╡─└э┬█╙ы╩╡╧╓/ch05/buy_apple.py  \n",
            "  inflating: /content/б╛╘┤┤·┬ыб┐╔ю╢╚╤з╧░╚ы├┼г║╗∙╙┌Python╡─└э┬█╙ы╩╡╧╓/ch05/buy_apple_orange.py  \n",
            "  inflating: /content/б╛╘┤┤·┬ыб┐╔ю╢╚╤з╧░╚ы├┼г║╗∙╙┌Python╡─└э┬█╙ы╩╡╧╓/ch05/gradient_check.py  \n",
            "  inflating: /content/б╛╘┤┤·┬ыб┐╔ю╢╚╤з╧░╚ы├┼г║╗∙╙┌Python╡─└э┬█╙ы╩╡╧╓/ch05/layer_naive.py  \n",
            "  inflating: /content/б╛╘┤┤·┬ыб┐╔ю╢╚╤з╧░╚ы├┼г║╗∙╙┌Python╡─└э┬█╙ы╩╡╧╓/ch05/train_neuralnet.py  \n",
            "  inflating: /content/б╛╘┤┤·┬ыб┐╔ю╢╚╤з╧░╚ы├┼г║╗∙╙┌Python╡─└э┬█╙ы╩╡╧╓/ch05/two_layer_net.py  \n",
            "   creating: /content/б╛╘┤┤·┬ыб┐╔ю╢╚╤з╧░╚ы├┼г║╗∙╙┌Python╡─└э┬█╙ы╩╡╧╓/ch06/\n",
            "  inflating: /content/б╛╘┤┤·┬ыб┐╔ю╢╚╤з╧░╚ы├┼г║╗∙╙┌Python╡─└э┬█╙ы╩╡╧╓/ch06/batch_norm_gradient_check.py  \n",
            "  inflating: /content/б╛╘┤┤·┬ыб┐╔ю╢╚╤з╧░╚ы├┼г║╗∙╙┌Python╡─└э┬█╙ы╩╡╧╓/ch06/batch_norm_test.py  \n",
            "  inflating: /content/б╛╘┤┤·┬ыб┐╔ю╢╚╤з╧░╚ы├┼г║╗∙╙┌Python╡─└э┬█╙ы╩╡╧╓/ch06/hyperparameter_optimization.py  \n",
            "  inflating: /content/б╛╘┤┤·┬ыб┐╔ю╢╚╤з╧░╚ы├┼г║╗∙╙┌Python╡─└э┬█╙ы╩╡╧╓/ch06/optimizer_compare_mnist.py  \n",
            "  inflating: /content/б╛╘┤┤·┬ыб┐╔ю╢╚╤з╧░╚ы├┼г║╗∙╙┌Python╡─└э┬█╙ы╩╡╧╓/ch06/optimizer_compare_naive.py  \n",
            "  inflating: /content/б╛╘┤┤·┬ыб┐╔ю╢╚╤з╧░╚ы├┼г║╗∙╙┌Python╡─└э┬█╙ы╩╡╧╓/ch06/overfit_dropout.py  \n",
            "  inflating: /content/б╛╘┤┤·┬ыб┐╔ю╢╚╤з╧░╚ы├┼г║╗∙╙┌Python╡─└э┬█╙ы╩╡╧╓/ch06/overfit_weight_decay.py  \n",
            "  inflating: /content/б╛╘┤┤·┬ыб┐╔ю╢╚╤з╧░╚ы├┼г║╗∙╙┌Python╡─└э┬█╙ы╩╡╧╓/ch06/weight_init_activation_histogram.py  \n",
            "  inflating: /content/б╛╘┤┤·┬ыб┐╔ю╢╚╤з╧░╚ы├┼г║╗∙╙┌Python╡─└э┬█╙ы╩╡╧╓/ch06/weight_init_compare.py  \n",
            "   creating: /content/б╛╘┤┤·┬ыб┐╔ю╢╚╤з╧░╚ы├┼г║╗∙╙┌Python╡─└э┬█╙ы╩╡╧╓/ch07/\n",
            "  inflating: /content/б╛╘┤┤·┬ыб┐╔ю╢╚╤з╧░╚ы├┼г║╗∙╙┌Python╡─└э┬█╙ы╩╡╧╓/ch07/apply_filter.py  \n",
            "  inflating: /content/б╛╘┤┤·┬ыб┐╔ю╢╚╤з╧░╚ы├┼г║╗∙╙┌Python╡─└э┬█╙ы╩╡╧╓/ch07/gradient_check.py  \n",
            "  inflating: /content/б╛╘┤┤·┬ыб┐╔ю╢╚╤з╧░╚ы├┼г║╗∙╙┌Python╡─└э┬█╙ы╩╡╧╓/ch07/params.pkl  \n",
            "  inflating: /content/б╛╘┤┤·┬ыб┐╔ю╢╚╤з╧░╚ы├┼г║╗∙╙┌Python╡─└э┬█╙ы╩╡╧╓/ch07/simple_convnet.py  \n",
            "  inflating: /content/б╛╘┤┤·┬ыб┐╔ю╢╚╤з╧░╚ы├┼г║╗∙╙┌Python╡─└э┬█╙ы╩╡╧╓/ch07/train_convnet.py  \n",
            "  inflating: /content/б╛╘┤┤·┬ыб┐╔ю╢╚╤з╧░╚ы├┼г║╗∙╙┌Python╡─└э┬█╙ы╩╡╧╓/ch07/visualize_filter.py  \n",
            "   creating: /content/б╛╘┤┤·┬ыб┐╔ю╢╚╤з╧░╚ы├┼г║╗∙╙┌Python╡─└э┬█╙ы╩╡╧╓/ch08/\n",
            " extracting: /content/б╛╘┤┤·┬ыб┐╔ю╢╚╤з╧░╚ы├┼г║╗∙╙┌Python╡─└э┬█╙ы╩╡╧╓/ch08/awesome_net.py  \n",
            "  inflating: /content/б╛╘┤┤·┬ыб┐╔ю╢╚╤з╧░╚ы├┼г║╗∙╙┌Python╡─└э┬█╙ы╩╡╧╓/ch08/deep_convnet.py  \n",
            "  inflating: /content/б╛╘┤┤·┬ыб┐╔ю╢╚╤з╧░╚ы├┼г║╗∙╙┌Python╡─└э┬█╙ы╩╡╧╓/ch08/deep_convnet_params.pkl  \n",
            "  inflating: /content/б╛╘┤┤·┬ыб┐╔ю╢╚╤з╧░╚ы├┼г║╗∙╙┌Python╡─└э┬█╙ы╩╡╧╓/ch08/half_float_network.py  \n",
            "  inflating: /content/б╛╘┤┤·┬ыб┐╔ю╢╚╤з╧░╚ы├┼г║╗∙╙┌Python╡─└э┬█╙ы╩╡╧╓/ch08/misclassified_mnist.py  \n",
            "  inflating: /content/б╛╘┤┤·┬ыб┐╔ю╢╚╤з╧░╚ы├┼г║╗∙╙┌Python╡─└э┬█╙ы╩╡╧╓/ch08/train_deepnet.py  \n",
            "   creating: /content/б╛╘┤┤·┬ыб┐╔ю╢╚╤з╧░╚ы├┼г║╗∙╙┌Python╡─└э┬█╙ы╩╡╧╓/common/\n",
            " extracting: /content/б╛╘┤┤·┬ыб┐╔ю╢╚╤з╧░╚ы├┼г║╗∙╙┌Python╡─└э┬█╙ы╩╡╧╓/common/__init__.py  \n",
            "  inflating: /content/б╛╘┤┤·┬ыб┐╔ю╢╚╤з╧░╚ы├┼г║╗∙╙┌Python╡─└э┬█╙ы╩╡╧╓/common/functions.py  \n",
            "  inflating: /content/б╛╘┤┤·┬ыб┐╔ю╢╚╤з╧░╚ы├┼г║╗∙╙┌Python╡─└э┬█╙ы╩╡╧╓/common/gradient.py  \n",
            "  inflating: /content/б╛╘┤┤·┬ыб┐╔ю╢╚╤з╧░╚ы├┼г║╗∙╙┌Python╡─└э┬█╙ы╩╡╧╓/common/layers.py  \n",
            "  inflating: /content/б╛╘┤┤·┬ыб┐╔ю╢╚╤з╧░╚ы├┼г║╗∙╙┌Python╡─└э┬█╙ы╩╡╧╓/common/multi_layer_net.py  \n",
            "  inflating: /content/б╛╘┤┤·┬ыб┐╔ю╢╚╤з╧░╚ы├┼г║╗∙╙┌Python╡─└э┬█╙ы╩╡╧╓/common/multi_layer_net_extend.py  \n",
            "  inflating: /content/б╛╘┤┤·┬ыб┐╔ю╢╚╤з╧░╚ы├┼г║╗∙╙┌Python╡─└э┬█╙ы╩╡╧╓/common/optimizer.py  \n",
            "  inflating: /content/б╛╘┤┤·┬ыб┐╔ю╢╚╤з╧░╚ы├┼г║╗∙╙┌Python╡─└э┬█╙ы╩╡╧╓/common/trainer.py  \n",
            "  inflating: /content/б╛╘┤┤·┬ыб┐╔ю╢╚╤з╧░╚ы├┼г║╗∙╙┌Python╡─└э┬█╙ы╩╡╧╓/common/util.py  \n",
            "   creating: /content/б╛╘┤┤·┬ыб┐╔ю╢╚╤з╧░╚ы├┼г║╗∙╙┌Python╡─└э┬█╙ы╩╡╧╓/dataset/\n",
            " extracting: /content/б╛╘┤┤·┬ыб┐╔ю╢╚╤з╧░╚ы├┼г║╗∙╙┌Python╡─└э┬█╙ы╩╡╧╓/dataset/__init__.py  \n",
            " extracting: /content/б╛╘┤┤·┬ыб┐╔ю╢╚╤з╧░╚ы├┼г║╗∙╙┌Python╡─└э┬█╙ы╩╡╧╓/dataset/lena.png  \n",
            " extracting: /content/б╛╘┤┤·┬ыб┐╔ю╢╚╤з╧░╚ы├┼г║╗∙╙┌Python╡─└э┬█╙ы╩╡╧╓/dataset/lena_gray.png  \n",
            "  inflating: /content/б╛╘┤┤·┬ыб┐╔ю╢╚╤з╧░╚ы├┼г║╗∙╙┌Python╡─└э┬█╙ы╩╡╧╓/dataset/mnist.py  \n"
          ]
        }
      ]
    },
    {
      "cell_type": "code",
      "source": [
        "!mv /content/б╛╘┤┤·┬ыб┐╔ю╢╚╤з╧░╚ы├┼г║╗∙╙┌Python╡─└э┬█╙ы╩╡╧╓ /content/deep-code"
      ],
      "metadata": {
        "id": "j6KSi5V0kKtQ"
      },
      "execution_count": null,
      "outputs": []
    },
    {
      "cell_type": "markdown",
      "source": [
        "# 三、神经网络推理：手写数字识别\n",
        "\n",
        "手写数字图像集：MNIST是由0到9的数字图像构成的。\n",
        "\n",
        "以下将使用3层神经网络，对手写数字进行识别。"
      ],
      "metadata": {
        "id": "GfHj7L_pHXZl"
      }
    },
    {
      "cell_type": "markdown",
      "source": [
        "## 3.1 推理\n",
        "\n",
        "以下代码使用了已有的权重，对数据集中的测试图片进行分类推理，并统计准确度。\n",
        "\n",
        "get_data：加载数据集\n",
        "\n",
        "init_network：从权重文件中加载权重和偏置数据\n",
        "\n",
        "predict：预测图片中的数字，3层神经网络运算"
      ],
      "metadata": {
        "id": "YysYikcDaVqc"
      }
    },
    {
      "cell_type": "code",
      "source": [
        "import sys, os\n",
        "os.chdir('/content/deep-code/ch03')\n",
        "sys.path.append('/content/deep-code')  # 为了导入父目录的文件而进行的设定\n",
        "\n",
        "import numpy as np\n",
        "import pickle\n",
        "from dataset.mnist import load_mnist\n",
        "from common.functions import sigmoid, softmax\n",
        "\n",
        "\n",
        "def get_data():\n",
        "    # 读入数据：训练数据中的图片和图片中的数字，测试数据中的图片和图片中的数字\n",
        "    (x_train, t_train), (x_test, t_test) = load_mnist(normalize=True, flatten=True, one_hot_label=False)\n",
        "    return x_test, t_test\n",
        "\n",
        "\n",
        "def init_network():\n",
        "    # 读入提前学习好的权重和偏置参数\n",
        "    with open(\"sample_weight.pkl\", 'rb') as f:\n",
        "        network = pickle.load(f)\n",
        "    return network\n",
        "\n",
        "\n",
        "def predict(network, x):\n",
        "    W1, W2, W3 = network['W1'], network['W2'], network['W3']\n",
        "    b1, b2, b3 = network['b1'], network['b2'], network['b3']\n",
        "\n",
        "    a1 = np.dot(x, W1) + b1 # 第一层运算：输入与权重乘积 + 偏置\n",
        "    z1 = sigmoid(a1) # 激活函数 sigmoid\n",
        "    a2 = np.dot(z1, W2) + b2 # 第二层运算：输入与权重乘积 + 偏置\n",
        "    z2 = sigmoid(a2) # 激活函数 sigmoid\n",
        "    a3 = np.dot(z2, W3) + b3 # 第三层运算：输入与权重乘积 + 偏置\n",
        "    y = softmax(a3) # 输出层函数\n",
        "\n",
        "    return y\n",
        "\n",
        "\n",
        "x, t = get_data()\n",
        "network = init_network()\n",
        "accuracy_cnt = 0\n",
        "for i in range(len(x)):\n",
        "    y = predict(network, x[i])\n",
        "    p= np.argmax(y) # 获取概率最高的元素的索引，即神经网络预测的图片中的数字\n",
        "    if p == t[i]: # 对比预测结果和答案，如果预测正确则增加准确数量\n",
        "        accuracy_cnt += 1\n",
        "\n",
        "print(\"Accuracy:\" + str(float(accuracy_cnt) / len(x))) #输出准确率"
      ],
      "metadata": {
        "colab": {
          "base_uri": "https://localhost:8080/"
        },
        "id": "M9PqqgxlZ2jr",
        "outputId": "e60bb594-47a3-40a4-9c6a-90278a969194"
      },
      "execution_count": null,
      "outputs": [
        {
          "output_type": "stream",
          "name": "stdout",
          "text": [
            "Downloading train-images-idx3-ubyte.gz ... \n",
            "Done\n",
            "Downloading train-labels-idx1-ubyte.gz ... \n",
            "Done\n",
            "Downloading t10k-images-idx3-ubyte.gz ... \n",
            "Done\n",
            "Downloading t10k-labels-idx1-ubyte.gz ... \n",
            "Done\n",
            "Converting train-images-idx3-ubyte.gz to NumPy Array ...\n",
            "Done\n",
            "Converting train-labels-idx1-ubyte.gz to NumPy Array ...\n",
            "Done\n",
            "Converting t10k-images-idx3-ubyte.gz to NumPy Array ...\n",
            "Done\n",
            "Converting t10k-labels-idx1-ubyte.gz to NumPy Array ...\n",
            "Done\n",
            "Creating pickle file ...\n",
            "Done!\n",
            "Accuracy:0.9352\n"
          ]
        }
      ]
    },
    {
      "cell_type": "markdown",
      "source": [
        "准确率 93.52%"
      ],
      "metadata": {
        "id": "akXC7wvhTuEH"
      }
    },
    {
      "cell_type": "markdown",
      "source": [
        "## 3.2 批量推理\n",
        "\n",
        "当数据传输成为瓶颈时，通过批量输入数据，最大化利用计算单元。"
      ],
      "metadata": {
        "id": "ugL40FqrbBg_"
      }
    },
    {
      "cell_type": "code",
      "source": [
        "import sys, os\n",
        "os.chdir('/content/deep-code/ch03')\n",
        "sys.path.append('/content/deep-code')  # 为了导入父目录的文件而进行的设定\n",
        "\n",
        "import numpy as np\n",
        "import pickle\n",
        "from dataset.mnist import load_mnist\n",
        "from common.functions import sigmoid, softmax\n",
        "\n",
        "\n",
        "def get_data():\n",
        "    (x_train, t_train), (x_test, t_test) = load_mnist(normalize=True, flatten=True, one_hot_label=False)\n",
        "    return x_test, t_test\n",
        "\n",
        "\n",
        "def init_network():\n",
        "    with open(\"sample_weight.pkl\", 'rb') as f:\n",
        "        network = pickle.load(f)\n",
        "    return network\n",
        "\n",
        "\n",
        "def predict(network, x):\n",
        "    w1, w2, w3 = network['W1'], network['W2'], network['W3']\n",
        "    b1, b2, b3 = network['b1'], network['b2'], network['b3']\n",
        "\n",
        "    a1 = np.dot(x, w1) + b1\n",
        "    z1 = sigmoid(a1)\n",
        "    a2 = np.dot(z1, w2) + b2\n",
        "    z2 = sigmoid(a2)\n",
        "    a3 = np.dot(z2, w3) + b3\n",
        "    y = softmax(a3)\n",
        "\n",
        "    return y\n",
        "\n",
        "\n",
        "x, t = get_data()\n",
        "network = init_network()\n",
        "\n",
        "batch_size = 100 # 批数量\n",
        "accuracy_cnt = 0\n",
        "\n",
        "for i in range(0, len(x), batch_size):\n",
        "    x_batch = x[i:i+batch_size]\n",
        "    y_batch = predict(network, x_batch)\n",
        "    p = np.argmax(y_batch, axis=1)\n",
        "    accuracy_cnt += np.sum(p == t[i:i+batch_size])\n",
        "\n",
        "print(\"Accuracy:\" + str(float(accuracy_cnt) / len(x)))"
      ],
      "metadata": {
        "colab": {
          "base_uri": "https://localhost:8080/"
        },
        "id": "zabp8YKHax7a",
        "outputId": "57685cb1-b2a8-4269-cc15-bda9b4b628c1"
      },
      "execution_count": null,
      "outputs": [
        {
          "output_type": "stream",
          "name": "stdout",
          "text": [
            "Accuracy:0.9352\n"
          ]
        }
      ]
    },
    {
      "cell_type": "markdown",
      "source": [
        "# 四、神经网络学习\n",
        "\n",
        "以下将使用 MNIST 数据集进行图片识别的学习。"
      ],
      "metadata": {
        "id": "le1S2bpKHZr_"
      }
    },
    {
      "cell_type": "markdown",
      "source": [
        "## 4.1 学习"
      ],
      "metadata": {
        "id": "ia1-5BwbGHhR"
      }
    },
    {
      "cell_type": "code",
      "source": [
        "# coding: utf-8\n",
        "import sys, os\n",
        "sys.path.append(\"/content/deep-code\")  # 为了导入父目录的文件而进行的设定\n",
        "import numpy as np\n",
        "import matplotlib.pyplot as plt\n",
        "from dataset.mnist import load_mnist\n",
        "from ch04.two_layer_net import TwoLayerNet\n",
        "\n",
        "# 读入数据：训练数据中的图片和图片中的数字，测试数据中的图片和图片中的数字\n",
        "(x_train, t_train), (x_test, t_test) = load_mnist(normalize=True, one_hot_label=True)\n",
        "\n",
        "network = TwoLayerNet(input_size=784, hidden_size=50, output_size=10)\n",
        "\n",
        "iters_num = 10000  # 适当设定循环的次数\n",
        "train_size = x_train.shape[0]\n",
        "print(train_size)\n",
        "batch_size = 100\n",
        "learning_rate = 0.1\n",
        "\n",
        "train_loss_list = []\n",
        "train_acc_list = []\n",
        "test_acc_list = []\n",
        "\n",
        "iter_per_epoch = max(train_size / batch_size, 1)\n",
        "\n",
        "# 迭代iters_num次\n",
        "for i in range(iters_num):\n",
        "    # 从训练数据和测试数据中随机一批进行学习\n",
        "    batch_mask = np.random.choice(train_size, batch_size)\n",
        "    x_batch = x_train[batch_mask]\n",
        "    t_batch = t_train[batch_mask]\n",
        "\n",
        "    # 计算梯度：求损失函数的导数，获得参数的更新梯度\n",
        "    #grad = network.numerical_gradient(x_batch, t_batch)\n",
        "    grad = network.gradient(x_batch, t_batch)\n",
        "\n",
        "    # 更新权重及偏置参数\n",
        "    for key in ('W1', 'b1', 'W2', 'b2'):\n",
        "        network.params[key] -= learning_rate * grad[key]\n",
        "\n",
        "    loss = network.loss(x_batch, t_batch)\n",
        "    train_loss_list.append(loss)\n",
        "\n",
        "    # 每隔一个 epoch，输出神经网络在训练数据集上准确率和在测试数据集上准确率\n",
        "    if i % iter_per_epoch == 0:\n",
        "        train_acc = network.accuracy(x_train, t_train)\n",
        "        test_acc = network.accuracy(x_test, t_test)\n",
        "        train_acc_list.append(train_acc)\n",
        "        test_acc_list.append(test_acc)\n",
        "        print(\"train acc, test acc | \" + str(train_acc) + \", \" + str(test_acc))\n",
        "\n",
        "# 绘制图形准确率变化图形\n",
        "markers = {'train': 'o', 'test': 's'}\n",
        "x = np.arange(len(train_acc_list))\n",
        "plt.plot(x, train_acc_list, label='train acc')\n",
        "plt.plot(x, test_acc_list, label='test acc', linestyle='--')\n",
        "plt.xlabel(\"epochs\")\n",
        "plt.ylabel(\"accuracy\")\n",
        "plt.ylim(0, 1.0)\n",
        "plt.legend(loc='lower right')\n",
        "plt.show()"
      ],
      "metadata": {
        "colab": {
          "base_uri": "https://localhost:8080/",
          "height": 776
        },
        "id": "pwIfix5FGMZf",
        "outputId": "395e1f24-47b4-417d-d750-25664891ba80"
      },
      "execution_count": null,
      "outputs": [
        {
          "output_type": "stream",
          "name": "stdout",
          "text": [
            "60000\n",
            "train acc, test acc | 0.11236666666666667, 0.1135\n",
            "train acc, test acc | 0.80025, 0.8056\n",
            "train acc, test acc | 0.8791, 0.8837\n",
            "train acc, test acc | 0.8983333333333333, 0.9027\n",
            "train acc, test acc | 0.9082666666666667, 0.9118\n",
            "train acc, test acc | 0.9154, 0.9187\n",
            "train acc, test acc | 0.92055, 0.9228\n",
            "train acc, test acc | 0.9249333333333334, 0.9259\n",
            "train acc, test acc | 0.929, 0.9302\n",
            "train acc, test acc | 0.9318666666666666, 0.9331\n",
            "train acc, test acc | 0.9353, 0.9353\n",
            "train acc, test acc | 0.9381833333333334, 0.9379\n",
            "train acc, test acc | 0.94, 0.9381\n",
            "train acc, test acc | 0.9421833333333334, 0.9404\n",
            "train acc, test acc | 0.9442166666666667, 0.943\n",
            "train acc, test acc | 0.9463, 0.9446\n",
            "train acc, test acc | 0.9479, 0.945\n"
          ]
        },
        {
          "output_type": "display_data",
          "data": {
            "text/plain": [
              "<Figure size 640x480 with 1 Axes>"
            ],
            "image/png": "[encoded data removed]"
          },
          "metadata": {}
        }
      ]
    },
    {
      "cell_type": "markdown",
      "source": [
        "如上图，训练准确率和验证准确率的变化几乎一致，说明训练既不欠拟合又不过拟合"
      ],
      "metadata": {
        "id": "nnNK1BqGUB6t"
      }
    },
    {
      "cell_type": "markdown",
      "source": [
        "## 4.2 使用刚才获得的参数进行推理"
      ],
      "metadata": {
        "id": "JcWUwIDuodZN"
      }
    },
    {
      "cell_type": "code",
      "source": [
        "import sys, os\n",
        "os.chdir('/content/deep-code/ch03')\n",
        "sys.path.append('/content/deep-code')  # 为了导入父目录的文件而进行的设定\n",
        "\n",
        "import numpy as np\n",
        "import pickle\n",
        "from dataset.mnist import load_mnist\n",
        "from common.functions import sigmoid, softmax\n",
        "\n",
        "\n",
        "def get_data():\n",
        "    (x_train, t_train), (x_test, t_test) = load_mnist(normalize=True, flatten=True, one_hot_label=False)\n",
        "    return x_test, t_test\n",
        "\n",
        "\n",
        "x, t = get_data()\n",
        "\n",
        "batch_size = 100 # 批数量\n",
        "accuracy_cnt = 0\n",
        "\n",
        "for i in range(0, len(x), batch_size):\n",
        "    x_batch = x[i:i+batch_size]\n",
        "    y_batch = network.predict(x_batch) #上一步学习结束后，network中已经设置好了权重和偏置，直接使用它进行推理\n",
        "    p = np.argmax(y_batch, axis=1)\n",
        "    accuracy_cnt += np.sum(p == t[i:i+batch_size])\n",
        "\n",
        "print(\"Accuracy:\" + str(float(accuracy_cnt) / len(x)))"
      ],
      "metadata": {
        "colab": {
          "base_uri": "https://localhost:8080/"
        },
        "id": "zQ7ErM0Kof5S",
        "outputId": "cbb86ab9-f9f0-46f8-ab16-72ae3ae1f5b3"
      },
      "execution_count": null,
      "outputs": [
        {
          "output_type": "stream",
          "name": "stdout",
          "text": [
            "Accuracy:0.9462\n"
          ]
        }
      ]
    }
  ]
}