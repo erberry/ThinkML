{
  "nbformat": 4,
  "nbformat_minor": 0,
  "metadata": {
    "colab": {
      "provenance": [],
      "machine_shape": "hm",
      "authorship_tag": "ABX9TyM+BFYhpV5L1V9Y/4DYsoU1",
      "include_colab_link": true
    },
    "kernelspec": {
      "name": "python3",
      "display_name": "Python 3"
    },
    "language_info": {
      "name": "python"
    },
    "accelerator": "TPU"
  },
  "cells": [
    {
      "cell_type": "markdown",
      "metadata": {
        "id": "view-in-github",
        "colab_type": "text"
      },
      "source": [
        "<a href=\"https://colab.research.google.com/github/erberry/ThinkML/blob/main/ziya_llama_merge.ipynb\" target=\"_parent\"><img src=\"https://colab.research.google.com/assets/colab-badge.svg\" alt=\"Open In Colab\"/></a>"
      ]
    },
    {
      "cell_type": "markdown",
      "source": [
        "### 合并 ziya-llama 模型\n",
        "\n",
        "引用Fengshenbang-LM：\n",
        "\n",
        "> 由于LLaMA权重的许可限制，该模型不能用于商业用途，请严格遵守LLaMA的使用政策。考虑到LLaMA权重的许可证限制，我们无法直接发布完整的模型权重。因此，我们使用了FastChat开源工具作为基础，并对其进行了进一步的优化。我们计算并发布了Ziya-LLaMA-13B-v1权重与原始LLaMA权重之间的差值。用户可以按照以下步骤操作以获得Ziya-LLaMA-13B-v1完整权重，具体步骤如下：\n"
      ],
      "metadata": {
        "id": "DLT9Pr3xlv66"
      }
    },
    {
      "cell_type": "markdown",
      "source": [
        "#### 下载代码，安装依赖"
      ],
      "metadata": {
        "id": "vuFbg2RSk4au"
      }
    },
    {
      "cell_type": "code",
      "source": [
        "!git clone https://github.com/IDEA-CCNL/Fengshenbang-LM.git"
      ],
      "metadata": {
        "colab": {
          "base_uri": "https://localhost:8080/"
        },
        "id": "A4hKtcZiJsMx",
        "outputId": "47cd2198-169c-41be-9a11-c3c9ed6b68a8"
      },
      "execution_count": null,
      "outputs": [
        {
          "output_type": "stream",
          "name": "stdout",
          "text": [
            "Cloning into 'Fengshenbang-LM'...\n",
            "remote: Enumerating objects: 5410, done.\u001b[K\n",
            "remote: Counting objects: 100% (233/233), done.\u001b[K\n",
            "remote: Compressing objects: 100% (137/137), done.\u001b[K\n",
            "remote: Total 5410 (delta 103), reused 210 (delta 92), pack-reused 5177\u001b[K\n",
            "Receiving objects: 100% (5410/5410), 86.29 MiB | 45.95 MiB/s, done.\n",
            "Resolving deltas: 100% (3238/3238), done.\n"
          ]
        }
      ]
    },
    {
      "cell_type": "code",
      "source": [
        "!pip install torch==1.12.1 tokenizers==0.13.3 transformers sentencepiece accelerate"
      ],
      "metadata": {
        "id": "vMUguNA9LsqD"
      },
      "execution_count": null,
      "outputs": []
    },
    {
      "cell_type": "markdown",
      "source": [
        "#### 合并\n",
        "\n",
        "已转为hf格式的原LLama模型：elinas/llama-13b-hf-transformers-4.29\n",
        "\n",
        "差值：IDEA-CCNL/Ziya-LLaMA-13B-v1.1\n",
        "\n",
        "合并需要大约 50GB 内存。"
      ],
      "metadata": {
        "id": "bhMKbBbok96v"
      }
    },
    {
      "cell_type": "markdown",
      "source": [
        "创建合并模型所在文件夹"
      ],
      "metadata": {
        "id": "ImqVHiHclHuE"
      }
    },
    {
      "cell_type": "code",
      "source": [
        "!mkdir /content/model_weights"
      ],
      "metadata": {
        "id": "skyeaGfBQ6W3"
      },
      "execution_count": null,
      "outputs": []
    },
    {
      "cell_type": "code",
      "source": [
        "!cd Fengshenbang-LM/fengshen/utils && python3 -m apply_delta --base elinas/llama-13b-hf-transformers-4.29 --target /content/model_weights/Ziya-LLaMA-13B-v1.1 --delta IDEA-CCNL/Ziya-LLaMA-13B-v1.1\n"
      ],
      "metadata": {
        "id": "VKy9dPYSKPjh"
      },
      "execution_count": null,
      "outputs": []
    },
    {
      "cell_type": "markdown",
      "source": [
        "### 保存模型到 huggingface"
      ],
      "metadata": {
        "id": "NrVu8bw_n3BE"
      }
    },
    {
      "cell_type": "markdown",
      "source": [
        "授权，在弹出的输入框中输入 huggingface 的 token，token 从个人setting中获取，需要有写权限的token。"
      ],
      "metadata": {
        "id": "APDXSEqnn7zP"
      }
    },
    {
      "cell_type": "code",
      "source": [
        "from huggingface_hub import login\n",
        "login()"
      ],
      "metadata": {
        "id": "qnyzWNVcn2Te"
      },
      "execution_count": null,
      "outputs": []
    },
    {
      "cell_type": "markdown",
      "source": [
        "上传文件夹"
      ],
      "metadata": {
        "id": "D06Hi4jPoKsL"
      }
    },
    {
      "cell_type": "code",
      "source": [
        "from huggingface_hub import HfApi\n",
        "\n",
        "api = HfApi()\n",
        "\n",
        "api.upload_folder(\n",
        "    folder_path=\"~/model_weights/Ziya-LLaMA-13B-v1.1\",\n",
        "    repo_id=\"username/repo-id\",\n",
        "    repo_type=\"model\",\n",
        ")"
      ],
      "metadata": {
        "id": "CWvFfcv-mp8J"
      },
      "execution_count": null,
      "outputs": []
    }
  ]
}