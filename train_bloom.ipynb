{
  "cells": [
    {
      "cell_type": "markdown",
      "metadata": {
        "id": "view-in-github",
        "colab_type": "text"
      },
      "source": [
        "<a href=\"https://colab.research.google.com/github/erberry/ThinkML/blob/main/train_bloom.ipynb\" target=\"_parent\"><img src=\"https://colab.research.google.com/assets/colab-badge.svg\" alt=\"Open In Colab\"/></a>"
      ]
    },
    {
      "cell_type": "markdown",
      "source": [
        "# 在新数据集上对 bloom-560m 模型进行微调"
      ],
      "metadata": {
        "id": "4XPA7haWVXKc"
      }
    },
    {
      "cell_type": "markdown",
      "metadata": {
        "id": "ItCHsN7Wy9MF"
      },
      "source": [
        "# 安装依赖"
      ]
    },
    {
      "cell_type": "code",
      "execution_count": null,
      "metadata": {
        "id": "jOwxlBTO167i"
      },
      "outputs": [],
      "source": [
        "!pip install transformers==4.29.0\n",
        "!pip install git+https://github.com/huggingface/accelerate\n",
        "!pip install datasets\n",
        "!pip install torch\n",
        "!pip install pandas"
      ]
    },
    {
      "cell_type": "markdown",
      "source": [
        "查看 GPU 信息：\n",
        "\n",
        "显卡配置：A100 40GB"
      ],
      "metadata": {
        "id": "bQK6cDzWCdZL"
      }
    },
    {
      "cell_type": "code",
      "source": [
        "gpu_info = !nvidia-smi\n",
        "gpu_info = '\\n'.join(gpu_info)\n",
        "if gpu_info.find('failed') >= 0:\n",
        "  print('Not connected to a GPU')\n",
        "else:\n",
        "  print(gpu_info)"
      ],
      "metadata": {
        "id": "mSEH67PCLGO-",
        "outputId": "70820f16-8a11-4d5a-8c3f-8c0a9749ce47",
        "colab": {
          "base_uri": "https://localhost:8080/"
        }
      },
      "execution_count": null,
      "outputs": [
        {
          "output_type": "stream",
          "name": "stdout",
          "text": [
            "Thu Jun 15 13:15:41 2023       \n",
            "+-----------------------------------------------------------------------------+\n",
            "| NVIDIA-SMI 525.85.12    Driver Version: 525.85.12    CUDA Version: 12.0     |\n",
            "|-------------------------------+----------------------+----------------------+\n",
            "| GPU  Name        Persistence-M| Bus-Id        Disp.A | Volatile Uncorr. ECC |\n",
            "| Fan  Temp  Perf  Pwr:Usage/Cap|         Memory-Usage | GPU-Util  Compute M. |\n",
            "|                               |                      |               MIG M. |\n",
            "|===============================+======================+======================|\n",
            "|   0  NVIDIA A100-SXM...  Off  | 00000000:00:04.0 Off |                    0 |\n",
            "| N/A   33C    P0    42W / 400W |      0MiB / 40960MiB |      0%      Default |\n",
            "|                               |                      |             Disabled |\n",
            "+-------------------------------+----------------------+----------------------+\n",
            "                                                                               \n",
            "+-----------------------------------------------------------------------------+\n",
            "| Processes:                                                                  |\n",
            "|  GPU   GI   CI        PID   Type   Process name                  GPU Memory |\n",
            "|        ID   ID                                                   Usage      |\n",
            "|=============================================================================|\n",
            "|  No running processes found                                                 |\n",
            "+-----------------------------------------------------------------------------+\n"
          ]
        }
      ]
    },
    {
      "cell_type": "markdown",
      "metadata": {
        "id": "ha5EMilXy_wK"
      },
      "source": [
        "# 训练 tokenizer （这一步可跳过，后续的模型训练可以使用原 tokenizer）\n",
        "\n",
        "这里使用新数据集训练 tokenizer 的本意是担心原模型的 tokenizer 不认识新数据集中的词汇。\n",
        "\n",
        "经过几次试验，发现原模型的词汇量挺大的，没必要再训练。"
      ]
    },
    {
      "cell_type": "markdown",
      "metadata": {
        "id": "CN94_nzvzUrO"
      },
      "source": [
        "加载数据集"
      ]
    },
    {
      "cell_type": "code",
      "execution_count": null,
      "metadata": {
        "colab": {
          "base_uri": "https://localhost:8080/",
          "height": 233,
          "referenced_widgets": [
            "410e7cd9d39144e7902f64e955661c57",
            "7ed3ae83356e49f8867dc81d39436d3f",
            "54707cbaf2e747a580a3e566f21e40fe",
            "3cd4becadceb46e69db59d87f455b616",
            "b8cc21db6dc445409ba403972321d5cc",
            "73532226532746949a511029234fcda4"
          ]
        },
        "id": "B7WD_J2UyDZ3",
        "outputId": "627ef276-7f0f-4c32-e547-15b434101e71"
      },
      "outputs": [
        {
          "data": {
            "application/vnd.jupyter.widget-view+json": {
              "model_id": "410e7cd9d39144e7902f64e955661c57",
              "version_major": 2,
              "version_minor": 0
            },
            "text/plain": [
              "Downloading readme:   0%|          | 0.00/431 [00:00<?, ?B/s]"
            ]
          },
          "metadata": {},
          "output_type": "display_data"
        },
        {
          "name": "stdout",
          "output_type": "stream",
          "text": [
            "Downloading and preparing dataset None/None to /root/.cache/huggingface/datasets/erberry___parquet/erberry--github-lll-c691dbf5ef3b534e/0.0.0/14a00e99c0d15a23649d0db8944380ac81082d4b021f398733dd84f3a6c569a7...\n"
          ]
        },
        {
          "data": {
            "application/vnd.jupyter.widget-view+json": {
              "model_id": "7ed3ae83356e49f8867dc81d39436d3f",
              "version_major": 2,
              "version_minor": 0
            },
            "text/plain": [
              "Downloading data files:   0%|          | 0/1 [00:00<?, ?it/s]"
            ]
          },
          "metadata": {},
          "output_type": "display_data"
        },
        {
          "data": {
            "application/vnd.jupyter.widget-view+json": {
              "model_id": "54707cbaf2e747a580a3e566f21e40fe",
              "version_major": 2,
              "version_minor": 0
            },
            "text/plain": [
              "Downloading data:   0%|          | 0.00/26.7M [00:00<?, ?B/s]"
            ]
          },
          "metadata": {},
          "output_type": "display_data"
        },
        {
          "data": {
            "application/vnd.jupyter.widget-view+json": {
              "model_id": "3cd4becadceb46e69db59d87f455b616",
              "version_major": 2,
              "version_minor": 0
            },
            "text/plain": [
              "Extracting data files:   0%|          | 0/1 [00:00<?, ?it/s]"
            ]
          },
          "metadata": {},
          "output_type": "display_data"
        },
        {
          "data": {
            "application/vnd.jupyter.widget-view+json": {
              "model_id": "b8cc21db6dc445409ba403972321d5cc",
              "version_major": 2,
              "version_minor": 0
            },
            "text/plain": [
              "Generating train split:   0%|          | 0/156824 [00:00<?, ? examples/s]"
            ]
          },
          "metadata": {},
          "output_type": "display_data"
        },
        {
          "name": "stdout",
          "output_type": "stream",
          "text": [
            "Dataset parquet downloaded and prepared to /root/.cache/huggingface/datasets/erberry___parquet/erberry--github-lll-c691dbf5ef3b534e/0.0.0/14a00e99c0d15a23649d0db8944380ac81082d4b021f398733dd84f3a6c569a7. Subsequent calls will reuse this data.\n"
          ]
        },
        {
          "data": {
            "application/vnd.jupyter.widget-view+json": {
              "model_id": "73532226532746949a511029234fcda4",
              "version_major": 2,
              "version_minor": 0
            },
            "text/plain": [
              "  0%|          | 0/1 [00:00<?, ?it/s]"
            ]
          },
          "metadata": {},
          "output_type": "display_data"
        }
      ],
      "source": [
        "from datasets import load_dataset\n",
        "law_dataset = load_dataset(\"erberry/github-lll\")"
      ]
    },
    {
      "cell_type": "code",
      "execution_count": null,
      "metadata": {
        "colab": {
          "base_uri": "https://localhost:8080/"
        },
        "id": "xkCTINFlzlDM",
        "outputId": "eff4df12-8ad3-46e2-e34e-76a710d07120"
      },
      "outputs": [
        {
          "name": "stdout",
          "output_type": "stream",
          "text": [
            "DatasetDict({\n",
            "    train: Dataset({\n",
            "        features: ['Unnamed: 0', 'fname', 'text'],\n",
            "        num_rows: 156824\n",
            "    })\n",
            "})\n"
          ]
        }
      ],
      "source": [
        "print(law_dataset)"
      ]
    },
    {
      "cell_type": "markdown",
      "metadata": {
        "id": "jhJpkXblzXVA"
      },
      "source": [
        "加载原 tokenizer"
      ]
    },
    {
      "cell_type": "code",
      "execution_count": null,
      "metadata": {
        "colab": {
          "base_uri": "https://localhost:8080/",
          "height": 113,
          "referenced_widgets": [
            "420778eedc1c4b1a850fd93662436339",
            "c58e02ae97dd4b569dd5e5f7bd72f9a2",
            "c60b8c3601e14c8fafc9fb6e0c17fc83"
          ]
        },
        "id": "J5lKhg2Qy5SZ",
        "outputId": "288cfbcf-984b-46dd-b436-811a9bdbc521"
      },
      "outputs": [
        {
          "data": {
            "application/vnd.jupyter.widget-view+json": {
              "model_id": "420778eedc1c4b1a850fd93662436339",
              "version_major": 2,
              "version_minor": 0
            },
            "text/plain": [
              "Downloading (…)okenizer_config.json:   0%|          | 0.00/222 [00:00<?, ?B/s]"
            ]
          },
          "metadata": {},
          "output_type": "display_data"
        },
        {
          "data": {
            "application/vnd.jupyter.widget-view+json": {
              "model_id": "c58e02ae97dd4b569dd5e5f7bd72f9a2",
              "version_major": 2,
              "version_minor": 0
            },
            "text/plain": [
              "Downloading tokenizer.json:   0%|          | 0.00/14.5M [00:00<?, ?B/s]"
            ]
          },
          "metadata": {},
          "output_type": "display_data"
        },
        {
          "data": {
            "application/vnd.jupyter.widget-view+json": {
              "model_id": "c60b8c3601e14c8fafc9fb6e0c17fc83",
              "version_major": 2,
              "version_minor": 0
            },
            "text/plain": [
              "Downloading (…)cial_tokens_map.json:   0%|          | 0.00/85.0 [00:00<?, ?B/s]"
            ]
          },
          "metadata": {},
          "output_type": "display_data"
        }
      ],
      "source": [
        "from transformers import AutoTokenizer\n",
        "\n",
        "old_tokenizer = AutoTokenizer.from_pretrained(\"bigscience/bloom-560m\")"
      ]
    },
    {
      "cell_type": "markdown",
      "metadata": {
        "id": "jjMT-t2Pz-92"
      },
      "source": [
        "训练 tokenizer\n",
        "\n",
        "每1000条数据一个批次，分批训练。\n",
        "\n",
        "训练目标是达到 5w 词汇量，别问我为什么，随便定的。\n",
        "\n",
        "漫长、无聊的训练开始，他怎么就这么慢！\n",
        "\n",
        "如果只是为了体验一下训练过程，可以只取一部分dataset，例如这样：\n",
        "\n",
        "\n",
        "\n",
        "```\n",
        "import torch\n",
        "\n",
        "device = torch.device(\"cuda\" if torch.cuda.is_available() else \"cpu\")\n",
        "\n",
        "small_dataset = law_dataset[\"train\"][:3000] #取前3000条\n",
        "\n",
        "training_corpus = (\n",
        "    law_dataset[i : i + 1000][\"text\"]\n",
        "    for i in range(0, len(law_dataset), 1000)\n",
        ")\n",
        "\n",
        "tokenizer = old_tokenizer.train_new_from_iterator(training_corpus, 50000, device=device)\n",
        "tokenizer.save_pretrained(\"chinese-bloom-law\")\n",
        "```\n",
        "\n"
      ]
    },
    {
      "cell_type": "markdown",
      "metadata": {
        "id": "05sDHB5PLb_m"
      },
      "source": [
        "经过约40分钟，训练完成"
      ]
    },
    {
      "cell_type": "code",
      "execution_count": null,
      "metadata": {
        "colab": {
          "base_uri": "https://localhost:8080/"
        },
        "id": "nUBmKWCdzd7X",
        "outputId": "5ce116f7-3b4a-478d-f6e5-4b7e928d721c"
      },
      "outputs": [
        {
          "data": {
            "text/plain": [
              "('chinese-bloom-law/tokenizer_config.json',\n",
              " 'chinese-bloom-law/special_tokens_map.json',\n",
              " 'chinese-bloom-law/tokenizer.json')"
            ]
          },
          "execution_count": 6,
          "metadata": {},
          "output_type": "execute_result"
        }
      ],
      "source": [
        "import torch\n",
        "\n",
        "device = torch.device(\"cuda\" if torch.cuda.is_available() else \"cpu\")\n",
        "\n",
        "training_corpus = (\n",
        "    law_dataset[\"train\"][i : i + 1000][\"text\"]\n",
        "    for i in range(0, len(law_dataset[\"train\"]), 1000)\n",
        ")\n",
        "\n",
        "tokenizer = old_tokenizer.train_new_from_iterator(training_corpus, 50000, device=device)\n",
        "tokenizer.save_pretrained(\"chinese-bloom-law\")"
      ]
    },
    {
      "cell_type": "code",
      "source": [
        "授权 colab 访问 huggingface，在弹出的页面中输入自己在 huggingface 的 access token （在个人主页的设置里，需要拥有写权限的token）\n",
        "from huggingface_hub import notebook_login\n",
        "\n",
        "notebook_login()"
      ],
      "metadata": {
        "id": "GclQ-H2pJels"
      },
      "execution_count": null,
      "outputs": []
    },
    {
      "cell_type": "code",
      "execution_count": null,
      "metadata": {
        "colab": {
          "base_uri": "https://localhost:8080/"
        },
        "id": "Az4clPveCIrx",
        "outputId": "b33aea9b-b169-4edf-986f-c6a9a3bfc6b9"
      },
      "outputs": [
        {
          "data": {
            "text/plain": [
              "CommitInfo(commit_url='https://huggingface.co/erberry/chinese-bloom-law/commit/3d35975ade3de9c27bf1412b4df04122609baa90', commit_message='Upload tokenizer', commit_description='', oid='3d35975ade3de9c27bf1412b4df04122609baa90', pr_url=None, pr_revision=None, pr_num=None)"
            ]
          },
          "execution_count": 7,
          "metadata": {},
          "output_type": "execute_result"
        }
      ],
      "source": [
        "tokenizer.push_to_hub(\"chinese-bloom-law\")"
      ]
    },
    {
      "cell_type": "markdown",
      "metadata": {
        "id": "R9EciRc-3vjA"
      },
      "source": [
        "验证"
      ]
    },
    {
      "cell_type": "code",
      "execution_count": null,
      "metadata": {
        "colab": {
          "base_uri": "https://localhost:8080/",
          "height": 149,
          "referenced_widgets": [
            "4b423f6dd0d543378c89172db5cf2bc5",
            "3b52fe89d2ad425ab6a1797e22ec547a",
            "767e94c7858d4019a38ddaa25c6bbfe7"
          ]
        },
        "id": "FFgNs-L53rGT",
        "outputId": "96b17cfe-c544-4d82-c190-e7489e149f02"
      },
      "outputs": [
        {
          "data": {
            "application/vnd.jupyter.widget-view+json": {
              "model_id": "4b423f6dd0d543378c89172db5cf2bc5",
              "version_major": 2,
              "version_minor": 0
            },
            "text/plain": [
              "Downloading (…)okenizer_config.json:   0%|          | 0.00/286 [00:00<?, ?B/s]"
            ]
          },
          "metadata": {},
          "output_type": "display_data"
        },
        {
          "data": {
            "application/vnd.jupyter.widget-view+json": {
              "model_id": "3b52fe89d2ad425ab6a1797e22ec547a",
              "version_major": 2,
              "version_minor": 0
            },
            "text/plain": [
              "Downloading (…)/main/tokenizer.json:   0%|          | 0.00/4.38M [00:00<?, ?B/s]"
            ]
          },
          "metadata": {},
          "output_type": "display_data"
        },
        {
          "data": {
            "application/vnd.jupyter.widget-view+json": {
              "model_id": "767e94c7858d4019a38ddaa25c6bbfe7",
              "version_major": 2,
              "version_minor": 0
            },
            "text/plain": [
              "Downloading (…)cial_tokens_map.json:   0%|          | 0.00/96.0 [00:00<?, ?B/s]"
            ]
          },
          "metadata": {},
          "output_type": "display_data"
        },
        {
          "name": "stdout",
          "output_type": "stream",
          "text": [
            "[1084, 1563, 525, 33596, 2935, 170, 12307, 1212, 10078, 7723, 170, 1426, 6532, 12359, 6904, 212, 27713]\n"
          ]
        },
        {
          "data": {
            "application/vnd.google.colaboratory.intrinsic+json": {
              "type": "string"
            },
            "text/plain": [
              "'人民检察院建议人民法院适用速裁程序的案件，起诉书内容可以适当简化，重点写明指控的事实和适用的法律'"
            ]
          },
          "execution_count": 8,
          "metadata": {},
          "output_type": "execute_result"
        }
      ],
      "source": [
        "from transformers import AutoTokenizer\n",
        "\n",
        "tokenizer = AutoTokenizer.from_pretrained(\"erberry/chinese-bloom-law\")\n",
        "encoding = tokenizer.encode(\"人民检察院建议人民法院适用速裁程序的案件，起诉书内容可以适当简化，重点写明指控的事实和适用的法律\")\n",
        "print(encoding)\n",
        "tokenizer.decode(encoding)"
      ]
    },
    {
      "cell_type": "markdown",
      "metadata": {
        "id": "f-Q07ZPd3MaB"
      },
      "source": [
        "# 微调模型"
      ]
    },
    {
      "cell_type": "markdown",
      "metadata": {
        "id": "0kHkZLxJ-Haa"
      },
      "source": [
        "### 加载原模型"
      ]
    },
    {
      "cell_type": "code",
      "execution_count": null,
      "metadata": {
        "id": "nB4LcdU12O7L"
      },
      "outputs": [],
      "source": [
        "from transformers import AutoTokenizer, AutoModelForCausalLM\n",
        "\n",
        "old_model = AutoModelForCausalLM.from_pretrained(\"bigscience/bloom-560m\")\n",
        "\n",
        "tokenizer = AutoTokenizer.from_pretrained(\"bigscience/bloom-560m\")"
      ]
    },
    {
      "cell_type": "markdown",
      "metadata": {
        "id": "pvUhLes1L0OJ"
      },
      "source": [
        "### 加载数据集"
      ]
    },
    {
      "cell_type": "code",
      "execution_count": null,
      "metadata": {
        "id": "plSDvsDCLznA"
      },
      "outputs": [],
      "source": [
        "from datasets import load_dataset\n",
        "law_dataset = load_dataset(\"erberry/github-lll\")"
      ]
    },
    {
      "cell_type": "markdown",
      "metadata": {
        "id": "-rfr_WmD-P-8"
      },
      "source": [
        "将数据集拆分为训练集合和测试集合\n",
        "\n",
        "训练集合用来对模型进行训练，测试集合用来验证模型在新数据集上的表现（判断是否过拟合）"
      ]
    },
    {
      "cell_type": "code",
      "execution_count": null,
      "metadata": {
        "colab": {
          "base_uri": "https://localhost:8080/"
        },
        "id": "l9Nn-voCZEQG",
        "outputId": "e8961ed9-9311-4c34-ca06-0cacc83bc360"
      },
      "outputs": [
        {
          "output_type": "stream",
          "name": "stdout",
          "text": [
            "DatasetDict({\n",
            "    train: Dataset({\n",
            "        features: ['Unnamed: 0', 'fname', 'text'],\n",
            "        num_rows: 156824\n",
            "    })\n",
            "})\n",
            "DatasetDict({\n",
            "    train: Dataset({\n",
            "        features: ['Unnamed: 0', 'fname', 'text'],\n",
            "        num_rows: 125459\n",
            "    })\n",
            "    test: Dataset({\n",
            "        features: ['Unnamed: 0', 'fname', 'text'],\n",
            "        num_rows: 31365\n",
            "    })\n",
            "})\n",
            "{'Unnamed: 0': [99147, 9624, 68655, 32735, 144823, 23890, 57218, 153426], 'fname': ['广东省湿地保护条例(2022 11 30).md.txt', '山东省劳动合同条例(2013 08 01).md.txt', '浙江省计量监督管理条例.md.txt', '郑州市城市房地产市场管理条例(2010 12 20).md.txt', '河南省警务辅助人员条例(2020 09 27).md.txt', '中国（上海）自由贸易试验区条例(2014 07 25).md.txt', '长江三峡工程建设移民条例(2011 01 08).md.txt', '证券投资基金法(2015 04 24).md.txt'], 'text': ['广东省湿地保护条例(2022 11 30).md.txt。第四条 县级以上人民政府应当建立湿地保护工作协调机制，组织协调、研究解决湿地保护工作中的重大问题。各级人民政府对本行政区域内湿地保护负总责，加强湿地保护工作，将湿地保护纳入国民经济和社会发展规划，保障湿地保护、修复和补偿的资金投入。沿海县级以上人民政府应当加强对红树林湿地的保护，采取措施保护和恢复红树林，解决红树林湿地保护工作中的重大问题。', '山东省劳动合同条例(2013 08 01).md.txt。第十条 用人单位有权了解劳动者与劳动合同直接相关的健康状况、工作经历、知识技能等基本情况，核对劳动者的居民身份证、居住证等相关证件，劳动者应当如实说明或者提供。劳动者与原用人单位有竞业限制约定的，应当向用人单位如实说明。', '浙江省计量监督管理条例.md.txt。第二条 本条例适用于本省行政区域内的计量活动及其监督管理。本条例所称计量活动，包括使用计量单位，建立计量标准，制造、修理、销售、使用计量器具，进行计量器具检定、校准，出具计量数据，对商品或者服务进行计量结算以及其他有关活动。', '郑州市城市房地产市场管理条例(2010 12 20).md.txt。第五十二条 在市、县（市）城市规划区以外的国有土地范围内的房地产市场管理，按本条例执行。', '河南省警务辅助人员条例(2020 09 27).md.txt。第五章 管理与监督', '中国（上海）自由贸易试验区条例(2014 07 25).md.txt。第十五条 区内企业取得营业执照后，即可从事一般生产经营活动；从事需要审批的生产经营活动的，可以在取得营业执照后，向有关部门申请办理。从事法律、行政法规或者国务院决定规定需要前置审批的生产经营活动的，应当在申请办理营业执照前，依法办理批准手续。', '长江三峡工程建设移民条例(2011 01 08).md.txt。第四条 三峡工程建设移民工作应当与三峡库区建设、沿江地区对外开放、水土保持和环境保护相结合。', '证券投资基金法(2015 04 24).md.txt。第一百一十八条 国务院证券监督管理机构工作人员在任职期间，或者离职后在《中华人民共和国公务员法》规定的期限内，不得在被监管的机构中担任职务。']}\n",
            "{'Unnamed: 0': [80261, 17580, 21182, 149463, 102777, 89029, 107928, 51538], 'fname': ['计划生育技术服务管理条例(2004 12 10).md.txt', '山东省建设工程抗震设防条例(2020 07 24).md.txt', '军人抚恤优待条例(2019 03 02).md.txt', '河南省防震减灾条例(2011 03 31).md.txt', '最高人民法院关于适用《涉外民事关系法律适用法》若干问题的解释（一）(2020 12 29).md.txt', '残疾人保障法(2018 10 26).md.txt', '威海市海上交通安全条例(2019 06 05).md.txt', '上海口岸服务条例(2020 05 14).md.txt'], 'text': ['计划生育技术服务管理条例(2004 12 10).md.txt。第八条 县级以上城市从事计划生育技术服务的机构可以在批准的范围内开展下列与计划生育有关的临床医疗服务：。(一)避孕和节育的医学检查；。(二)计划生育手术并发症和计划生育药具不良反应的诊断、治疗；。(三)施行避孕、节育手术和输卵(精)管复通手术；。(四)开展围绕生育、节育、不育的其他生殖保健项目。具体项目由国务院计划生育行政部门、卫生行政部门共同规定。', '山东省建设工程抗震设防条例(2020 07 24).md.txt。第二十一条 省人民政府住房城乡建设、交通运输、水利等有关主管部门应当组织制定建设工程抗震设计、施工等工程建设地方标准，完善工程建设标准体系并负责监督实施。建设工程抗震设计、施工等技术标准，应当与抗震设防要求相衔接。', '军人抚恤优待条例(2019 03 02).md.txt。第二十条 现役军人失踪，经法定程序宣告死亡的，在其被批准为烈士、确认为因公牺牲或者病故后，又经法定程序撤销对其死亡宣告的，由原批准或者确认机关取消其烈士、因公牺牲军人或者病故军人资格，并由发证机关收回有关证件，终止其家属原享受的抚恤待遇。', '河南省防震减灾条例(2011 03 31).md.txt。第九章 附则', '最高人民法院关于适用《涉外民事关系法律适用法》若干问题的解释（一）(2020 12 29).md.txt。第六条 当事人在一审法庭辩论终结前协议选择或者变更选择适用的法律的，人民法院应予准许。各方当事人援引相同国家的法律且未提出法律适用异议的，人民法院可以认定当事人已经就涉外民事关系适用的法律做出了选择。', '残疾人保障法(2018 10 26).md.txt。第三十九条 残疾职工所在单位应当对残疾职工进行岗位技术培训，提高其劳动技能和技术水平。', '威海市海上交通安全条例(2019 06 05).md.txt。第三十六条 休闲船舶出航期间，应当与码头值班人员保持通信联络畅通。', '上海口岸服务条例(2020 05 14).md.txt。第九条 对列入上海口岸开放规划的港口、机场、车站等建设工程，市口岸服务部门应当会同口岸查验机构、本市有关部门和建设单位按照国家有关规定，结合实际情况，协调落实口岸现场查验设施和非现场配套设施的建设要求。口岸现场查验设施和非现场配套设施，应当按照“保障监管、便利通关、资源集约、合理适当”的原则建设和配备。']}\n"
          ]
        }
      ],
      "source": [
        "print(law_dataset)\n",
        "dataset = law_dataset['train'].train_test_split(test_size=0.2)\n",
        "print(dataset)\n",
        "print(dataset[\"train\"][:8])\n",
        "print(dataset[\"test\"][:8])"
      ]
    },
    {
      "cell_type": "markdown",
      "source": [
        "想了解关于数据集的选择和生成，见[准备数据集](https://mp.weixin.qq.com/s?__biz=Mzk0MDI2Nzc3Mw==&mid=2247484525&idx=1&sn=b46800ad10ac3145e77a3febcb664bd3&chksm=c2e505fff5928ce909cdd778acfb91f2bb17e814efcf1875b4628c0352d17685d6d7454c9776#rd)"
      ],
      "metadata": {
        "id": "gflMp_uHF929"
      }
    },
    {
      "cell_type": "markdown",
      "source": [
        "### 进行 tokenization\n",
        "\n",
        "将数据集中的文本进行 tokenization ，转为算法可识别的数值类型：token"
      ],
      "metadata": {
        "id": "G63KwvuKDyN0"
      }
    },
    {
      "cell_type": "markdown",
      "metadata": {
        "id": "Dz_XiAaN-VZO"
      },
      "source": [
        "通过 dataset.map 方法分批进行 tokenization，有如下优点：\n",
        "\n",
        "- 数据不会被一次性加载进内存，而是分批加载\n",
        "- tokenization 结果写入 dataset，进行持久化"
      ]
    },
    {
      "cell_type": "code",
      "execution_count": null,
      "metadata": {
        "id": "m3BiAFtjD_LF"
      },
      "outputs": [],
      "source": [
        "def preprocess_function(examples):\n",
        "    return tokenizer(examples[\"text\"])"
      ]
    },
    {
      "cell_type": "code",
      "execution_count": null,
      "metadata": {
        "id": "bN89lBs_EjY7"
      },
      "outputs": [],
      "source": [
        "dataset_token = dataset.map(\n",
        "    preprocess_function,\n",
        "    batched=True,\n",
        "    remove_columns=dataset[\"train\"].column_names,\n",
        ")"
      ]
    },
    {
      "cell_type": "markdown",
      "metadata": {
        "id": "ib1OlC_r_5iK"
      },
      "source": [
        "由于模型计算需要输入的数据长度是一致的。\n",
        "\n",
        "使用 DataCollator 将同一批句子的 token 的长度填充至一致。\n",
        "\n",
        "将填充的工作从 tokenization 转移到了训练阶段，有如下优点：\n",
        "\n",
        "- 只需要同一批句子的 token 长度一致（如果在 tokenization 阶段填充，需要将所有句子填充至整个数据集最长句子的长度）"
      ]
    },
    {
      "cell_type": "code",
      "execution_count": null,
      "metadata": {
        "id": "tlzv1WXYItRR"
      },
      "outputs": [],
      "source": [
        "from transformers import DataCollatorForLanguageModeling\n",
        "\n",
        "tokenizer.pad_token = tokenizer.eos_token\n",
        "data_collator = DataCollatorForLanguageModeling(tokenizer=tokenizer, mlm=False)"
      ]
    },
    {
      "cell_type": "markdown",
      "source": [
        "想了解更多关于自然语言处理的 tokenization，见[NLP 之 Tokenization](https://mp.weixin.qq.com/s?__biz=Mzk0MDI2Nzc3Mw==&mid=2247484512&idx=1&sn=7895bd5a3a2c2931bd4312cccf3fb0fc&chksm=c2e505f2f5928ce49d30ef0022a5231945ed91dd61b2408f09d2dbe763b221cb4911e4a570b7#rd)"
      ],
      "metadata": {
        "id": "PFS6K2bbGw6d"
      }
    },
    {
      "cell_type": "markdown",
      "source": [
        "### 开始训练"
      ],
      "metadata": {
        "id": "xw17KhvoEB_5"
      }
    },
    {
      "cell_type": "markdown",
      "source": [
        "开始漫长的训练过程。\n",
        "\n",
        "一张显存 40GB 的 A100 显卡，训练时间大约3个小时。\n",
        "\n",
        "对于显存或者内存不足的情况，可以调节三个参数：\n",
        "\n",
        "- 设置半精度： fp16=True，同时会降低模型的准确度\n",
        "- 降低批量处理： per_device_train_batch_size 和 per_device_eval_batch_size，同时会加长训练时间\n",
        "\n",
        "对于缩短训练时间，可以调节四个参数：\n",
        "\n",
        "- num_train_epochs: 训练的 Epoch 数量，较小的值可以缩短训练时间。但会出现由于训练不足，模型准确度低。\n",
        "- 增加批量处理：调高 per_device_train_batch_size 和 per_device_eval_batch_size，但同时会增加内存使用\n",
        "- learning_rate: 学习率，较大的值可以使模型更快地收敛，但也可能导致模型不稳定或无法收敛。\n",
        "- max_steps: 最大训练步数，可以理解训练是一个循环，每个循环从数据集中取一批数据对模型进行更新，max_steps 代表了循环的次数。max_steps 设置后，将不会使用 epoch方式。"
      ],
      "metadata": {
        "id": "-7N49-cREJ1-"
      }
    },
    {
      "cell_type": "code",
      "execution_count": null,
      "metadata": {
        "colab": {
          "base_uri": "https://localhost:8080/",
          "height": 314
        },
        "id": "wqcGEmoKJJfv",
        "outputId": "bc18498c-c924-4510-f21b-514411fac940"
      },
      "outputs": [
        {
          "output_type": "stream",
          "name": "stderr",
          "text": [
            "/usr/local/lib/python3.10/dist-packages/transformers/optimization.py:407: FutureWarning: This implementation of AdamW is deprecated and will be removed in a future version. Use the PyTorch implementation torch.optim.AdamW instead, or set `no_deprecation_warning=True` to disable this warning\n",
            "  warnings.warn(\n",
            "You're using a BloomTokenizerFast tokenizer. Please note that with a fast tokenizer, using the `__call__` method is faster than using a method to encode the text followed by a call to the `pad` method to get a padded encoding.\n"
          ]
        },
        {
          "output_type": "display_data",
          "data": {
            "text/plain": [
              "<IPython.core.display.HTML object>"
            ],
            "text/html": [
              "\n",
              "    <div>\n",
              "      \n",
              "      <progress value='47049' max='47049' style='width:300px; height:20px; vertical-align: middle;'></progress>\n",
              "      [47049/47049 2:40:48, Epoch 3/3]\n",
              "    </div>\n",
              "    <table border=\"1\" class=\"dataframe\">\n",
              "  <thead>\n",
              " <tr style=\"text-align: left;\">\n",
              "      <th>Epoch</th>\n",
              "      <th>Training Loss</th>\n",
              "      <th>Validation Loss</th>\n",
              "    </tr>\n",
              "  </thead>\n",
              "  <tbody>\n",
              "    <tr>\n",
              "      <td>1</td>\n",
              "      <td>1.518400</td>\n",
              "      <td>1.518537</td>\n",
              "    </tr>\n",
              "    <tr>\n",
              "      <td>2</td>\n",
              "      <td>1.182200</td>\n",
              "      <td>1.399636</td>\n",
              "    </tr>\n",
              "    <tr>\n",
              "      <td>3</td>\n",
              "      <td>0.821200</td>\n",
              "      <td>1.457843</td>\n",
              "    </tr>\n",
              "  </tbody>\n",
              "</table><p>"
            ]
          },
          "metadata": {}
        },
        {
          "output_type": "execute_result",
          "data": {
            "text/plain": [
              "TrainOutput(global_step=47049, training_loss=1.2659977867072791, metrics={'train_runtime': 9651.7759, 'train_samples_per_second': 38.996, 'train_steps_per_second': 4.875, 'total_flos': 1.152351182629847e+17, 'train_loss': 1.2659977867072791, 'epoch': 3.0})"
            ]
          },
          "metadata": {},
          "execution_count": 11
        }
      ],
      "source": [
        "from transformers import TrainingArguments, Trainer\n",
        "\n",
        "training_args = TrainingArguments(\n",
        "    output_dir=\"chinese-bloom-law-run\",\n",
        "    evaluation_strategy=\"epoch\",\n",
        "    learning_rate=2e-5,\n",
        "    weight_decay=0.01,\n",
        "    fp16=True, # 设置半精度，降低显存要求\n",
        "    per_device_train_batch_size=8, # 指定一次向设备传输几批数据，决定了使用的显存大小\n",
        "    per_device_eval_batch_size=8,\n",
        ")\n",
        "\n",
        "trainer = Trainer(\n",
        "    model=old_model,\n",
        "    args=training_args,\n",
        "    train_dataset=dataset_token[\"train\"],\n",
        "    eval_dataset=dataset_token[\"test\"],\n",
        "    data_collator=data_collator,\n",
        ")\n",
        "\n",
        "trainer.train()"
      ]
    },
    {
      "cell_type": "markdown",
      "source": [
        "经过2小时40分钟，完成了3轮 epoch。\n",
        "\n",
        "每个 epoch 会使用数据集中的所有数据进行训练，训练完成后，再在测试数据上进行一次验证。\n",
        "\n",
        "所以上面的表格中有三行数据，每行代表了在整个数据集上训练完成的**训练损失和验证损失**。\n",
        "\n",
        "第三次 epoch，出现了训练损失降低，而验证损失升高，代表出现了**过拟合现象**。\n",
        "\n",
        "过拟合意味着模型在它见过的数据上表现好，但在没有见过的数据上表现差。\n",
        "\n",
        "epoch 轮数过多，模型对训练数据出现了刻板印象，容易导致过拟合；而轮数过少，则容易出现欠拟合。"
      ],
      "metadata": {
        "id": "fd8mFg1SKIWa"
      }
    },
    {
      "cell_type": "markdown",
      "source": [
        "### 进行模型评估\n",
        "\n",
        "计算模型困惑度，关注模型在测试数据集上的预测准确性，越低越好"
      ],
      "metadata": {
        "id": "iXADOM0xJhZ1"
      }
    },
    {
      "cell_type": "code",
      "execution_count": null,
      "metadata": {
        "colab": {
          "base_uri": "https://localhost:8080/",
          "height": 55
        },
        "id": "kaCc_OYjJPLl",
        "outputId": "58728658-69a3-4269-bd44-b0228ffe390b"
      },
      "outputs": [
        {
          "output_type": "display_data",
          "data": {
            "text/plain": [
              "<IPython.core.display.HTML object>"
            ],
            "text/html": [
              "\n",
              "    <div>\n",
              "      \n",
              "      <progress value='3921' max='3921' style='width:300px; height:20px; vertical-align: middle;'></progress>\n",
              "      [3921/3921 02:36]\n",
              "    </div>\n",
              "    "
            ]
          },
          "metadata": {}
        },
        {
          "output_type": "stream",
          "name": "stdout",
          "text": [
            "Perplexity: 4.30\n"
          ]
        }
      ],
      "source": [
        "import math\n",
        "\n",
        "eval_results = trainer.evaluate()\n",
        "print(f\"Perplexity: {math.exp(eval_results['eval_loss']):.2f}\")"
      ]
    },
    {
      "cell_type": "markdown",
      "source": [
        "从 Perplexity 指标看，训练结果还不错。原模型的 Perplexity 是 8.9。"
      ],
      "metadata": {
        "id": "QwFP75UqOpyl"
      }
    },
    {
      "cell_type": "markdown",
      "source": [
        "### 保存模型\n",
        "\n",
        "把训练好的模型保存到 huggingface。需要登录 huggingface。\n"
      ],
      "metadata": {
        "id": "W33CyicmPBPM"
      }
    },
    {
      "cell_type": "code",
      "source": [
        "# 授权 colab 访问 huggingface，在弹出的页面中输入自己在 huggingface 的 access token （在个人主页的设置里，需要拥有写权限的token）\n",
        "from huggingface_hub import notebook_login\n",
        "\n",
        "notebook_login()"
      ],
      "metadata": {
        "id": "1YAGEtodI4Uh"
      },
      "execution_count": null,
      "outputs": []
    },
    {
      "cell_type": "code",
      "source": [
        "trainer.save_model(\"chinese-bloom-law-beta\")\n",
        "beta_model = AutoModelForCausalLM.from_pretrained(\"./chinese-bloom-law-beta\")"
      ],
      "metadata": {
        "id": "cuI4t7OZ0m4C"
      },
      "execution_count": null,
      "outputs": []
    },
    {
      "cell_type": "code",
      "source": [
        "beta_model.push_to_hub(\"chinese-bloom-law-beta\")"
      ],
      "metadata": {
        "colab": {
          "base_uri": "https://localhost:8080/",
          "height": 198,
          "referenced_widgets": [
            "372b9d66b7b8414cb5394143db871dd5",
            "10673ceb36a144f8ab3e9a3620c7b2a0",
            "bf5f00826bf2444abf51fee7044027b7",
            "6a0142aeb7f947cda228e9c43725e7d9",
            "c37bb4ab7b494ee08ac12e2a0f28204d",
            "437637bfb5be4f9abbb7b6073a9dae17",
            "467d09e418014eb89785d4c8f29fc755",
            "bf5a450a30c84ce0ac1433d92d4ace18",
            "80dc06acddf2419f9b26408e981cc3d6",
            "08ead0007c6e4566804896ce1afc4b68",
            "e3b68e983adf42acb33293fec5dec222",
            "e2a2617351414389bea37710692dd785",
            "ba3fef6498d3418992d027c906e3acbc",
            "eb6b33f7d9804b9facfa933d8951715e",
            "ddc1415949e24fbaa328e32a97c89e9c",
            "91143e9220e5491ba1b3c99c50824c83",
            "b848efbac404453abd8208203562b8d4",
            "156f6284d1494d499b0704f9bcb0e8a9",
            "a9b13173694b4080a37886444ab745c8",
            "8e3a8c3268e445e5b41baf732790124b",
            "d05d294ccaa0485089cb77a9e9d262fb",
            "961a1046b1bc488aa2b006bfae0d498b"
          ]
        },
        "id": "qRGiUGEv02sZ",
        "outputId": "afbe4eab-a353-4fd1-932d-482e0f042109"
      },
      "execution_count": null,
      "outputs": [
        {
          "output_type": "display_data",
          "data": {
            "text/plain": [
              "Upload 1 LFS files:   0%|          | 0/1 [00:00<?, ?it/s]"
            ],
            "application/vnd.jupyter.widget-view+json": {
              "version_major": 2,
              "version_minor": 0,
              "model_id": "372b9d66b7b8414cb5394143db871dd5"
            }
          },
          "metadata": {}
        },
        {
          "output_type": "display_data",
          "data": {
            "text/plain": [
              "pytorch_model.bin:   0%|          | 0.00/2.24G [00:00<?, ?B/s]"
            ],
            "application/vnd.jupyter.widget-view+json": {
              "version_major": 2,
              "version_minor": 0,
              "model_id": "e2a2617351414389bea37710692dd785"
            }
          },
          "metadata": {}
        },
        {
          "output_type": "execute_result",
          "data": {
            "text/plain": [
              "CommitInfo(commit_url='https://huggingface.co/erberry/chinese-bloom-law-beta/commit/ea6141d7b7dbf127efb63155e143b4321eebb8f5', commit_message='Upload BloomForCausalLM', commit_description='', oid='ea6141d7b7dbf127efb63155e143b4321eebb8f5', pr_url=None, pr_revision=None, pr_num=None)"
            ]
          },
          "metadata": {},
          "execution_count": 20
        }
      ]
    },
    {
      "cell_type": "code",
      "source": [
        "inputs = tokenizer(\"防卫过当\", return_tensors=\"pt\").input_ids\n",
        "outputs = beta_model.generate(inputs, max_new_tokens=200, do_sample=True, top_k=50, top_p=0.95)\n",
        "result = tokenizer.batch_decode(outputs, skip_special_tokens=True)\n",
        "print(result)"
      ],
      "metadata": {
        "colab": {
          "base_uri": "https://localhost:8080/"
        },
        "id": "dDId9Ozr0wF-",
        "outputId": "7153aff9-f78d-4773-d182-582f96b59f2a"
      },
      "execution_count": null,
      "outputs": [
        {
          "output_type": "stream",
          "name": "stdout",
          "text": [
            "['防卫过当法(2021 06 10).md.txt。第十五条 被请求协助的防卫行为应当有利于维护国家主权、统一、领土完整和安全，不违背中国主权的原则，符合中国法律和有关国际条约的规定，不损害中国主权、安全和利益的。有关军事机关可以按照约定，请求被请求协助的防卫行为实施单位作为一方履行协助义务。请求书应当用中文制作，附存在协助义务的履行函，以及相关文书译制格式。国防科技工业、商务等部门或者军队其他有关部门按照约定提供协助的义务，在被请求人提出请求时视为被请求人履行协助义务。有关军事机关认为履行协助义务需要的，可以根据其能力、成效等直接向其下达协助请求，被请求人应当按照要求予以配合。被请求协助的防卫行为不违背中国国家主权、安全和利益的，可以不要求其提供协助。国防科技工业、商务等部门或者军队其他有关部门不履行协助义务的，由被请求人提出意见']\n"
          ]
        }
      ]
    },
    {
      "cell_type": "code",
      "source": [
        "law_model = AutoModelForCausalLM.from_pretrained(\"erberry/chinese-bloom-law-beta\")"
      ],
      "metadata": {
        "id": "f0Xijkv61gch"
      },
      "execution_count": null,
      "outputs": []
    },
    {
      "cell_type": "code",
      "source": [
        "inputs = tokenizer(\"劳动合同\", return_tensors=\"pt\").input_ids\n",
        "outputs = beta_model.generate(inputs, max_new_tokens=200, do_sample=True, top_k=50, top_p=0.95)\n",
        "result = tokenizer.batch_decode(outputs, skip_special_tokens=True)\n",
        "print(result)"
      ],
      "metadata": {
        "colab": {
          "base_uri": "https://localhost:8080/"
        },
        "id": "wOUXaY1E1oOe",
        "outputId": "6eaafdcf-b68b-415f-ca41-8a76b11b8101"
      },
      "execution_count": null,
      "outputs": [
        {
          "output_type": "stream",
          "name": "stdout",
          "text": [
            "['劳动合同法(2012 12 28).md.txt。第九十二条 本法自2004年1月1日起施行。1988年9月18日国务院发布的《中华人民共和国劳动合同法》同时废止。附录。劳动法律监督规定。总则。劳动合同的基本形式。劳动法律监督规定的劳动法律监督。法人。有限责任公司的劳动合同。有限合伙企业的劳动合同。外商投资企业的劳动合同。集体合同。劳动合同的起算时间。劳动合同的履行。劳动合同的期限。劳动合同的履行率。用人单位与劳动者约定的劳动合同期限， salat是劳动合同的履行时间，也是定员时的标准。用人单位与劳动者商定的合同期限与实际履行的时间不一致时，以实际履行的时间为准。用人单位与劳动者约定的劳动合同期限短于法定的或者国家规定的劳动合同期限， salat是劳动合同的履行时间。用人单位未按照法律规定和集体合同约定履行劳动合同，劳动者要求解除或者终止劳动合同，用人单位没有非法理由的，视为用人单位与劳动者约定的劳动合同履行期限短于法定的或者国家规定的期限']\n"
          ]
        }
      ]
    }
  ],
  "metadata": {
    "accelerator": "GPU",
    "colab": {
      "collapsed_sections": [
        "ItCHsN7Wy9MF",
        "ha5EMilXy_wK",
        "f-Q07ZPd3MaB"
      ],
      "machine_shape": "hm",
      "provenance": [],
      "gpuType": "A100",
      "authorship_tag": "ABX9TyMtI7LWm1/Di2klLbOLSFCX",
      "include_colab_link": true
    },
    "kernelspec": {
      "display_name": "Python 3",
      "name": "python3"
    },
    "language_info": {
      "name": "python"
    },
    "widgets": {
      "application/vnd.jupyter.widget-state+json": {
        "372b9d66b7b8414cb5394143db871dd5": {
          "model_module": "@jupyter-widgets/controls",
          "model_name": "HBoxModel",
          "model_module_version": "1.5.0",
          "state": {
            "_dom_classes": [],
            "_model_module": "@jupyter-widgets/controls",
            "_model_module_version": "1.5.0",
            "_model_name": "HBoxModel",
            "_view_count": null,
            "_view_module": "@jupyter-widgets/controls",
            "_view_module_version": "1.5.0",
            "_view_name": "HBoxView",
            "box_style": "",
            "children": [
              "IPY_MODEL_10673ceb36a144f8ab3e9a3620c7b2a0",
              "IPY_MODEL_bf5f00826bf2444abf51fee7044027b7",
              "IPY_MODEL_6a0142aeb7f947cda228e9c43725e7d9"
            ],
            "layout": "IPY_MODEL_c37bb4ab7b494ee08ac12e2a0f28204d"
          }
        },
        "10673ceb36a144f8ab3e9a3620c7b2a0": {
          "model_module": "@jupyter-widgets/controls",
          "model_name": "HTMLModel",
          "model_module_version": "1.5.0",
          "state": {
            "_dom_classes": [],
            "_model_module": "@jupyter-widgets/controls",
            "_model_module_version": "1.5.0",
            "_model_name": "HTMLModel",
            "_view_count": null,
            "_view_module": "@jupyter-widgets/controls",
            "_view_module_version": "1.5.0",
            "_view_name": "HTMLView",
            "description": "",
            "description_tooltip": null,
            "layout": "IPY_MODEL_437637bfb5be4f9abbb7b6073a9dae17",
            "placeholder": "​",
            "style": "IPY_MODEL_467d09e418014eb89785d4c8f29fc755",
            "value": "Upload 1 LFS files: 100%"
          }
        },
        "bf5f00826bf2444abf51fee7044027b7": {
          "model_module": "@jupyter-widgets/controls",
          "model_name": "FloatProgressModel",
          "model_module_version": "1.5.0",
          "state": {
            "_dom_classes": [],
            "_model_module": "@jupyter-widgets/controls",
            "_model_module_version": "1.5.0",
            "_model_name": "FloatProgressModel",
            "_view_count": null,
            "_view_module": "@jupyter-widgets/controls",
            "_view_module_version": "1.5.0",
            "_view_name": "ProgressView",
            "bar_style": "success",
            "description": "",
            "description_tooltip": null,
            "layout": "IPY_MODEL_bf5a450a30c84ce0ac1433d92d4ace18",
            "max": 1,
            "min": 0,
            "orientation": "horizontal",
            "style": "IPY_MODEL_80dc06acddf2419f9b26408e981cc3d6",
            "value": 1
          }
        },
        "6a0142aeb7f947cda228e9c43725e7d9": {
          "model_module": "@jupyter-widgets/controls",
          "model_name": "HTMLModel",
          "model_module_version": "1.5.0",
          "state": {
            "_dom_classes": [],
            "_model_module": "@jupyter-widgets/controls",
            "_model_module_version": "1.5.0",
            "_model_name": "HTMLModel",
            "_view_count": null,
            "_view_module": "@jupyter-widgets/controls",
            "_view_module_version": "1.5.0",
            "_view_name": "HTMLView",
            "description": "",
            "description_tooltip": null,
            "layout": "IPY_MODEL_08ead0007c6e4566804896ce1afc4b68",
            "placeholder": "​",
            "style": "IPY_MODEL_e3b68e983adf42acb33293fec5dec222",
            "value": " 1/1 [00:50&lt;00:00, 50.62s/it]"
          }
        },
        "c37bb4ab7b494ee08ac12e2a0f28204d": {
          "model_module": "@jupyter-widgets/base",
          "model_name": "LayoutModel",
          "model_module_version": "1.2.0",
          "state": {
            "_model_module": "@jupyter-widgets/base",
            "_model_module_version": "1.2.0",
            "_model_name": "LayoutModel",
            "_view_count": null,
            "_view_module": "@jupyter-widgets/base",
            "_view_module_version": "1.2.0",
            "_view_name": "LayoutView",
            "align_content": null,
            "align_items": null,
            "align_self": null,
            "border": null,
            "bottom": null,
            "display": null,
            "flex": null,
            "flex_flow": null,
            "grid_area": null,
            "grid_auto_columns": null,
            "grid_auto_flow": null,
            "grid_auto_rows": null,
            "grid_column": null,
            "grid_gap": null,
            "grid_row": null,
            "grid_template_areas": null,
            "grid_template_columns": null,
            "grid_template_rows": null,
            "height": null,
            "justify_content": null,
            "justify_items": null,
            "left": null,
            "margin": null,
            "max_height": null,
            "max_width": null,
            "min_height": null,
            "min_width": null,
            "object_fit": null,
            "object_position": null,
            "order": null,
            "overflow": null,
            "overflow_x": null,
            "overflow_y": null,
            "padding": null,
            "right": null,
            "top": null,
            "visibility": null,
            "width": null
          }
        },
        "437637bfb5be4f9abbb7b6073a9dae17": {
          "model_module": "@jupyter-widgets/base",
          "model_name": "LayoutModel",
          "model_module_version": "1.2.0",
          "state": {
            "_model_module": "@jupyter-widgets/base",
            "_model_module_version": "1.2.0",
            "_model_name": "LayoutModel",
            "_view_count": null,
            "_view_module": "@jupyter-widgets/base",
            "_view_module_version": "1.2.0",
            "_view_name": "LayoutView",
            "align_content": null,
            "align_items": null,
            "align_self": null,
            "border": null,
            "bottom": null,
            "display": null,
            "flex": null,
            "flex_flow": null,
            "grid_area": null,
            "grid_auto_columns": null,
            "grid_auto_flow": null,
            "grid_auto_rows": null,
            "grid_column": null,
            "grid_gap": null,
            "grid_row": null,
            "grid_template_areas": null,
            "grid_template_columns": null,
            "grid_template_rows": null,
            "height": null,
            "justify_content": null,
            "justify_items": null,
            "left": null,
            "margin": null,
            "max_height": null,
            "max_width": null,
            "min_height": null,
            "min_width": null,
            "object_fit": null,
            "object_position": null,
            "order": null,
            "overflow": null,
            "overflow_x": null,
            "overflow_y": null,
            "padding": null,
            "right": null,
            "top": null,
            "visibility": null,
            "width": null
          }
        },
        "467d09e418014eb89785d4c8f29fc755": {
          "model_module": "@jupyter-widgets/controls",
          "model_name": "DescriptionStyleModel",
          "model_module_version": "1.5.0",
          "state": {
            "_model_module": "@jupyter-widgets/controls",
            "_model_module_version": "1.5.0",
            "_model_name": "DescriptionStyleModel",
            "_view_count": null,
            "_view_module": "@jupyter-widgets/base",
            "_view_module_version": "1.2.0",
            "_view_name": "StyleView",
            "description_width": ""
          }
        },
        "bf5a450a30c84ce0ac1433d92d4ace18": {
          "model_module": "@jupyter-widgets/base",
          "model_name": "LayoutModel",
          "model_module_version": "1.2.0",
          "state": {
            "_model_module": "@jupyter-widgets/base",
            "_model_module_version": "1.2.0",
            "_model_name": "LayoutModel",
            "_view_count": null,
            "_view_module": "@jupyter-widgets/base",
            "_view_module_version": "1.2.0",
            "_view_name": "LayoutView",
            "align_content": null,
            "align_items": null,
            "align_self": null,
            "border": null,
            "bottom": null,
            "display": null,
            "flex": null,
            "flex_flow": null,
            "grid_area": null,
            "grid_auto_columns": null,
            "grid_auto_flow": null,
            "grid_auto_rows": null,
            "grid_column": null,
            "grid_gap": null,
            "grid_row": null,
            "grid_template_areas": null,
            "grid_template_columns": null,
            "grid_template_rows": null,
            "height": null,
            "justify_content": null,
            "justify_items": null,
            "left": null,
            "margin": null,
            "max_height": null,
            "max_width": null,
            "min_height": null,
            "min_width": null,
            "object_fit": null,
            "object_position": null,
            "order": null,
            "overflow": null,
            "overflow_x": null,
            "overflow_y": null,
            "padding": null,
            "right": null,
            "top": null,
            "visibility": null,
            "width": null
          }
        },
        "80dc06acddf2419f9b26408e981cc3d6": {
          "model_module": "@jupyter-widgets/controls",
          "model_name": "ProgressStyleModel",
          "model_module_version": "1.5.0",
          "state": {
            "_model_module": "@jupyter-widgets/controls",
            "_model_module_version": "1.5.0",
            "_model_name": "ProgressStyleModel",
            "_view_count": null,
            "_view_module": "@jupyter-widgets/base",
            "_view_module_version": "1.2.0",
            "_view_name": "StyleView",
            "bar_color": null,
            "description_width": ""
          }
        },
        "08ead0007c6e4566804896ce1afc4b68": {
          "model_module": "@jupyter-widgets/base",
          "model_name": "LayoutModel",
          "model_module_version": "1.2.0",
          "state": {
            "_model_module": "@jupyter-widgets/base",
            "_model_module_version": "1.2.0",
            "_model_name": "LayoutModel",
            "_view_count": null,
            "_view_module": "@jupyter-widgets/base",
            "_view_module_version": "1.2.0",
            "_view_name": "LayoutView",
            "align_content": null,
            "align_items": null,
            "align_self": null,
            "border": null,
            "bottom": null,
            "display": null,
            "flex": null,
            "flex_flow": null,
            "grid_area": null,
            "grid_auto_columns": null,
            "grid_auto_flow": null,
            "grid_auto_rows": null,
            "grid_column": null,
            "grid_gap": null,
            "grid_row": null,
            "grid_template_areas": null,
            "grid_template_columns": null,
            "grid_template_rows": null,
            "height": null,
            "justify_content": null,
            "justify_items": null,
            "left": null,
            "margin": null,
            "max_height": null,
            "max_width": null,
            "min_height": null,
            "min_width": null,
            "object_fit": null,
            "object_position": null,
            "order": null,
            "overflow": null,
            "overflow_x": null,
            "overflow_y": null,
            "padding": null,
            "right": null,
            "top": null,
            "visibility": null,
            "width": null
          }
        },
        "e3b68e983adf42acb33293fec5dec222": {
          "model_module": "@jupyter-widgets/controls",
          "model_name": "DescriptionStyleModel",
          "model_module_version": "1.5.0",
          "state": {
            "_model_module": "@jupyter-widgets/controls",
            "_model_module_version": "1.5.0",
            "_model_name": "DescriptionStyleModel",
            "_view_count": null,
            "_view_module": "@jupyter-widgets/base",
            "_view_module_version": "1.2.0",
            "_view_name": "StyleView",
            "description_width": ""
          }
        },
        "e2a2617351414389bea37710692dd785": {
          "model_module": "@jupyter-widgets/controls",
          "model_name": "HBoxModel",
          "model_module_version": "1.5.0",
          "state": {
            "_dom_classes": [],
            "_model_module": "@jupyter-widgets/controls",
            "_model_module_version": "1.5.0",
            "_model_name": "HBoxModel",
            "_view_count": null,
            "_view_module": "@jupyter-widgets/controls",
            "_view_module_version": "1.5.0",
            "_view_name": "HBoxView",
            "box_style": "",
            "children": [
              "IPY_MODEL_ba3fef6498d3418992d027c906e3acbc",
              "IPY_MODEL_eb6b33f7d9804b9facfa933d8951715e",
              "IPY_MODEL_ddc1415949e24fbaa328e32a97c89e9c"
            ],
            "layout": "IPY_MODEL_91143e9220e5491ba1b3c99c50824c83"
          }
        },
        "ba3fef6498d3418992d027c906e3acbc": {
          "model_module": "@jupyter-widgets/controls",
          "model_name": "HTMLModel",
          "model_module_version": "1.5.0",
          "state": {
            "_dom_classes": [],
            "_model_module": "@jupyter-widgets/controls",
            "_model_module_version": "1.5.0",
            "_model_name": "HTMLModel",
            "_view_count": null,
            "_view_module": "@jupyter-widgets/controls",
            "_view_module_version": "1.5.0",
            "_view_name": "HTMLView",
            "description": "",
            "description_tooltip": null,
            "layout": "IPY_MODEL_b848efbac404453abd8208203562b8d4",
            "placeholder": "​",
            "style": "IPY_MODEL_156f6284d1494d499b0704f9bcb0e8a9",
            "value": "pytorch_model.bin: 100%"
          }
        },
        "eb6b33f7d9804b9facfa933d8951715e": {
          "model_module": "@jupyter-widgets/controls",
          "model_name": "FloatProgressModel",
          "model_module_version": "1.5.0",
          "state": {
            "_dom_classes": [],
            "_model_module": "@jupyter-widgets/controls",
            "_model_module_version": "1.5.0",
            "_model_name": "FloatProgressModel",
            "_view_count": null,
            "_view_module": "@jupyter-widgets/controls",
            "_view_module_version": "1.5.0",
            "_view_name": "ProgressView",
            "bar_style": "success",
            "description": "",
            "description_tooltip": null,
            "layout": "IPY_MODEL_a9b13173694b4080a37886444ab745c8",
            "max": 2236953377,
            "min": 0,
            "orientation": "horizontal",
            "style": "IPY_MODEL_8e3a8c3268e445e5b41baf732790124b",
            "value": 2236953377
          }
        },
        "ddc1415949e24fbaa328e32a97c89e9c": {
          "model_module": "@jupyter-widgets/controls",
          "model_name": "HTMLModel",
          "model_module_version": "1.5.0",
          "state": {
            "_dom_classes": [],
            "_model_module": "@jupyter-widgets/controls",
            "_model_module_version": "1.5.0",
            "_model_name": "HTMLModel",
            "_view_count": null,
            "_view_module": "@jupyter-widgets/controls",
            "_view_module_version": "1.5.0",
            "_view_name": "HTMLView",
            "description": "",
            "description_tooltip": null,
            "layout": "IPY_MODEL_d05d294ccaa0485089cb77a9e9d262fb",
            "placeholder": "​",
            "style": "IPY_MODEL_961a1046b1bc488aa2b006bfae0d498b",
            "value": " 2.24G/2.24G [00:50&lt;00:00, 53.9MB/s]"
          }
        },
        "91143e9220e5491ba1b3c99c50824c83": {
          "model_module": "@jupyter-widgets/base",
          "model_name": "LayoutModel",
          "model_module_version": "1.2.0",
          "state": {
            "_model_module": "@jupyter-widgets/base",
            "_model_module_version": "1.2.0",
            "_model_name": "LayoutModel",
            "_view_count": null,
            "_view_module": "@jupyter-widgets/base",
            "_view_module_version": "1.2.0",
            "_view_name": "LayoutView",
            "align_content": null,
            "align_items": null,
            "align_self": null,
            "border": null,
            "bottom": null,
            "display": null,
            "flex": null,
            "flex_flow": null,
            "grid_area": null,
            "grid_auto_columns": null,
            "grid_auto_flow": null,
            "grid_auto_rows": null,
            "grid_column": null,
            "grid_gap": null,
            "grid_row": null,
            "grid_template_areas": null,
            "grid_template_columns": null,
            "grid_template_rows": null,
            "height": null,
            "justify_content": null,
            "justify_items": null,
            "left": null,
            "margin": null,
            "max_height": null,
            "max_width": null,
            "min_height": null,
            "min_width": null,
            "object_fit": null,
            "object_position": null,
            "order": null,
            "overflow": null,
            "overflow_x": null,
            "overflow_y": null,
            "padding": null,
            "right": null,
            "top": null,
            "visibility": null,
            "width": null
          }
        },
        "b848efbac404453abd8208203562b8d4": {
          "model_module": "@jupyter-widgets/base",
          "model_name": "LayoutModel",
          "model_module_version": "1.2.0",
          "state": {
            "_model_module": "@jupyter-widgets/base",
            "_model_module_version": "1.2.0",
            "_model_name": "LayoutModel",
            "_view_count": null,
            "_view_module": "@jupyter-widgets/base",
            "_view_module_version": "1.2.0",
            "_view_name": "LayoutView",
            "align_content": null,
            "align_items": null,
            "align_self": null,
            "border": null,
            "bottom": null,
            "display": null,
            "flex": null,
            "flex_flow": null,
            "grid_area": null,
            "grid_auto_columns": null,
            "grid_auto_flow": null,
            "grid_auto_rows": null,
            "grid_column": null,
            "grid_gap": null,
            "grid_row": null,
            "grid_template_areas": null,
            "grid_template_columns": null,
            "grid_template_rows": null,
            "height": null,
            "justify_content": null,
            "justify_items": null,
            "left": null,
            "margin": null,
            "max_height": null,
            "max_width": null,
            "min_height": null,
            "min_width": null,
            "object_fit": null,
            "object_position": null,
            "order": null,
            "overflow": null,
            "overflow_x": null,
            "overflow_y": null,
            "padding": null,
            "right": null,
            "top": null,
            "visibility": null,
            "width": null
          }
        },
        "156f6284d1494d499b0704f9bcb0e8a9": {
          "model_module": "@jupyter-widgets/controls",
          "model_name": "DescriptionStyleModel",
          "model_module_version": "1.5.0",
          "state": {
            "_model_module": "@jupyter-widgets/controls",
            "_model_module_version": "1.5.0",
            "_model_name": "DescriptionStyleModel",
            "_view_count": null,
            "_view_module": "@jupyter-widgets/base",
            "_view_module_version": "1.2.0",
            "_view_name": "StyleView",
            "description_width": ""
          }
        },
        "a9b13173694b4080a37886444ab745c8": {
          "model_module": "@jupyter-widgets/base",
          "model_name": "LayoutModel",
          "model_module_version": "1.2.0",
          "state": {
            "_model_module": "@jupyter-widgets/base",
            "_model_module_version": "1.2.0",
            "_model_name": "LayoutModel",
            "_view_count": null,
            "_view_module": "@jupyter-widgets/base",
            "_view_module_version": "1.2.0",
            "_view_name": "LayoutView",
            "align_content": null,
            "align_items": null,
            "align_self": null,
            "border": null,
            "bottom": null,
            "display": null,
            "flex": null,
            "flex_flow": null,
            "grid_area": null,
            "grid_auto_columns": null,
            "grid_auto_flow": null,
            "grid_auto_rows": null,
            "grid_column": null,
            "grid_gap": null,
            "grid_row": null,
            "grid_template_areas": null,
            "grid_template_columns": null,
            "grid_template_rows": null,
            "height": null,
            "justify_content": null,
            "justify_items": null,
            "left": null,
            "margin": null,
            "max_height": null,
            "max_width": null,
            "min_height": null,
            "min_width": null,
            "object_fit": null,
            "object_position": null,
            "order": null,
            "overflow": null,
            "overflow_x": null,
            "overflow_y": null,
            "padding": null,
            "right": null,
            "top": null,
            "visibility": null,
            "width": null
          }
        },
        "8e3a8c3268e445e5b41baf732790124b": {
          "model_module": "@jupyter-widgets/controls",
          "model_name": "ProgressStyleModel",
          "model_module_version": "1.5.0",
          "state": {
            "_model_module": "@jupyter-widgets/controls",
            "_model_module_version": "1.5.0",
            "_model_name": "ProgressStyleModel",
            "_view_count": null,
            "_view_module": "@jupyter-widgets/base",
            "_view_module_version": "1.2.0",
            "_view_name": "StyleView",
            "bar_color": null,
            "description_width": ""
          }
        },
        "d05d294ccaa0485089cb77a9e9d262fb": {
          "model_module": "@jupyter-widgets/base",
          "model_name": "LayoutModel",
          "model_module_version": "1.2.0",
          "state": {
            "_model_module": "@jupyter-widgets/base",
            "_model_module_version": "1.2.0",
            "_model_name": "LayoutModel",
            "_view_count": null,
            "_view_module": "@jupyter-widgets/base",
            "_view_module_version": "1.2.0",
            "_view_name": "LayoutView",
            "align_content": null,
            "align_items": null,
            "align_self": null,
            "border": null,
            "bottom": null,
            "display": null,
            "flex": null,
            "flex_flow": null,
            "grid_area": null,
            "grid_auto_columns": null,
            "grid_auto_flow": null,
            "grid_auto_rows": null,
            "grid_column": null,
            "grid_gap": null,
            "grid_row": null,
            "grid_template_areas": null,
            "grid_template_columns": null,
            "grid_template_rows": null,
            "height": null,
            "justify_content": null,
            "justify_items": null,
            "left": null,
            "margin": null,
            "max_height": null,
            "max_width": null,
            "min_height": null,
            "min_width": null,
            "object_fit": null,
            "object_position": null,
            "order": null,
            "overflow": null,
            "overflow_x": null,
            "overflow_y": null,
            "padding": null,
            "right": null,
            "top": null,
            "visibility": null,
            "width": null
          }
        },
        "961a1046b1bc488aa2b006bfae0d498b": {
          "model_module": "@jupyter-widgets/controls",
          "model_name": "DescriptionStyleModel",
          "model_module_version": "1.5.0",
          "state": {
            "_model_module": "@jupyter-widgets/controls",
            "_model_module_version": "1.5.0",
            "_model_name": "DescriptionStyleModel",
            "_view_count": null,
            "_view_module": "@jupyter-widgets/base",
            "_view_module_version": "1.2.0",
            "_view_name": "StyleView",
            "description_width": ""
          }
        }
      }
    }
  },
  "nbformat": 4,
  "nbformat_minor": 0
}